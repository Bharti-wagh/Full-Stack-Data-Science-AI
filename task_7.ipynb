{
  "nbformat": 4,
  "nbformat_minor": 0,
  "metadata": {
    "colab": {
      "provenance": []
    },
    "kernelspec": {
      "name": "python3",
      "display_name": "Python 3"
    },
    "language_info": {
      "name": "python"
    }
  },
  "cells": [
    {
      "cell_type": "markdown",
      "source": [
        "**Tuple Creation**"
      ],
      "metadata": {
        "id": "ABZSHU7goJdE"
      }
    },
    {
      "cell_type": "code",
      "execution_count": 1,
      "metadata": {
        "id": "lZvG49wAnE6e"
      },
      "outputs": [],
      "source": [
        "tup1 = () # Empty tuple"
      ]
    },
    {
      "cell_type": "code",
      "source": [
        "tup2 = (10,30,60) #tuple of integers numbers"
      ],
      "metadata": {
        "id": "RR7y4V7noG9m"
      },
      "execution_count": 2,
      "outputs": []
    },
    {
      "cell_type": "code",
      "source": [
        "tup3=(10.77,30.66,60.89) #tuple of float numbers"
      ],
      "metadata": {
        "id": "1-G6zXU_oHAR"
      },
      "execution_count": 4,
      "outputs": []
    },
    {
      "cell_type": "code",
      "source": [
        "tup4 = ('one', 'two', \"three\") #tuple of strings"
      ],
      "metadata": {
        "id": "pdXiL1xOoHCs"
      },
      "execution_count": 5,
      "outputs": []
    },
    {
      "cell_type": "code",
      "source": [
        "tup5 = ('Asif', 25, (50, 100), (150, 90)) # Nested tuples"
      ],
      "metadata": {
        "id": "BlR-bnPOoHFI"
      },
      "execution_count": 6,
      "outputs": []
    },
    {
      "cell_type": "code",
      "source": [
        "tup6=(100, 'Asif', 17.765) #Tuple of mixed data types"
      ],
      "metadata": {
        "id": "7v9KPaJioHHn"
      },
      "execution_count": 8,
      "outputs": []
    },
    {
      "cell_type": "code",
      "source": [
        "tup7=('Asif', 25, [50, 100], [150, 90], {'John' 'David'}, (99,22,33))"
      ],
      "metadata": {
        "id": "6bn0K9UJoHKM"
      },
      "execution_count": 11,
      "outputs": []
    },
    {
      "cell_type": "code",
      "source": [
        "len (tup7) #Length of List"
      ],
      "metadata": {
        "colab": {
          "base_uri": "https://localhost:8080/"
        },
        "id": "v4PPPCgFoHMi",
        "outputId": "3798e507-e315-4214-bdae-a8b61a7c9093"
      },
      "execution_count": 12,
      "outputs": [
        {
          "output_type": "execute_result",
          "data": {
            "text/plain": [
              "6"
            ]
          },
          "metadata": {},
          "execution_count": 12
        }
      ]
    },
    {
      "cell_type": "markdown",
      "source": [
        "**Tuple Indexing**"
      ],
      "metadata": {
        "id": "IQ-bJPu7orQ0"
      }
    },
    {
      "cell_type": "code",
      "source": [
        "tup2[0] # Retreive first element of the tuple"
      ],
      "metadata": {
        "colab": {
          "base_uri": "https://localhost:8080/"
        },
        "id": "BPP9wD2doHPO",
        "outputId": "fca366e4-8eea-494e-d782-4a7d3370c2d3"
      },
      "execution_count": 13,
      "outputs": [
        {
          "output_type": "execute_result",
          "data": {
            "text/plain": [
              "10"
            ]
          },
          "metadata": {},
          "execution_count": 13
        }
      ]
    },
    {
      "cell_type": "code",
      "source": [
        "tup4[0] # Retreive first element of the tuple"
      ],
      "metadata": {
        "colab": {
          "base_uri": "https://localhost:8080/",
          "height": 36
        },
        "id": "GT5CPFHXoHSQ",
        "outputId": "320c7d3d-bd13-48d4-c933-585c9a89f252"
      },
      "execution_count": 14,
      "outputs": [
        {
          "output_type": "execute_result",
          "data": {
            "text/plain": [
              "'one'"
            ],
            "application/vnd.google.colaboratory.intrinsic+json": {
              "type": "string"
            }
          },
          "metadata": {},
          "execution_count": 14
        }
      ]
    },
    {
      "cell_type": "code",
      "source": [
        "tup4[0][0] # Nested indexing Access the first character of the first tuple element."
      ],
      "metadata": {
        "colab": {
          "base_uri": "https://localhost:8080/",
          "height": 36
        },
        "id": "4VjBm7U1oHUq",
        "outputId": "6938bffc-85b8-4bc9-de48-0dbc62c1b899"
      },
      "execution_count": 16,
      "outputs": [
        {
          "output_type": "execute_result",
          "data": {
            "text/plain": [
              "'o'"
            ],
            "application/vnd.google.colaboratory.intrinsic+json": {
              "type": "string"
            }
          },
          "metadata": {},
          "execution_count": 16
        }
      ]
    },
    {
      "cell_type": "code",
      "source": [
        "tup4[-1] # Last item of the tuple"
      ],
      "metadata": {
        "colab": {
          "base_uri": "https://localhost:8080/",
          "height": 36
        },
        "id": "u1052lxnoHXV",
        "outputId": "9b23063b-7ead-4259-b6b5-9dd328044c63"
      },
      "execution_count": 17,
      "outputs": [
        {
          "output_type": "execute_result",
          "data": {
            "text/plain": [
              "'three'"
            ],
            "application/vnd.google.colaboratory.intrinsic+json": {
              "type": "string"
            }
          },
          "metadata": {},
          "execution_count": 17
        }
      ]
    },
    {
      "cell_type": "markdown",
      "source": [
        "**Tuple Slicing**"
      ],
      "metadata": {
        "id": "QlE5zYhkqXJH"
      }
    },
    {
      "cell_type": "code",
      "source": [
        "mytuple=('one','two', 'three', 'four' 'five', 'six' 'seven' 'eight')"
      ],
      "metadata": {
        "id": "TtWLWO_qoHZ7"
      },
      "execution_count": 19,
      "outputs": []
    },
    {
      "cell_type": "code",
      "source": [
        "mytuple [0:3] # Return all items from Oth to 3rd index Location"
      ],
      "metadata": {
        "colab": {
          "base_uri": "https://localhost:8080/"
        },
        "id": "ZMq5NKCtoHc6",
        "outputId": "e3e57f78-f5d7-4e50-ab0a-2c2cb1422c7c"
      },
      "execution_count": 20,
      "outputs": [
        {
          "output_type": "execute_result",
          "data": {
            "text/plain": [
              "('one', 'two', 'three')"
            ]
          },
          "metadata": {},
          "execution_count": 20
        }
      ]
    },
    {
      "cell_type": "code",
      "source": [
        "mytuple [2:5] # List all items from 2nd to 5th index Location"
      ],
      "metadata": {
        "colab": {
          "base_uri": "https://localhost:8080/"
        },
        "id": "rJpAM0lroHgN",
        "outputId": "2398c69c-5e82-4bb7-fbd7-effeaee7ea0b"
      },
      "execution_count": 21,
      "outputs": [
        {
          "output_type": "execute_result",
          "data": {
            "text/plain": [
              "('three', 'fourfive', 'sixseveneight')"
            ]
          },
          "metadata": {},
          "execution_count": 21
        }
      ]
    },
    {
      "cell_type": "code",
      "source": [
        "mytuple [:3] # Return first three items"
      ],
      "metadata": {
        "colab": {
          "base_uri": "https://localhost:8080/"
        },
        "id": "xK3kZbpXqxsO",
        "outputId": "030ccbc1-2dc6-4604-b883-ee7b61e2518c"
      },
      "execution_count": 22,
      "outputs": [
        {
          "output_type": "execute_result",
          "data": {
            "text/plain": [
              "('one', 'two', 'three')"
            ]
          },
          "metadata": {},
          "execution_count": 22
        }
      ]
    },
    {
      "cell_type": "code",
      "source": [
        "mytuple [:2] # Return first two items"
      ],
      "metadata": {
        "colab": {
          "base_uri": "https://localhost:8080/"
        },
        "id": "pLZukG6-qxvB",
        "outputId": "32258396-7681-4c78-efee-16d81186c0ef"
      },
      "execution_count": 23,
      "outputs": [
        {
          "output_type": "execute_result",
          "data": {
            "text/plain": [
              "('one', 'two')"
            ]
          },
          "metadata": {},
          "execution_count": 23
        }
      ]
    },
    {
      "cell_type": "code",
      "source": [
        "mytuple [-3:] # Return Last three items"
      ],
      "metadata": {
        "colab": {
          "base_uri": "https://localhost:8080/"
        },
        "id": "XOXpU3pLqxxr",
        "outputId": "a5ff1c26-ab04-47b5-843b-7b80e871829b"
      },
      "execution_count": 24,
      "outputs": [
        {
          "output_type": "execute_result",
          "data": {
            "text/plain": [
              "('three', 'fourfive', 'sixseveneight')"
            ]
          },
          "metadata": {},
          "execution_count": 24
        }
      ]
    },
    {
      "cell_type": "code",
      "source": [
        "mytuple [-2:] # Return Last two items"
      ],
      "metadata": {
        "colab": {
          "base_uri": "https://localhost:8080/"
        },
        "id": "nqIEmoCpqx0K",
        "outputId": "a25d7643-57ef-48e9-d366-3b8109f4b492"
      },
      "execution_count": 25,
      "outputs": [
        {
          "output_type": "execute_result",
          "data": {
            "text/plain": [
              "('fourfive', 'sixseveneight')"
            ]
          },
          "metadata": {},
          "execution_count": 25
        }
      ]
    },
    {
      "cell_type": "code",
      "source": [
        "mytuple [-1] # Return Last item of the tuple"
      ],
      "metadata": {
        "colab": {
          "base_uri": "https://localhost:8080/",
          "height": 36
        },
        "id": "dlpc-NXpqx2s",
        "outputId": "24807945-e3a3-40de-9dd5-dcd1dbd189d9"
      },
      "execution_count": 26,
      "outputs": [
        {
          "output_type": "execute_result",
          "data": {
            "text/plain": [
              "'sixseveneight'"
            ],
            "application/vnd.google.colaboratory.intrinsic+json": {
              "type": "string"
            }
          },
          "metadata": {},
          "execution_count": 26
        }
      ]
    },
    {
      "cell_type": "code",
      "source": [
        "mytuple[:] # Return whole tuple"
      ],
      "metadata": {
        "colab": {
          "base_uri": "https://localhost:8080/"
        },
        "id": "OcusqQInqx49",
        "outputId": "d4af5797-23a2-488c-ba28-e18560570fe2"
      },
      "execution_count": 27,
      "outputs": [
        {
          "output_type": "execute_result",
          "data": {
            "text/plain": [
              "('one', 'two', 'three', 'fourfive', 'sixseveneight')"
            ]
          },
          "metadata": {},
          "execution_count": 27
        }
      ]
    },
    {
      "cell_type": "markdown",
      "source": [
        "**Remove & Change Items**"
      ],
      "metadata": {
        "id": "nr_Lh-cBq_mn"
      }
    },
    {
      "cell_type": "code",
      "source": [
        "mytuple"
      ],
      "metadata": {
        "colab": {
          "base_uri": "https://localhost:8080/"
        },
        "id": "bFz1yZFdqx8W",
        "outputId": "456cf450-24a8-4734-c6e6-5bc6b60c6640"
      },
      "execution_count": 28,
      "outputs": [
        {
          "output_type": "execute_result",
          "data": {
            "text/plain": [
              "('one', 'two', 'three', 'fourfive', 'sixseveneight')"
            ]
          },
          "metadata": {},
          "execution_count": 28
        }
      ]
    },
    {
      "cell_type": "code",
      "source": [
        "del mytuple[0] # Tuples are immutable which means we can't DELETE tuple items"
      ],
      "metadata": {
        "colab": {
          "base_uri": "https://localhost:8080/",
          "height": 141
        },
        "id": "T4NA_KhcrCk8",
        "outputId": "5ee08f51-c239-48c5-baa7-91acbec23677"
      },
      "execution_count": 31,
      "outputs": [
        {
          "output_type": "error",
          "ename": "TypeError",
          "evalue": "'tuple' object doesn't support item deletion",
          "traceback": [
            "\u001b[0;31m---------------------------------------------------------------------------\u001b[0m",
            "\u001b[0;31mTypeError\u001b[0m                                 Traceback (most recent call last)",
            "\u001b[0;32m/tmp/ipython-input-1192444942.py\u001b[0m in \u001b[0;36m<cell line: 0>\u001b[0;34m()\u001b[0m\n\u001b[0;32m----> 1\u001b[0;31m \u001b[0;32mdel\u001b[0m \u001b[0mmytuple\u001b[0m\u001b[0;34m[\u001b[0m\u001b[0;36m0\u001b[0m\u001b[0;34m]\u001b[0m \u001b[0;31m# Tuples are immutable which means we can't DELETE tuple items\u001b[0m\u001b[0;34m\u001b[0m\u001b[0;34m\u001b[0m\u001b[0m\n\u001b[0m",
            "\u001b[0;31mTypeError\u001b[0m: 'tuple' object doesn't support item deletion"
          ]
        }
      ]
    },
    {
      "cell_type": "code",
      "source": [
        "mytuple [0] = 1 # Tuples are immutable which means we can't CHANGE tuple items"
      ],
      "metadata": {
        "colab": {
          "base_uri": "https://localhost:8080/",
          "height": 141
        },
        "id": "2aIm6pB-rCng",
        "outputId": "ed3a5ac8-75e2-46ff-fc4b-0b7b02a93150"
      },
      "execution_count": 32,
      "outputs": [
        {
          "output_type": "error",
          "ename": "TypeError",
          "evalue": "'tuple' object does not support item assignment",
          "traceback": [
            "\u001b[0;31m---------------------------------------------------------------------------\u001b[0m",
            "\u001b[0;31mTypeError\u001b[0m                                 Traceback (most recent call last)",
            "\u001b[0;32m/tmp/ipython-input-3610892553.py\u001b[0m in \u001b[0;36m<cell line: 0>\u001b[0;34m()\u001b[0m\n\u001b[0;32m----> 1\u001b[0;31m \u001b[0mmytuple\u001b[0m \u001b[0;34m[\u001b[0m\u001b[0;36m0\u001b[0m\u001b[0;34m]\u001b[0m \u001b[0;34m=\u001b[0m \u001b[0;36m1\u001b[0m \u001b[0;31m# Tuples are immutable which means we can't CHANGE tuple items\u001b[0m\u001b[0;34m\u001b[0m\u001b[0;34m\u001b[0m\u001b[0m\n\u001b[0m",
            "\u001b[0;31mTypeError\u001b[0m: 'tuple' object does not support item assignment"
          ]
        }
      ]
    },
    {
      "cell_type": "code",
      "source": [
        "del mytuple # Deleting entire tuple object is possible"
      ],
      "metadata": {
        "id": "jTd_o1PvrCqM"
      },
      "execution_count": 33,
      "outputs": []
    },
    {
      "cell_type": "markdown",
      "source": [
        "**Loop through a tuple**"
      ],
      "metadata": {
        "id": "F_NYjoYprp5q"
      }
    },
    {
      "cell_type": "code",
      "source": [
        "mytuple=('one', 'two', 'three', 'four', 'five', 'six', 'seven', 'eight')"
      ],
      "metadata": {
        "id": "vghRu2k2rCtH"
      },
      "execution_count": 35,
      "outputs": []
    },
    {
      "cell_type": "code",
      "source": [
        "mytuple"
      ],
      "metadata": {
        "colab": {
          "base_uri": "https://localhost:8080/"
        },
        "id": "xPAkNqn4rCvx",
        "outputId": "c2978c13-fcef-4589-b008-a16fbbafc5c7"
      },
      "execution_count": 36,
      "outputs": [
        {
          "output_type": "execute_result",
          "data": {
            "text/plain": [
              "('one', 'two', 'three', 'four', 'five', 'six', 'seven', 'eight')"
            ]
          },
          "metadata": {},
          "execution_count": 36
        }
      ]
    },
    {
      "cell_type": "code",
      "source": [
        "for i in mytuple:\n",
        "  print(i)"
      ],
      "metadata": {
        "colab": {
          "base_uri": "https://localhost:8080/"
        },
        "id": "wE8TGOO0rCyb",
        "outputId": "241ab429-0f08-45eb-daa1-4cf3cfcb8539"
      },
      "execution_count": 38,
      "outputs": [
        {
          "output_type": "stream",
          "name": "stdout",
          "text": [
            "one\n",
            "two\n",
            "three\n",
            "four\n",
            "five\n",
            "six\n",
            "seven\n",
            "eight\n"
          ]
        }
      ]
    },
    {
      "cell_type": "code",
      "source": [
        "for i in enumerate (mytuple):\n",
        "  print(i)"
      ],
      "metadata": {
        "colab": {
          "base_uri": "https://localhost:8080/"
        },
        "id": "2_CmBZe8rC1K",
        "outputId": "590ec8ad-0870-44e0-efbe-57f9e8cce254"
      },
      "execution_count": 39,
      "outputs": [
        {
          "output_type": "stream",
          "name": "stdout",
          "text": [
            "(0, 'one')\n",
            "(1, 'two')\n",
            "(2, 'three')\n",
            "(3, 'four')\n",
            "(4, 'five')\n",
            "(5, 'six')\n",
            "(6, 'seven')\n",
            "(7, 'eight')\n"
          ]
        }
      ]
    },
    {
      "cell_type": "markdown",
      "source": [
        "**Tuple Membership**"
      ],
      "metadata": {
        "id": "GToSKqrasT6F"
      }
    },
    {
      "cell_type": "code",
      "source": [
        "mytuple"
      ],
      "metadata": {
        "colab": {
          "base_uri": "https://localhost:8080/"
        },
        "id": "-mE1uYT2rC3-",
        "outputId": "b6ca299d-24a4-4bba-88cb-8581fdf96c17"
      },
      "execution_count": 40,
      "outputs": [
        {
          "output_type": "execute_result",
          "data": {
            "text/plain": [
              "('one', 'two', 'three', 'four', 'five', 'six', 'seven', 'eight')"
            ]
          },
          "metadata": {},
          "execution_count": 40
        }
      ]
    },
    {
      "cell_type": "code",
      "source": [
        "'one' in mytuple # Check if 'one' exist in the List"
      ],
      "metadata": {
        "colab": {
          "base_uri": "https://localhost:8080/"
        },
        "id": "dqjENCqurC6U",
        "outputId": "69d8dab9-9cc4-42a2-fcaa-28944aaa710f"
      },
      "execution_count": 41,
      "outputs": [
        {
          "output_type": "execute_result",
          "data": {
            "text/plain": [
              "True"
            ]
          },
          "metadata": {},
          "execution_count": 41
        }
      ]
    },
    {
      "cell_type": "code",
      "source": [
        "'ten' in mytuple # Check if 'ten' exist in the List"
      ],
      "metadata": {
        "colab": {
          "base_uri": "https://localhost:8080/"
        },
        "id": "jDYGvRbVrC92",
        "outputId": "1cc5e524-6987-450d-8cad-0d0d68a472db"
      },
      "execution_count": 42,
      "outputs": [
        {
          "output_type": "execute_result",
          "data": {
            "text/plain": [
              "False"
            ]
          },
          "metadata": {},
          "execution_count": 42
        }
      ]
    },
    {
      "cell_type": "code",
      "source": [
        "if 'three' in mytuple: # Check if 'three' exist in the list\n",
        "  print('Three is present in the tuple')\n",
        "else:\n",
        "  print('Three is not present in the tuple')"
      ],
      "metadata": {
        "colab": {
          "base_uri": "https://localhost:8080/"
        },
        "id": "FIsjoSfqsfql",
        "outputId": "2e9f3c08-c56a-4b82-9a7b-4b80c60a9496"
      },
      "execution_count": 43,
      "outputs": [
        {
          "output_type": "stream",
          "name": "stdout",
          "text": [
            "Three is present in the tuple\n"
          ]
        }
      ]
    },
    {
      "cell_type": "code",
      "source": [
        "if 'eleven' in mytuple: # Check if 'eleven' exist in the list\n",
        "  print('eleven is present in the tuple')\n",
        "else:\n",
        "  print('eleven is not present in the tuple')"
      ],
      "metadata": {
        "colab": {
          "base_uri": "https://localhost:8080/"
        },
        "id": "oSGtswsasftD",
        "outputId": "47f2db3f-f3ff-4bc1-eeb4-78228d15694e"
      },
      "execution_count": 44,
      "outputs": [
        {
          "output_type": "stream",
          "name": "stdout",
          "text": [
            "eleven is not present in the tuple\n"
          ]
        }
      ]
    },
    {
      "cell_type": "markdown",
      "source": [
        "**Index Position**"
      ],
      "metadata": {
        "id": "GJ69nEV9s2Gw"
      }
    },
    {
      "cell_type": "code",
      "source": [
        "mytuple"
      ],
      "metadata": {
        "colab": {
          "base_uri": "https://localhost:8080/"
        },
        "id": "tgFv2HEXsfvR",
        "outputId": "4023d65b-9d7b-4e7f-ae3d-5ddeb88c5c24"
      },
      "execution_count": 45,
      "outputs": [
        {
          "output_type": "execute_result",
          "data": {
            "text/plain": [
              "('one', 'two', 'three', 'four', 'five', 'six', 'seven', 'eight')"
            ]
          },
          "metadata": {},
          "execution_count": 45
        }
      ]
    },
    {
      "cell_type": "code",
      "source": [
        "mytuple.index('one')# Index of first element equal to 'one'"
      ],
      "metadata": {
        "colab": {
          "base_uri": "https://localhost:8080/"
        },
        "id": "jyQ2OcN4sfxs",
        "outputId": "349177e9-bc03-4cac-ad23-f3bcce9d17ac"
      },
      "execution_count": 47,
      "outputs": [
        {
          "output_type": "execute_result",
          "data": {
            "text/plain": [
              "0"
            ]
          },
          "metadata": {},
          "execution_count": 47
        }
      ]
    },
    {
      "cell_type": "code",
      "source": [
        "mytuple.index('five') # Index of first element equal to 'five'"
      ],
      "metadata": {
        "colab": {
          "base_uri": "https://localhost:8080/"
        },
        "id": "QKjXQ7nDsf0M",
        "outputId": "fc37e424-3d4e-4409-a6d5-6d261a645266"
      },
      "execution_count": 48,
      "outputs": [
        {
          "output_type": "execute_result",
          "data": {
            "text/plain": [
              "4"
            ]
          },
          "metadata": {},
          "execution_count": 48
        }
      ]
    },
    {
      "cell_type": "code",
      "source": [
        "mytuple"
      ],
      "metadata": {
        "colab": {
          "base_uri": "https://localhost:8080/"
        },
        "id": "CjUU5Rm-sf2Y",
        "outputId": "70dd0ca3-d166-4b3e-8c93-7b8bd0959bee"
      },
      "execution_count": 50,
      "outputs": [
        {
          "output_type": "execute_result",
          "data": {
            "text/plain": [
              "('one', 'two', 'three', 'four', 'five', 'six', 'seven', 'eight')"
            ]
          },
          "metadata": {},
          "execution_count": 50
        }
      ]
    },
    {
      "cell_type": "code",
      "source": [
        "mytuple.index('one') # Index of first element equal to 'one'"
      ],
      "metadata": {
        "colab": {
          "base_uri": "https://localhost:8080/"
        },
        "id": "FjvRYURDsf52",
        "outputId": "bdd46b8d-95ac-4081-b29d-2d14a735fe03"
      },
      "execution_count": 52,
      "outputs": [
        {
          "output_type": "execute_result",
          "data": {
            "text/plain": [
              "0"
            ]
          },
          "metadata": {},
          "execution_count": 52
        }
      ]
    },
    {
      "cell_type": "markdown",
      "source": [
        "**Sorting**"
      ],
      "metadata": {
        "id": "FjHuqES1uQlI"
      }
    },
    {
      "cell_type": "code",
      "source": [
        "mytuple1=(43,67,99,12,6,90,67)"
      ],
      "metadata": {
        "id": "dlmgcqF9uNbU"
      },
      "execution_count": 54,
      "outputs": []
    },
    {
      "cell_type": "code",
      "source": [
        "sorted(mytuple1) # Returns a new sorted List and doesn't change original tuple"
      ],
      "metadata": {
        "colab": {
          "base_uri": "https://localhost:8080/"
        },
        "id": "iZUOkkX9uNeQ",
        "outputId": "742de766-f9c0-48d8-8366-3c1f51b2e074"
      },
      "execution_count": 55,
      "outputs": [
        {
          "output_type": "execute_result",
          "data": {
            "text/plain": [
              "[6, 12, 43, 67, 67, 90, 99]"
            ]
          },
          "metadata": {},
          "execution_count": 55
        }
      ]
    },
    {
      "cell_type": "code",
      "source": [
        "sorted(mytuple1,reverse=True) # Sort in descending order"
      ],
      "metadata": {
        "colab": {
          "base_uri": "https://localhost:8080/"
        },
        "id": "a84FeaR8uNhk",
        "outputId": "fb236e2f-b2f7-4ad6-e041-3c1b318d2d11"
      },
      "execution_count": 57,
      "outputs": [
        {
          "output_type": "execute_result",
          "data": {
            "text/plain": [
              "[99, 90, 67, 67, 43, 12, 6]"
            ]
          },
          "metadata": {},
          "execution_count": 57
        }
      ]
    },
    {
      "cell_type": "markdown",
      "source": [
        "**count**"
      ],
      "metadata": {
        "id": "b-8ITeuCvhKj"
      }
    },
    {
      "cell_type": "code",
      "source": [
        "mytuple1.count(67)"
      ],
      "metadata": {
        "colab": {
          "base_uri": "https://localhost:8080/"
        },
        "id": "moMYITUyvm5m",
        "outputId": "c3fe32c2-d2af-4479-ac98-55e710ee4dd9"
      },
      "execution_count": 58,
      "outputs": [
        {
          "output_type": "execute_result",
          "data": {
            "text/plain": [
              "2"
            ]
          },
          "metadata": {},
          "execution_count": 58
        }
      ]
    },
    {
      "cell_type": "code",
      "source": [
        "mytuple1.count(90)"
      ],
      "metadata": {
        "colab": {
          "base_uri": "https://localhost:8080/"
        },
        "id": "Ai-HHnqAvm74",
        "outputId": "7ccbd908-ff1e-4355-8028-90117ba14548"
      },
      "execution_count": 61,
      "outputs": [
        {
          "output_type": "execute_result",
          "data": {
            "text/plain": [
              "1"
            ]
          },
          "metadata": {},
          "execution_count": 61
        }
      ]
    }
  ]
}