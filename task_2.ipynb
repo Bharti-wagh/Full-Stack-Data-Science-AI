{
 "cells": [
  {
   "cell_type": "code",
   "execution_count": 1,
   "id": "c6dc69ef-9d13-4438-ba94-fcfed111a118",
   "metadata": {},
   "outputs": [
    {
     "data": {
      "text/plain": [
       "int"
      ]
     },
     "execution_count": 1,
     "metadata": {},
     "output_type": "execute_result"
    }
   ],
   "source": [
    "a= 5\n",
    "type(a)"
   ]
  },
  {
   "cell_type": "code",
   "execution_count": 3,
   "id": "127a36ab-e9c1-4e38-b0ea-6d8adf8fdc5f",
   "metadata": {},
   "outputs": [
    {
     "data": {
      "text/plain": [
       "float"
      ]
     },
     "execution_count": 3,
     "metadata": {},
     "output_type": "execute_result"
    }
   ],
   "source": [
    "a=2.2\n",
    "type(a)"
   ]
  },
  {
   "cell_type": "code",
   "execution_count": 3,
   "id": "47ab53bb-de31-4e11-88d1-da1acde6ac8a",
   "metadata": {},
   "outputs": [
    {
     "data": {
      "text/plain": [
       "'3.12.7 | packaged by Anaconda, Inc. | (main, Oct  4 2024, 13:17:27) [MSC v.1929 64 bit (AMD64)]'"
      ]
     },
     "execution_count": 3,
     "metadata": {},
     "output_type": "execute_result"
    }
   ],
   "source": [
    "import sys\n",
    "sys.version"
   ]
  },
  {
   "cell_type": "markdown",
   "id": "d1753682-c10e-408c-a009-a9dac3d3dc9e",
   "metadata": {},
   "source": [
    "27th"
   ]
  },
  {
   "cell_type": "markdown",
   "id": "78b1a7fa-870d-4440-b3dd-45e10c40dcbb",
   "metadata": {},
   "source": [
    "## learn Data types \n",
    "INTEGER\n",
    "FLOAT\n",
    "BOOLEEAN\n",
    "COMPLEEX\n",
    "STRING"
   ]
  },
  {
   "cell_type": "code",
   "execution_count": 8,
   "id": "dfb2acb7-6d33-4f73-a083-739e1b25ce80",
   "metadata": {},
   "outputs": [
    {
     "data": {
      "text/plain": [
       "25"
      ]
     },
     "execution_count": 8,
     "metadata": {},
     "output_type": "execute_result"
    }
   ],
   "source": [
    "i=25\n",
    "i"
   ]
  },
  {
   "cell_type": "code",
   "execution_count": 10,
   "id": "da36f4d6-48a8-44ba-8031-4bfd4665c5b3",
   "metadata": {},
   "outputs": [
    {
     "data": {
      "text/plain": [
       "int"
      ]
     },
     "execution_count": 10,
     "metadata": {},
     "output_type": "execute_result"
    }
   ],
   "source": [
    "type(i) #without decimal called INTEGER"
   ]
  },
  {
   "cell_type": "code",
   "execution_count": 12,
   "id": "dc6dd592-3368-40de-b334-e5066a01e35f",
   "metadata": {},
   "outputs": [
    {
     "name": "stdout",
     "output_type": "stream",
     "text": [
      "<class 'int'>\n"
     ]
    }
   ],
   "source": [
    "print(type (i))"
   ]
  },
  {
   "cell_type": "code",
   "execution_count": 14,
   "id": "bd1acb3a-dc36-4791-bd1e-f55832a83a18",
   "metadata": {},
   "outputs": [
    {
     "data": {
      "text/plain": [
       "109.5"
      ]
     },
     "execution_count": 14,
     "metadata": {},
     "output_type": "execute_result"
    }
   ],
   "source": [
    "petrol =109.50\n",
    "petrol"
   ]
  },
  {
   "cell_type": "code",
   "execution_count": 16,
   "id": "0293b2b7-1e7a-497a-b1bb-eadc9c86d94f",
   "metadata": {},
   "outputs": [
    {
     "data": {
      "text/plain": [
       "float"
      ]
     },
     "execution_count": 16,
     "metadata": {},
     "output_type": "execute_result"
    }
   ],
   "source": [
    "type(petrol) #with decimal calleed FLOAT"
   ]
  },
  {
   "cell_type": "code",
   "execution_count": 18,
   "id": "39089943-c74b-4c46-9cf2-c191df0d8810",
   "metadata": {},
   "outputs": [
    {
     "name": "stdout",
     "output_type": "stream",
     "text": [
      "<class 'float'>\n"
     ]
    }
   ],
   "source": [
    "print(type(petrol))"
   ]
  },
  {
   "cell_type": "code",
   "execution_count": 24,
   "id": "bdf63f03-74b0-4969-851d-8451f3708413",
   "metadata": {},
   "outputs": [
    {
     "data": {
      "text/plain": [
       "True"
      ]
     },
     "execution_count": 24,
     "metadata": {},
     "output_type": "execute_result"
    }
   ],
   "source": [
    "b=True\n",
    "b"
   ]
  },
  {
   "cell_type": "code",
   "execution_count": 26,
   "id": "95f338b1-4782-4607-b567-c72549b4a11d",
   "metadata": {},
   "outputs": [
    {
     "data": {
      "text/plain": [
       "False"
      ]
     },
     "execution_count": 26,
     "metadata": {},
     "output_type": "execute_result"
    }
   ],
   "source": [
    "b1=False\n",
    "b1"
   ]
  },
  {
   "cell_type": "code",
   "execution_count": 85,
   "id": "13c1250f-d948-487b-a8b4-396149ff60cc",
   "metadata": {},
   "outputs": [
    {
     "name": "stdout",
     "output_type": "stream",
     "text": [
      "<class 'bool'>\n",
      "<class 'bool'>\n"
     ]
    }
   ],
   "source": [
    "print(type(b)) #boolean True and False value contain\n",
    "print(type(b1)) "
   ]
  },
  {
   "cell_type": "code",
   "execution_count": 28,
   "id": "42b91f5e-d7cb-4d8e-8f35-4787f598c7bf",
   "metadata": {},
   "outputs": [
    {
     "data": {
      "text/plain": [
       "1"
      ]
     },
     "execution_count": 28,
     "metadata": {},
     "output_type": "execute_result"
    }
   ],
   "source": [
    "# True referring 1 valur and False reffering 0 values\n",
    "True+False #1+0"
   ]
  },
  {
   "cell_type": "code",
   "execution_count": 32,
   "id": "62d01bc8-1d95-417e-bc02-7730bdf39d38",
   "metadata": {},
   "outputs": [
    {
     "data": {
      "text/plain": [
       "2"
      ]
     },
     "execution_count": 32,
     "metadata": {},
     "output_type": "execute_result"
    }
   ],
   "source": [
    "True+True #1+1"
   ]
  },
  {
   "cell_type": "code",
   "execution_count": 34,
   "id": "d72211a6-41f1-494e-a245-3dade976103e",
   "metadata": {},
   "outputs": [
    {
     "data": {
      "text/plain": [
       "0"
      ]
     },
     "execution_count": 34,
     "metadata": {},
     "output_type": "execute_result"
    }
   ],
   "source": [
    "False+False #0+0"
   ]
  },
  {
   "cell_type": "code",
   "execution_count": 40,
   "id": "eeaf16b7-0db1-46f0-9cf8-bba33af80ee4",
   "metadata": {},
   "outputs": [
    {
     "data": {
      "text/plain": [
       "1"
      ]
     },
     "execution_count": 40,
     "metadata": {},
     "output_type": "execute_result"
    }
   ],
   "source": [
    "True - False"
   ]
  },
  {
   "cell_type": "code",
   "execution_count": 42,
   "id": "db4ac188-240d-4c81-b594-72aed13ecc93",
   "metadata": {},
   "outputs": [
    {
     "data": {
      "text/plain": [
       "0"
      ]
     },
     "execution_count": 42,
     "metadata": {},
     "output_type": "execute_result"
    }
   ],
   "source": [
    "True * False"
   ]
  },
  {
   "cell_type": "code",
   "execution_count": 44,
   "id": "bd2d64d4-c489-43eb-82b5-4ba55fa3cca8",
   "metadata": {},
   "outputs": [
    {
     "data": {
      "text/plain": [
       "0.0"
      ]
     },
     "execution_count": 44,
     "metadata": {},
     "output_type": "execute_result"
    }
   ],
   "source": [
    "False/True"
   ]
  },
  {
   "cell_type": "code",
   "execution_count": 46,
   "id": "893ccdd9-8144-46cf-bb8f-9a53c2ba0d94",
   "metadata": {},
   "outputs": [
    {
     "data": {
      "text/plain": [
       "0"
      ]
     },
     "execution_count": 46,
     "metadata": {},
     "output_type": "execute_result"
    }
   ],
   "source": [
    "False//True"
   ]
  },
  {
   "cell_type": "code",
   "execution_count": 48,
   "id": "2afb1323-228a-41a7-baa8-8c5f3b1f9127",
   "metadata": {},
   "outputs": [
    {
     "ename": "ZeroDivisionError",
     "evalue": "division by zero",
     "output_type": "error",
     "traceback": [
      "\u001b[1;31m---------------------------------------------------------------------------\u001b[0m",
      "\u001b[1;31mZeroDivisionError\u001b[0m                         Traceback (most recent call last)",
      "Cell \u001b[1;32mIn[48], line 1\u001b[0m\n\u001b[1;32m----> 1\u001b[0m \u001b[38;5;28;01mTrue\u001b[39;00m\u001b[38;5;241m/\u001b[39m\u001b[38;5;28;01mFalse\u001b[39;00m\n",
      "\u001b[1;31mZeroDivisionError\u001b[0m: division by zero"
     ]
    }
   ],
   "source": [
    "True/False #division by zero"
   ]
  },
  {
   "cell_type": "code",
   "execution_count": 50,
   "id": "7e60f12e-2ee3-4606-893b-14c97c1d7100",
   "metadata": {},
   "outputs": [
    {
     "data": {
      "text/plain": [
       "(10+20j)"
      ]
     },
     "execution_count": 50,
     "metadata": {},
     "output_type": "execute_result"
    }
   ],
   "source": [
    "c1=10+20j\n",
    "c1"
   ]
  },
  {
   "cell_type": "code",
   "execution_count": 52,
   "id": "7892da36-f133-462f-b8ee-59c3f10570dd",
   "metadata": {},
   "outputs": [
    {
     "data": {
      "text/plain": [
       "complex"
      ]
     },
     "execution_count": 52,
     "metadata": {},
     "output_type": "execute_result"
    }
   ],
   "source": [
    "type(c1)"
   ]
  },
  {
   "cell_type": "code",
   "execution_count": 54,
   "id": "1ab595c1-9d92-449e-8355-1a991f0eb412",
   "metadata": {},
   "outputs": [
    {
     "data": {
      "text/plain": [
       "10.0"
      ]
     },
     "execution_count": 54,
     "metadata": {},
     "output_type": "execute_result"
    }
   ],
   "source": [
    "c1.real #used when print real value"
   ]
  },
  {
   "cell_type": "code",
   "execution_count": 58,
   "id": "3903a76a-1b5c-42cb-9cb4-b1bf32179be7",
   "metadata": {},
   "outputs": [
    {
     "data": {
      "text/plain": [
       "20.0"
      ]
     },
     "execution_count": 58,
     "metadata": {},
     "output_type": "execute_result"
    }
   ],
   "source": [
    "c1.imag #used when print imaginary value"
   ]
  },
  {
   "cell_type": "code",
   "execution_count": 64,
   "id": "047705fa-55d0-46e1-88cd-f3e17b7b7937",
   "metadata": {},
   "outputs": [
    {
     "data": {
      "text/plain": [
       "(20+30j)"
      ]
     },
     "execution_count": 64,
     "metadata": {},
     "output_type": "execute_result"
    }
   ],
   "source": [
    "c2 =20+30j\n",
    "c2"
   ]
  },
  {
   "cell_type": "code",
   "execution_count": 68,
   "id": "15f3caa6-68db-4c5a-ab60-f3cfa9c2ef48",
   "metadata": {},
   "outputs": [
    {
     "name": "stdout",
     "output_type": "stream",
     "text": [
      "(10+20j)\n",
      "(20+30j)\n"
     ]
    }
   ],
   "source": [
    "print(c1)\n",
    "print(c2)"
   ]
  },
  {
   "cell_type": "code",
   "execution_count": 70,
   "id": "634b22d7-7b61-4f64-bc80-3a175af6cc93",
   "metadata": {},
   "outputs": [
    {
     "data": {
      "text/plain": [
       "(30+50j)"
      ]
     },
     "execution_count": 70,
     "metadata": {},
     "output_type": "execute_result"
    }
   ],
   "source": [
    "c1+c2"
   ]
  },
  {
   "cell_type": "code",
   "execution_count": 72,
   "id": "b2fbe466-9f14-4c3d-aa54-1fe1ef7f1932",
   "metadata": {},
   "outputs": [
    {
     "data": {
      "text/plain": [
       "(-10-10j)"
      ]
     },
     "execution_count": 72,
     "metadata": {},
     "output_type": "execute_result"
    }
   ],
   "source": [
    "c1-c2"
   ]
  },
  {
   "cell_type": "code",
   "execution_count": 74,
   "id": "eef851ca-a1f2-4e68-86e1-f7d8d320a77b",
   "metadata": {},
   "outputs": [
    {
     "data": {
      "text/plain": [
       "(10+10j)"
      ]
     },
     "execution_count": 74,
     "metadata": {},
     "output_type": "execute_result"
    }
   ],
   "source": [
    "c2-c1"
   ]
  },
  {
   "cell_type": "code",
   "execution_count": 76,
   "id": "92ef6ace-06f1-4fe7-81d4-53113f92145a",
   "metadata": {},
   "outputs": [
    {
     "data": {
      "text/plain": [
       "(-400+700j)"
      ]
     },
     "execution_count": 76,
     "metadata": {},
     "output_type": "execute_result"
    }
   ],
   "source": [
    "c1*c2"
   ]
  },
  {
   "cell_type": "markdown",
   "id": "9cf02305-9407-4d54-afe5-83ab799ce82c",
   "metadata": {},
   "source": [
    "STRING"
   ]
  },
  {
   "cell_type": "code",
   "execution_count": 8,
   "id": "6aa4091e-e7b9-40fe-950b-0fca7cd57b9f",
   "metadata": {},
   "outputs": [
    {
     "data": {
      "text/plain": [
       "'Data Science'"
      ]
     },
     "execution_count": 8,
     "metadata": {},
     "output_type": "execute_result"
    }
   ],
   "source": [
    "s='Data Science'\n",
    "s"
   ]
  },
  {
   "cell_type": "code",
   "execution_count": 93,
   "id": "41efe3bb-5627-495d-a53b-3dd77f58530f",
   "metadata": {},
   "outputs": [
    {
     "data": {
      "text/plain": [
       "'BHARTI'"
      ]
     },
     "execution_count": 93,
     "metadata": {},
     "output_type": "execute_result"
    }
   ],
   "source": [
    "s1=\"BHARTI\"\n",
    "s1"
   ]
  },
  {
   "cell_type": "code",
   "execution_count": 99,
   "id": "6b81291a-52e3-4c60-870f-833e5fd42d63",
   "metadata": {},
   "outputs": [
    {
     "data": {
      "text/plain": [
       "' BHARTI\\n   WAGH'"
      ]
     },
     "execution_count": 99,
     "metadata": {},
     "output_type": "execute_result"
    }
   ],
   "source": [
    "s2=\"\"\" BHARTI\n",
    "   WAGH\"\"\"\n",
    "s2"
   ]
  },
  {
   "cell_type": "markdown",
   "id": "9373c950-f59d-4fdd-ba47-a21ae2a626ad",
   "metadata": {},
   "source": [
    " String Slicing"
   ]
  },
  {
   "cell_type": "code",
   "execution_count": 10,
   "id": "2341bcca-c008-4235-804b-4cb0ac88ff05",
   "metadata": {},
   "outputs": [
    {
     "data": {
      "text/plain": [
       "'Data Science'"
      ]
     },
     "execution_count": 10,
     "metadata": {},
     "output_type": "execute_result"
    }
   ],
   "source": [
    "s"
   ]
  },
  {
   "cell_type": "code",
   "execution_count": 12,
   "id": "2713827d-769a-4432-a09c-83a7827b1ce9",
   "metadata": {},
   "outputs": [
    {
     "data": {
      "text/plain": [
       "'Data Science'"
      ]
     },
     "execution_count": 12,
     "metadata": {},
     "output_type": "execute_result"
    }
   ],
   "source": [
    "s[:]"
   ]
  },
  {
   "cell_type": "code",
   "execution_count": 14,
   "id": "0898b530-5231-4182-82ef-36b4a2ec06fe",
   "metadata": {},
   "outputs": [
    {
     "data": {
      "text/plain": [
       "'a'"
      ]
     },
     "execution_count": 14,
     "metadata": {},
     "output_type": "execute_result"
    }
   ],
   "source": [
    "s[1] #FORWARD INDEXing"
   ]
  },
  {
   "cell_type": "markdown",
   "id": "71823df2-c35f-4293-bc08-d47e2e9ec475",
   "metadata": {},
   "source": [
    "PYTHON INDEX \n",
    "1) FORWARD INDEX --> LEFT TO RIGHT ==> BEGINS WITH 0\n",
    "2) BACKWARD INDEX --> RIGHT TO LEFT ==>BEGINS WITH 1"
   ]
  },
  {
   "cell_type": "code",
   "execution_count": 16,
   "id": "d06617a7-c9e8-469b-9678-cf6cea5b3662",
   "metadata": {},
   "outputs": [
    {
     "data": {
      "text/plain": [
       "'e'"
      ]
     },
     "execution_count": 16,
     "metadata": {},
     "output_type": "execute_result"
    }
   ],
   "source": [
    "s[-4] #BACKWARD INDEXing"
   ]
  },
  {
   "cell_type": "code",
   "execution_count": 123,
   "id": "51fa03b9-0fc2-4cc0-86ab-458255d1e632",
   "metadata": {},
   "outputs": [
    {
     "data": {
      "text/plain": [
       "True"
      ]
     },
     "execution_count": 123,
     "metadata": {},
     "output_type": "execute_result"
    }
   ],
   "source": [
    "b"
   ]
  },
  {
   "cell_type": "code",
   "execution_count": 125,
   "id": "a81c24c1-c328-4039-80fd-9afccbd6367a",
   "metadata": {},
   "outputs": [
    {
     "data": {
      "text/plain": [
       "1"
      ]
     },
     "execution_count": 125,
     "metadata": {},
     "output_type": "execute_result"
    }
   ],
   "source": [
    "int(True) #convrting booleean to int"
   ]
  },
  {
   "cell_type": "code",
   "execution_count": 127,
   "id": "46cd439f-388b-4ce6-bf1e-2d6c595d957d",
   "metadata": {},
   "outputs": [
    {
     "data": {
      "text/plain": [
       "0"
      ]
     },
     "execution_count": 127,
     "metadata": {},
     "output_type": "execute_result"
    }
   ],
   "source": [
    "int(False)"
   ]
  },
  {
   "cell_type": "code",
   "execution_count": 20,
   "id": "c387bf6d-c4f1-4ed9-a35c-bc128f665912",
   "metadata": {},
   "outputs": [
    {
     "data": {
      "text/plain": [
       "'ata Sci'"
      ]
     },
     "execution_count": 20,
     "metadata": {},
     "output_type": "execute_result"
    }
   ],
   "source": [
    "s[1:8]"
   ]
  },
  {
   "cell_type": "code",
   "execution_count": 24,
   "id": "236bdced-ba19-4a19-8d95-c079855b2ec4",
   "metadata": {},
   "outputs": [
    {
     "ename": "IndexError",
     "evalue": "string index out of range",
     "output_type": "error",
     "traceback": [
      "\u001b[1;31m---------------------------------------------------------------------------\u001b[0m",
      "\u001b[1;31mIndexError\u001b[0m                                Traceback (most recent call last)",
      "Cell \u001b[1;32mIn[24], line 1\u001b[0m\n\u001b[1;32m----> 1\u001b[0m s[\u001b[38;5;241m22\u001b[39m]\n",
      "\u001b[1;31mIndexError\u001b[0m: string index out of range"
     ]
    }
   ],
   "source": [
    "s[22] #IndexError - string index out of range"
   ]
  },
  {
   "cell_type": "code",
   "execution_count": 26,
   "id": "6813c824-ccaf-4aac-9f56-673291ff3013",
   "metadata": {},
   "outputs": [
    {
     "data": {
      "text/plain": [
       "12"
      ]
     },
     "execution_count": 26,
     "metadata": {},
     "output_type": "execute_result"
    }
   ],
   "source": [
    "len(s)"
   ]
  },
  {
   "cell_type": "markdown",
   "id": "b6949619-6f16-415c-ac08-b646281c6690",
   "metadata": {},
   "source": [
    "PYTHON DATA TYPES ARE COMPLETED"
   ]
  },
  {
   "cell_type": "markdown",
   "id": "1e0062ab-00e9-45c6-b36b-30fd985f51e1",
   "metadata": {},
   "source": [
    "## OPEERATORS\n",
    "1) ARITHMATIC OPERATOR\n",
    "2) ASSIGNMENT OPERATOR\n",
    "3) RELATIONAL OPERATOR\n",
    "4) LOGICAL OPERATOR\n",
    "5) UNARY OPERATOR"
   ]
  },
  {
   "cell_type": "markdown",
   "id": "79aa9a6e-5e38-4e1a-aa37-183972822397",
   "metadata": {},
   "source": [
    "1) ARITHMATIC OPERATOR (+,-,*,/,**,//,%)"
   ]
  },
  {
   "cell_type": "code",
   "execution_count": 134,
   "id": "88ff96fb-d2b7-41b0-9422-fff145c97ea7",
   "metadata": {},
   "outputs": [
    {
     "name": "stdout",
     "output_type": "stream",
     "text": [
      "5\n"
     ]
    }
   ],
   "source": [
    "print(3+2) #ADDITION(+)"
   ]
  },
  {
   "cell_type": "code",
   "execution_count": 138,
   "id": "7b4aaedb-badf-456c-9af0-cab6e96e22e7",
   "metadata": {},
   "outputs": [
    {
     "name": "stdout",
     "output_type": "stream",
     "text": [
      "1\n"
     ]
    }
   ],
   "source": [
    "print(3-2) #SUBTRACTION(-)"
   ]
  },
  {
   "cell_type": "code",
   "execution_count": 140,
   "id": "334902ee-4282-40a3-b9e2-d980c0685354",
   "metadata": {},
   "outputs": [
    {
     "name": "stdout",
     "output_type": "stream",
     "text": [
      "6\n"
     ]
    }
   ],
   "source": [
    "print(3*2) #MULTIPLICATION(*)"
   ]
  },
  {
   "cell_type": "code",
   "execution_count": 142,
   "id": "075bfe3d-06d3-418b-9ea6-ac959cbdf658",
   "metadata": {},
   "outputs": [
    {
     "name": "stdout",
     "output_type": "stream",
     "text": [
      "1.5\n"
     ]
    }
   ],
   "source": [
    "print(3/2) #DIVISION(/)"
   ]
  },
  {
   "cell_type": "code",
   "execution_count": 144,
   "id": "d1a61e1a-4078-484c-9508-ee68e1b413bf",
   "metadata": {},
   "outputs": [
    {
     "name": "stdout",
     "output_type": "stream",
     "text": [
      "1\n"
     ]
    }
   ],
   "source": [
    "print(3//2) #FLOOR DIVISION OPERATOR (//)"
   ]
  },
  {
   "cell_type": "code",
   "execution_count": 3,
   "id": "1933f999-0940-4ad1-8030-9b766ba2ae6b",
   "metadata": {},
   "outputs": [
    {
     "name": "stdout",
     "output_type": "stream",
     "text": [
      "1\n"
     ]
    }
   ],
   "source": [
    "print(3%2) #MODULUS(%)"
   ]
  },
  {
   "cell_type": "code",
   "execution_count": 7,
   "id": "979413ee-6d71-492a-ba76-9af3e9bc4de3",
   "metadata": {},
   "outputs": [
    {
     "data": {
      "text/plain": [
       "9"
      ]
     },
     "execution_count": 7,
     "metadata": {},
     "output_type": "execute_result"
    }
   ],
   "source": [
    "3**2 #EXPONENTIAL(**)"
   ]
  },
  {
   "cell_type": "markdown",
   "id": "9a691a8f-16f1-478a-ae6c-fae90f8965f6",
   "metadata": {},
   "source": [
    "Task CHECKING DATA TYPES"
   ]
  },
  {
   "cell_type": "code",
   "execution_count": 10,
   "id": "6a014402-12bc-4884-9d37-c3bb497f9918",
   "metadata": {},
   "outputs": [
    {
     "name": "stdout",
     "output_type": "stream",
     "text": [
      "<class 'int'>\n"
     ]
    }
   ],
   "source": [
    "print(type(32))"
   ]
  },
  {
   "cell_type": "code",
   "execution_count": 12,
   "id": "65151ee9-7d46-40e8-8847-4f77c61a1ae5",
   "metadata": {},
   "outputs": [
    {
     "name": "stdout",
     "output_type": "stream",
     "text": [
      "<class 'float'>\n"
     ]
    }
   ],
   "source": [
    "print(type(3.14))"
   ]
  },
  {
   "cell_type": "code",
   "execution_count": 14,
   "id": "238de8a8-00e1-4e79-92c2-b649e6b08be9",
   "metadata": {},
   "outputs": [
    {
     "name": "stdout",
     "output_type": "stream",
     "text": [
      "<class 'complex'>\n"
     ]
    }
   ],
   "source": [
    "print(type(1+3j))"
   ]
  },
  {
   "cell_type": "code",
   "execution_count": 16,
   "id": "56066c36-2679-452c-a815-0ee1ea3c846b",
   "metadata": {},
   "outputs": [
    {
     "name": "stdout",
     "output_type": "stream",
     "text": [
      "<class 'str'>\n"
     ]
    }
   ],
   "source": [
    "print(type('BHARTI'))"
   ]
  },
  {
   "cell_type": "code",
   "execution_count": 18,
   "id": "067083aa-6c1e-4a89-bfd9-4140a517a7d2",
   "metadata": {},
   "outputs": [
    {
     "name": "stdout",
     "output_type": "stream",
     "text": [
      "<class 'list'>\n"
     ]
    }
   ],
   "source": [
    "print(type([1,2,3]))"
   ]
  },
  {
   "cell_type": "code",
   "execution_count": 22,
   "id": "3c62c87f-4fce-4e39-91f2-2697a7c79891",
   "metadata": {},
   "outputs": [
    {
     "name": "stdout",
     "output_type": "stream",
     "text": [
      "<class 'dict'>\n"
     ]
    }
   ],
   "source": [
    "print(type({'name':\"bharti\"}))"
   ]
  },
  {
   "cell_type": "code",
   "execution_count": 24,
   "id": "ad4c2fc0-aac9-498f-aa51-1a0f4d213975",
   "metadata": {},
   "outputs": [
    {
     "name": "stdout",
     "output_type": "stream",
     "text": [
      "<class 'set'>\n"
     ]
    }
   ],
   "source": [
    "print(type({1.1,2.2,3.3}))"
   ]
  },
  {
   "cell_type": "code",
   "execution_count": 26,
   "id": "c077f9d6-7a7f-4353-b24e-a932611e9152",
   "metadata": {},
   "outputs": [
    {
     "name": "stdout",
     "output_type": "stream",
     "text": [
      "<class 'tuple'>\n"
     ]
    }
   ],
   "source": [
    "print(type((1.1,2.2,3.3)))"
   ]
  },
  {
   "cell_type": "code",
   "execution_count": 28,
   "id": "9ab899f4-0a7c-478b-ad4b-0cfd7ff4f33d",
   "metadata": {},
   "outputs": [
    {
     "name": "stdout",
     "output_type": "stream",
     "text": [
      "<class 'bool'>\n"
     ]
    }
   ],
   "source": [
    "print(type(3==3))"
   ]
  },
  {
   "cell_type": "code",
   "execution_count": 30,
   "id": "773ce6aa-9e7c-4d94-949b-e0a8e07688c4",
   "metadata": {},
   "outputs": [
    {
     "name": "stdout",
     "output_type": "stream",
     "text": [
      "<class 'bool'>\n"
     ]
    }
   ],
   "source": [
    "print(type(3>=3))"
   ]
  },
  {
   "cell_type": "markdown",
   "id": "e16c96b4-a284-4a9f-a5fd-3f3b4a80ee5c",
   "metadata": {},
   "source": [
    "Task STRING"
   ]
  },
  {
   "cell_type": "code",
   "execution_count": 35,
   "id": "a5014b2f-4558-4151-992e-19f069d286cc",
   "metadata": {},
   "outputs": [],
   "source": [
    "LETTER=\"P\" #A STTRING COULD BE A SINGLE CHARACTEER OR BUNCH OF TEXT"
   ]
  },
  {
   "cell_type": "code",
   "execution_count": 39,
   "id": "6328830c-8367-4e6b-9db6-39cf7f6efe14",
   "metadata": {},
   "outputs": [
    {
     "name": "stdout",
     "output_type": "stream",
     "text": [
      "P\n"
     ]
    }
   ],
   "source": [
    "print(LETTER) #P"
   ]
  },
  {
   "cell_type": "code",
   "execution_count": 41,
   "id": "da9b2d60-14b2-4ad1-bc69-451c7e3e7805",
   "metadata": {},
   "outputs": [
    {
     "name": "stdout",
     "output_type": "stream",
     "text": [
      "1\n"
     ]
    }
   ],
   "source": [
    "print(len(LETTER))"
   ]
  },
  {
   "cell_type": "code",
   "execution_count": 45,
   "id": "61b13041-bed5-438a-b160-ad06a914390d",
   "metadata": {},
   "outputs": [],
   "source": [
    "greeting='Hello,world!'"
   ]
  },
  {
   "cell_type": "code",
   "execution_count": 47,
   "id": "f9178783-c618-46be-8b96-dfcf87f79bb4",
   "metadata": {},
   "outputs": [
    {
     "name": "stdout",
     "output_type": "stream",
     "text": [
      "Hello,world!\n"
     ]
    }
   ],
   "source": [
    "print(greeting)"
   ]
  },
  {
   "cell_type": "code",
   "execution_count": 55,
   "id": "1dabca82-3e9a-4cdc-acab-441a4625814f",
   "metadata": {},
   "outputs": [
    {
     "ename": "SyntaxError",
     "evalue": "incomplete input (4197464232.py, line 1)",
     "output_type": "error",
     "traceback": [
      "\u001b[1;36m  Cell \u001b[1;32mIn[55], line 1\u001b[1;36m\u001b[0m\n\u001b[1;33m    print(len((greeting))\u001b[0m\n\u001b[1;37m                         ^\u001b[0m\n\u001b[1;31mSyntaxError\u001b[0m\u001b[1;31m:\u001b[0m incomplete input\n"
     ]
    }
   ],
   "source": [
    "print(len((greeting))"
   ]
  },
  {
   "cell_type": "code",
   "execution_count": 57,
   "id": "ad19de25-2020-4581-ab65-58f3cdd72a6a",
   "metadata": {},
   "outputs": [],
   "source": [
    "sentence=\"I hope you are eenjoying 30 days of hallange\""
   ]
  },
  {
   "cell_type": "code",
   "execution_count": 59,
   "id": "42483206-4277-4b59-97f5-67d0015fbdf8",
   "metadata": {},
   "outputs": [
    {
     "name": "stdout",
     "output_type": "stream",
     "text": [
      "I hope you are eenjoying 30 days of hallange\n"
     ]
    }
   ],
   "source": [
    "print(sentence)"
   ]
  },
  {
   "cell_type": "code",
   "execution_count": 65,
   "id": "8192d6e6-8168-40c7-8ed2-44c2c2ebe30e",
   "metadata": {},
   "outputs": [],
   "source": [
    "#Multilinee string\n",
    "multiline_string=\"\"\" i am student enjoy studing.\n",
    "i ask questions to better understanding pupose\n",
    "that is why i join 30 days of python\"\"\""
   ]
  },
  {
   "cell_type": "code",
   "execution_count": 67,
   "id": "f1900c24-5b7d-4323-afcb-1047caba0400",
   "metadata": {},
   "outputs": [
    {
     "name": "stdout",
     "output_type": "stream",
     "text": [
      " i am student enjoy studing.\n",
      "i ask questions to better understanding pupose\n",
      "that is why i join 30 days of python\n"
     ]
    }
   ],
   "source": [
    "print(multiline_string)"
   ]
  },
  {
   "cell_type": "code",
   "execution_count": 69,
   "id": "b076ac2f-8dc0-4c2c-af5d-438f3bc4d577",
   "metadata": {},
   "outputs": [],
   "source": [
    "multiline_string=''' i am student enjoy studing.\n",
    "i ask questions to better understanding pupose\n",
    "that is why i join 30 days of python'''"
   ]
  },
  {
   "cell_type": "code",
   "execution_count": 71,
   "id": "61ebd357-b357-4807-90b5-c58f0f5ac257",
   "metadata": {},
   "outputs": [
    {
     "name": "stdout",
     "output_type": "stream",
     "text": [
      " i am student enjoy studing.\n",
      "i ask questions to better understanding pupose\n",
      "that is why i join 30 days of python\n"
     ]
    }
   ],
   "source": [
    "print(multiline_string)"
   ]
  },
  {
   "cell_type": "code",
   "execution_count": 137,
   "id": "9f9c60e8-3ed9-4d81-80cf-1b2ad7dcb215",
   "metadata": {},
   "outputs": [],
   "source": [
    "# String Concatenation\n",
    "first_name = 'BHARTI'\n",
    "last_name = 'WAGH'\n",
    "space = ' '\n",
    "full_name = first_name  +  space + last_name"
   ]
  },
  {
   "cell_type": "code",
   "execution_count": 139,
   "id": "079a1312-a2e9-4c7c-88c1-578776dee4e7",
   "metadata": {},
   "outputs": [
    {
     "name": "stdout",
     "output_type": "stream",
     "text": [
      "BHARTI WAGH\n"
     ]
    }
   ],
   "source": [
    "print(full_name)"
   ]
  },
  {
   "cell_type": "code",
   "execution_count": null,
   "id": "f6282857-d08e-40f8-b014-dce36f749e0e",
   "metadata": {},
   "outputs": [],
   "source": [
    "# Checking length of a string using len() builtin function"
   ]
  },
  {
   "cell_type": "code",
   "execution_count": 141,
   "id": "05b5e9e1-4517-43e8-9936-63077827447f",
   "metadata": {},
   "outputs": [
    {
     "name": "stdout",
     "output_type": "stream",
     "text": [
      "6\n",
      "4\n",
      "True\n",
      "11\n"
     ]
    }
   ],
   "source": [
    "print(len(first_name))  # 8\n",
    "print(len(last_name))   # 7\n",
    "print(len(first_name) > len(last_name)) # True\n",
    "print(len(full_name)) # 15"
   ]
  },
  {
   "cell_type": "code",
   "execution_count": 143,
   "id": "55757d61-0ac0-4607-896b-46d0b69d5157",
   "metadata": {},
   "outputs": [
    {
     "name": "stdout",
     "output_type": "stream",
     "text": [
      "P\n",
      "y\n",
      "t\n",
      "h\n",
      "o\n",
      "n\n"
     ]
    }
   ],
   "source": [
    "#### Unpacking characters \n",
    "language = 'Python'\n",
    "a,b,c,d,e,f = language # unpacking sequence characters into variables\n",
    "print(a) # P\n",
    "print(b) # y\n",
    "print(c) # t \n",
    "print(d) # h\n",
    "print(e) # o\n",
    "print(f) # n"
   ]
  },
  {
   "cell_type": "code",
   "execution_count": 145,
   "id": "ba32b393-7703-454d-a1ff-9e4680428925",
   "metadata": {},
   "outputs": [
    {
     "name": "stdout",
     "output_type": "stream",
     "text": [
      "P\n",
      "y\n",
      "n\n"
     ]
    }
   ],
   "source": [
    "# Accessing characters in strings by index\n",
    "language = 'Python'\n",
    "first_letter = language[0]\n",
    "print(first_letter) # P\n",
    "second_letter = language[1]\n",
    "print(second_letter) # y\n",
    "last_index = len(language) - 1\n",
    "last_letter = language[last_index]\n",
    "print(last_letter) # n"
   ]
  },
  {
   "cell_type": "code",
   "execution_count": 147,
   "id": "6fb13363-4ade-4870-82ec-d59c2c60c1d6",
   "metadata": {},
   "outputs": [
    {
     "name": "stdout",
     "output_type": "stream",
     "text": [
      "n\n",
      "o\n"
     ]
    }
   ],
   "source": [
    "# If we want to start from right end we can use negative indexing. -1 is the last index\n",
    "language = 'Python'\n",
    "last_letter = language[-1]\n",
    "print(last_letter) # n\n",
    "second_last = language[-2]\n",
    "print(second_last) # o"
   ]
  },
  {
   "cell_type": "code",
   "execution_count": 149,
   "id": "d3f98b39-faae-4a0f-88d8-a97b665b2b8d",
   "metadata": {},
   "outputs": [
    {
     "name": "stdout",
     "output_type": "stream",
     "text": [
      "hon\n",
      "hon\n",
      "hon\n"
     ]
    }
   ],
   "source": [
    "# Slicing\n",
    "\n",
    "language = 'Python'\n",
    "first_three = language[0:3] # starts at zero index and up to 3 but not include 3\n",
    "last_three = language[3:6]\n",
    "print(last_three) # hon\n",
    "# Another way\n",
    "last_three = language[-3:]\n",
    "print(last_three)   # hon\n",
    "last_three = language[3:]\n",
    "print(last_three)   # hon"
   ]
  },
  {
   "cell_type": "code",
   "execution_count": 151,
   "id": "690b1b15-91de-4f02-a413-23a9c24bd564",
   "metadata": {},
   "outputs": [
    {
     "name": "stdout",
     "output_type": "stream",
     "text": [
      "Pto\n"
     ]
    }
   ],
   "source": [
    "# Skipping character while splitting Python strings\n",
    "language = 'Python'\n",
    "pto = language[0:6:2] # \n",
    "print(pto) # pto"
   ]
  },
  {
   "cell_type": "code",
   "execution_count": 153,
   "id": "0de8c114-992f-4e35-9139-c9c6f157b7ae",
   "metadata": {},
   "outputs": [
    {
     "name": "stdout",
     "output_type": "stream",
     "text": [
      "I hope every one enjoying the python challenge.\n",
      "Do you ?\n",
      "Days\tTopics\tExercises\n",
      "Day 1\t3\t5\n",
      "Day 2\t3\t5\n",
      "Day 3\t3\t5\n",
      "Day 4\t3\t5\n",
      "This is a back slash  symbol (\\)\n",
      "In every programming language it starts with \"Hello, World!\"\n"
     ]
    }
   ],
   "source": [
    "# Escape sequence\n",
    "print('I hope every one enjoying the python challenge.\\nDo you ?') # line break\n",
    "print('Days\\tTopics\\tExercises')\n",
    "print('Day 1\\t3\\t5')\n",
    "print('Day 2\\t3\\t5')\n",
    "print('Day 3\\t3\\t5')\n",
    "print('Day 4\\t3\\t5')\n",
    "print('This is a back slash  symbol (\\\\)') # To write a back slash\n",
    "print('In every programming language it starts with \\\"Hello, World!\\\"')"
   ]
  },
  {
   "cell_type": "code",
   "execution_count": 155,
   "id": "6b59b1b7-3a37-4944-a7ee-2f6f9397f340",
   "metadata": {},
   "outputs": [
    {
     "name": "stdout",
     "output_type": "stream",
     "text": [
      "Thirty days of python\n"
     ]
    }
   ],
   "source": [
    "## String Methods\n",
    "# capitalize(): Converts the first character the string to Capital Letter\n",
    "\n",
    "challenge = 'thirty days of python'\n",
    "print(challenge.capitalize()) # 'Thirty days of python'"
   ]
  },
  {
   "cell_type": "code",
   "execution_count": 157,
   "id": "da2141b4-9c72-4c3e-97a5-4007b9f52e20",
   "metadata": {},
   "outputs": [
    {
     "name": "stdout",
     "output_type": "stream",
     "text": [
      "3\n",
      "1\n",
      "2\n"
     ]
    }
   ],
   "source": [
    "# count(): returns occurrences of substring in string, count(substring, start=.., end=..)\n",
    "\n",
    "challenge = 'thirty days of python'\n",
    "print(challenge.count('y')) # 3\n",
    "print(challenge.count('y', 7, 14)) # 1\n",
    "print(challenge.count('th')) # 2`"
   ]
  },
  {
   "cell_type": "code",
   "execution_count": 159,
   "id": "539a562b-3249-4eeb-8b56-486617dd422d",
   "metadata": {},
   "outputs": [
    {
     "name": "stdout",
     "output_type": "stream",
     "text": [
      "True\n",
      "False\n"
     ]
    }
   ],
   "source": [
    "# endswith(): Checks if a string ends with a specified ending\n",
    "\n",
    "challenge = 'thirty days of python'\n",
    "print(challenge.endswith('on'))   # True\n",
    "print(challenge.endswith('tion')) # False"
   ]
  },
  {
   "cell_type": "code",
   "execution_count": 161,
   "id": "89daa2cc-6e45-458d-b4ae-d11949ea51e0",
   "metadata": {},
   "outputs": [
    {
     "name": "stdout",
     "output_type": "stream",
     "text": [
      "thirty  days    of      python\n",
      "thirty    days      of        python\n"
     ]
    }
   ],
   "source": [
    "# expandtabs(): Replaces tab character with spaces, default tab size is 8. It takes tab size argument\n",
    "\n",
    "challenge = 'thirty\\tdays\\tof\\tpython'\n",
    "print(challenge.expandtabs())   # 'thirty  days    of      python'\n",
    "print(challenge.expandtabs(10)) # 'thirty    days      of        python'"
   ]
  },
  {
   "cell_type": "code",
   "execution_count": 163,
   "id": "4a82d04f-a262-487a-855b-8ce437aac039",
   "metadata": {},
   "outputs": [
    {
     "name": "stdout",
     "output_type": "stream",
     "text": [
      "5\n",
      "0\n"
     ]
    }
   ],
   "source": [
    "# find(): Returns the index of first occurrence of substring\n",
    "\n",
    "challenge = 'thirty days of python'\n",
    "print(challenge.find('y'))  # 5\n",
    "print(challenge.find('th')) # 0"
   ]
  },
  {
   "cell_type": "code",
   "execution_count": 165,
   "id": "e51f6335-6659-4c2d-b714-afcdf853420f",
   "metadata": {},
   "outputs": [
    {
     "name": "stdout",
     "output_type": "stream",
     "text": [
      "I am Asabeneh Yetayeh. I am a teacher. I live in Finland.\n"
     ]
    }
   ],
   "source": [
    "# format()\tformats string into nicer output    \n",
    "first_name = 'Asabeneh'\n",
    "last_name = 'Yetayeh'\n",
    "job = 'teacher'\n",
    "country = 'Finland'\n",
    "sentence = 'I am {} {}. I am a {}. I live in {}.'.format(first_name, last_name, job, country)\n",
    "print(sentence) # I am Asabeneh Yetayeh. I am a teacher. I live in Finland."
   ]
  },
  {
   "cell_type": "code",
   "execution_count": 167,
   "id": "97a531e3-5e23-4d24-9d10-fb6d9ec5578f",
   "metadata": {},
   "outputs": [
    {
     "name": "stdout",
     "output_type": "stream",
     "text": [
      "The area of circle with 10 is 3.14\n"
     ]
    }
   ],
   "source": [
    "radius = 10\n",
    "pi = 3.14\n",
    "area = pi # radius ## 2\n",
    "result = 'The area of circle with {} is {}'.format(str(radius), str(area))\n",
    "print(result) # The area of circle with 10 is 314.0"
   ]
  },
  {
   "cell_type": "code",
   "execution_count": 169,
   "id": "d5833bf4-b354-4606-91ad-a68bd66a7072",
   "metadata": {},
   "outputs": [
    {
     "name": "stdout",
     "output_type": "stream",
     "text": [
      "5\n",
      "0\n"
     ]
    }
   ],
   "source": [
    "# index(): Returns the index of substring\n",
    "challenge = 'thirty days of python'\n",
    "print(challenge.find('y'))  # 5\n",
    "print(challenge.find('th')) # 0"
   ]
  },
  {
   "cell_type": "code",
   "execution_count": 171,
   "id": "0614c4b5-225b-47e2-a9fa-aa026a1ad58e",
   "metadata": {},
   "outputs": [
    {
     "name": "stdout",
     "output_type": "stream",
     "text": [
      "True\n",
      "True\n",
      "False\n",
      "False\n"
     ]
    }
   ],
   "source": [
    "# isalnum(): Checks alphanumeric character\n",
    "\n",
    "challenge = 'ThirtyDaysPython'\n",
    "print(challenge.isalnum()) # True\n",
    "\n",
    "challenge = '30DaysPython'\n",
    "print(challenge.isalnum()) # True\n",
    "\n",
    "challenge = 'thirty days of python'\n",
    "print(challenge.isalnum()) # False\n",
    "\n",
    "challenge = 'thirty days of python 2019'\n",
    "print(challenge.isalnum()) # False\n"
   ]
  },
  {
   "cell_type": "code",
   "execution_count": 173,
   "id": "c122300f-4ba9-41b3-80a6-814cbeeb89e3",
   "metadata": {},
   "outputs": [
    {
     "name": "stdout",
     "output_type": "stream",
     "text": [
      "False\n",
      "False\n"
     ]
    }
   ],
   "source": [
    "# isalpha(): Checks if all characters are alphabets\n",
    "\n",
    "challenge = 'thirty days of python'\n",
    "print(challenge.isalpha()) # True\n",
    "num = '123'\n",
    "print(num.isalpha())      # False"
   ]
  },
  {
   "cell_type": "code",
   "execution_count": 175,
   "id": "e87b5bce-f8b5-46f3-92e9-db5a47b60b4e",
   "metadata": {},
   "outputs": [
    {
     "name": "stdout",
     "output_type": "stream",
     "text": [
      "5\n",
      "0\n"
     ]
    }
   ],
   "source": [
    "# isdecimal(): Checks Decimal Characters\n",
    "\n",
    "challenge = 'thirty days of python'\n",
    "print(challenge.find('y'))  # 5\n",
    "print(challenge.find('th')) # 0"
   ]
  },
  {
   "cell_type": "code",
   "execution_count": 177,
   "id": "bc5b965e-51e9-41ff-a9ad-559379771b73",
   "metadata": {},
   "outputs": [
    {
     "name": "stdout",
     "output_type": "stream",
     "text": [
      "False\n"
     ]
    },
    {
     "ename": "AttributeError",
     "evalue": "'str' object has no attribute 'digit'",
     "output_type": "error",
     "traceback": [
      "\u001b[1;31m---------------------------------------------------------------------------\u001b[0m",
      "\u001b[1;31mAttributeError\u001b[0m                            Traceback (most recent call last)",
      "Cell \u001b[1;32mIn[177], line 6\u001b[0m\n\u001b[0;32m      4\u001b[0m \u001b[38;5;28mprint\u001b[39m(challenge\u001b[38;5;241m.\u001b[39misdigit()) \u001b[38;5;66;03m# False\u001b[39;00m\n\u001b[0;32m      5\u001b[0m challenge \u001b[38;5;241m=\u001b[39m \u001b[38;5;124m'\u001b[39m\u001b[38;5;124m30\u001b[39m\u001b[38;5;124m'\u001b[39m\n\u001b[1;32m----> 6\u001b[0m \u001b[38;5;28mprint\u001b[39m(challenge\u001b[38;5;241m.\u001b[39mdigit())\n",
      "\u001b[1;31mAttributeError\u001b[0m: 'str' object has no attribute 'digit'"
     ]
    }
   ],
   "source": [
    "# isdigit(): Checks Digit Characters\n",
    "\n",
    "challenge = 'Thirty'\n",
    "print(challenge.isdigit()) # False\n",
    "challenge = '30'\n",
    "print(challenge.digit())   # True"
   ]
  },
  {
   "cell_type": "code",
   "execution_count": 179,
   "id": "fdb84634-492a-40e8-91c1-74f121cee50d",
   "metadata": {},
   "outputs": [
    {
     "name": "stdout",
     "output_type": "stream",
     "text": [
      "True\n",
      "False\n"
     ]
    }
   ],
   "source": [
    "# isdecimal():Checks decimal characters\n",
    "\n",
    "num = '10'\n",
    "print(num.isdecimal()) # True\n",
    "num = '10.5'\n",
    "print(num.isdecimal()) # False"
   ]
  },
  {
   "cell_type": "code",
   "execution_count": 181,
   "id": "26fe8a8d-c1cb-4096-af62-4b8f5ba195e8",
   "metadata": {},
   "outputs": [
    {
     "name": "stdout",
     "output_type": "stream",
     "text": [
      "False\n",
      "True\n"
     ]
    }
   ],
   "source": [
    "# isidentifier():Checks for valid identifier means it check if a string is a valid variable name\n",
    "\n",
    "challenge = '30DaysOfPython'\n",
    "print(challenge.isidentifier()) # False, because it starts with a number\n",
    "challenge = 'thirty_days_of_python'\n",
    "print(challenge.isidentifier()) # True"
   ]
  },
  {
   "cell_type": "code",
   "execution_count": 183,
   "id": "6c0056e5-a013-404e-9e21-b60f9b494d46",
   "metadata": {},
   "outputs": [
    {
     "name": "stdout",
     "output_type": "stream",
     "text": [
      "True\n",
      "False\n"
     ]
    }
   ],
   "source": [
    "# islower():Checks if all alphabets in a string are lowercase\n",
    "\n",
    "challenge = 'thirty days of python'\n",
    "print(challenge.islower()) # True\n",
    "challenge = 'Thirty days of python'\n",
    "print(challenge.islower()) # False"
   ]
  },
  {
   "cell_type": "code",
   "execution_count": 185,
   "id": "37317859-0417-45b2-95a1-c4c9ca686153",
   "metadata": {},
   "outputs": [
    {
     "name": "stdout",
     "output_type": "stream",
     "text": [
      "False\n",
      "True\n"
     ]
    }
   ],
   "source": [
    "# isupper(): returns if all characters are uppercase characters\n",
    "\n",
    "challenge = 'thirty days of python'\n",
    "print(challenge.isupper()) #  False\n",
    "challenge = 'THIRTY DAYS OF PYTHON'\n",
    "print(challenge.isupper()) # True"
   ]
  },
  {
   "cell_type": "code",
   "execution_count": 187,
   "id": "cd773964-7d3b-44ea-a543-be56ef4bd9c0",
   "metadata": {},
   "outputs": [
    {
     "name": "stdout",
     "output_type": "stream",
     "text": [
      "True\n",
      "False\n"
     ]
    }
   ],
   "source": [
    "# isnumeric():Checks numeric characters\n",
    "\n",
    "num = '10'\n",
    "print(num.isnumeric())      # True\n",
    "print('ten'.isnumeric())    # False"
   ]
  },
  {
   "cell_type": "code",
   "execution_count": 189,
   "id": "7fb1de17-750d-411d-89ef-6e0295454e2a",
   "metadata": {},
   "outputs": [
    {
     "name": "stdout",
     "output_type": "stream",
     "text": [
      "HTML#, CSS#, JavaScript#, React\n"
     ]
    }
   ],
   "source": [
    "# join(): Returns a concatenated string\n",
    "\n",
    "web_tech = ['HTML', 'CSS', 'JavaScript', 'React']\n",
    "result = '#, '.join(web_tech)\n",
    "print(result) # 'HTML# CSS# JavaScript# React'"
   ]
  },
  {
   "cell_type": "code",
   "execution_count": 191,
   "id": "f11bf85a-01d3-44d9-b319-53addf0aa93d",
   "metadata": {},
   "outputs": [
    {
     "name": "stdout",
     "output_type": "stream",
     "text": [
      " thirty days of python \n"
     ]
    }
   ],
   "source": [
    "# strip(): Removes both leading and trailing characters\n",
    "\n",
    "challenge = ' thirty days of python '\n",
    "print(challenge.strip('y')) # 5"
   ]
  },
  {
   "cell_type": "code",
   "execution_count": 193,
   "id": "65285cae-b48e-4965-bbf4-e01125f8bb23",
   "metadata": {},
   "outputs": [
    {
     "name": "stdout",
     "output_type": "stream",
     "text": [
      "thirty days of coding\n"
     ]
    }
   ],
   "source": [
    "# replace(): Replaces substring inside\n",
    "\n",
    "challenge = 'thirty days of python'\n",
    "print(challenge.replace('python', 'coding')) # 'thirty days of coding'"
   ]
  },
  {
   "cell_type": "code",
   "execution_count": 195,
   "id": "ea0e5b3d-a2c6-4728-8dad-f9a8547dfb8a",
   "metadata": {},
   "outputs": [
    {
     "name": "stdout",
     "output_type": "stream",
     "text": [
      "['thirty', 'days', 'of', 'python']\n"
     ]
    }
   ],
   "source": [
    "# split():Splits String from Left\n",
    "\n",
    "challenge = 'thirty days of python'\n",
    "print(challenge.split()) # ['thirty', 'days', 'of', 'python']"
   ]
  },
  {
   "cell_type": "code",
   "execution_count": 197,
   "id": "7f096e13-306d-49db-99a1-c0ea21a9b2db",
   "metadata": {},
   "outputs": [
    {
     "name": "stdout",
     "output_type": "stream",
     "text": [
      "Thirty Days Of Python\n"
     ]
    }
   ],
   "source": [
    "# title(): Returns a Title Cased String\n",
    "\n",
    "challenge = 'thirty days of python'\n",
    "print(challenge.title()) # Thirty Days Of Python"
   ]
  },
  {
   "cell_type": "code",
   "execution_count": 199,
   "id": "c9fbb2c8-8039-4140-be50-36d0b9dbcbfb",
   "metadata": {},
   "outputs": [
    {
     "name": "stdout",
     "output_type": "stream",
     "text": [
      "THIRTY DAYS OF PYTHON\n",
      "tHIRTY dAYS oF pYTHON\n"
     ]
    }
   ],
   "source": [
    "# swapcase(): Checks if String Starts with the Specified String\n",
    "  \n",
    "challenge = 'thirty days of python'\n",
    "print(challenge.swapcase())   # THIRTY DAYS OF PYTHON\n",
    "challenge = 'Thirty Days Of Python'\n",
    "print(challenge.swapcase())  # tHIRTY dAYS oF pYTHON"
   ]
  },
  {
   "cell_type": "code",
   "execution_count": 201,
   "id": "fb798376-e109-4171-aa04-3714246718c3",
   "metadata": {},
   "outputs": [
    {
     "name": "stdout",
     "output_type": "stream",
     "text": [
      "True\n",
      "False\n"
     ]
    }
   ],
   "source": [
    "\n",
    "# startswith(): Checks if String Starts with the Specified String\n",
    "\n",
    "challenge = 'thirty days of python'\n",
    "print(challenge.startswith('thirty')) # True\n",
    "challenge = '30 days of python'\n",
    "print(challenge.startswith('thirty')) # False"
   ]
  },
  {
   "cell_type": "code",
   "execution_count": null,
   "id": "748f3759-04a1-4e2f-8f7a-f6aa177d4aa1",
   "metadata": {},
   "outputs": [],
   "source": []
  },
  {
   "cell_type": "markdown",
   "id": "3147432f-43d9-4d07-883d-a507ea40f6e2",
   "metadata": {},
   "source": [
    "variable Task"
   ]
  },
  {
   "cell_type": "code",
   "execution_count": 76,
   "id": "3bb1338c-8110-4129-807f-7ba02102dfa4",
   "metadata": {},
   "outputs": [],
   "source": [
    "first_name = 'Bharti'"
   ]
  },
  {
   "cell_type": "code",
   "execution_count": 78,
   "id": "46ffd80b-f514-4406-8b8e-ac4855194282",
   "metadata": {},
   "outputs": [],
   "source": [
    "last_name = 'Wagh'"
   ]
  },
  {
   "cell_type": "code",
   "execution_count": 80,
   "id": "55851ec6-9bb3-4747-a9e2-83b4b0f01715",
   "metadata": {},
   "outputs": [],
   "source": [
    "country = 'HYD'"
   ]
  },
  {
   "cell_type": "code",
   "execution_count": 82,
   "id": "899d901e-2ff8-455d-a0cf-160a5b903a66",
   "metadata": {},
   "outputs": [],
   "source": [
    "city = 'TELENGANA'"
   ]
  },
  {
   "cell_type": "code",
   "execution_count": 84,
   "id": "742125a8-2c6a-4e1c-9ffb-348044cb5279",
   "metadata": {},
   "outputs": [],
   "source": [
    "age = 40087"
   ]
  },
  {
   "cell_type": "code",
   "execution_count": 86,
   "id": "0873953f-a2c1-4684-b89b-d2f0e0ab0409",
   "metadata": {},
   "outputs": [],
   "source": [
    "is_married = False"
   ]
  },
  {
   "cell_type": "code",
   "execution_count": 110,
   "id": "17492644-8e5e-4953-ad65-4a1a4e113124",
   "metadata": {},
   "outputs": [],
   "source": [
    "skills = ['HTML', 'CSS', 'JS', 'React', 'Python']"
   ]
  },
  {
   "cell_type": "code",
   "execution_count": 90,
   "id": "825aab8e-d747-421e-9f29-8c5250768189",
   "metadata": {},
   "outputs": [],
   "source": [
    "person_info = {\n",
    "    'firstname':'Asabeneh', \n",
    "    'lastname':'Yetayeh', \n",
    "    'country':'Finland',\n",
    "    'city':'Helsinki'\n",
    "    }"
   ]
  },
  {
   "cell_type": "code",
   "execution_count": 92,
   "id": "ef6a9278-c6b2-4a97-bc5c-83ab8f96db21",
   "metadata": {},
   "outputs": [
    {
     "name": "stdout",
     "output_type": "stream",
     "text": [
      "First name: Bharti\n"
     ]
    }
   ],
   "source": [
    "print('First name:', first_name)"
   ]
  },
  {
   "cell_type": "code",
   "execution_count": 94,
   "id": "aef840c8-210d-43b6-8f45-8013007253e2",
   "metadata": {},
   "outputs": [
    {
     "name": "stdout",
     "output_type": "stream",
     "text": [
      "First name length: 6\n"
     ]
    }
   ],
   "source": [
    "print('First name length:', len(first_name))"
   ]
  },
  {
   "cell_type": "code",
   "execution_count": 96,
   "id": "4af18929-2b7f-4f04-bee0-ae1f1de1725d",
   "metadata": {},
   "outputs": [
    {
     "name": "stdout",
     "output_type": "stream",
     "text": [
      "Last name:  Wagh\n"
     ]
    }
   ],
   "source": [
    "print('Last name: ', last_name)"
   ]
  },
  {
   "cell_type": "code",
   "execution_count": 98,
   "id": "a3ceb34e-6651-4222-95db-f200bf6787cf",
   "metadata": {},
   "outputs": [
    {
     "name": "stdout",
     "output_type": "stream",
     "text": [
      "Last name length:  4\n"
     ]
    }
   ],
   "source": [
    "print('Last name length: ', len(last_name))"
   ]
  },
  {
   "cell_type": "code",
   "execution_count": 100,
   "id": "b09c1312-7acc-4dde-aa38-4436ea076b38",
   "metadata": {},
   "outputs": [
    {
     "name": "stdout",
     "output_type": "stream",
     "text": [
      "Country:  HYD\n"
     ]
    }
   ],
   "source": [
    "print('Country: ', country)"
   ]
  },
  {
   "cell_type": "code",
   "execution_count": 102,
   "id": "2c35be98-e2a1-411f-8fcf-2e47eb902389",
   "metadata": {},
   "outputs": [
    {
     "name": "stdout",
     "output_type": "stream",
     "text": [
      "City:  TELENGANA\n"
     ]
    }
   ],
   "source": [
    "print('City: ', city)"
   ]
  },
  {
   "cell_type": "code",
   "execution_count": 104,
   "id": "b4bc0ec7-3f8b-4ec1-8291-8802831ce840",
   "metadata": {},
   "outputs": [
    {
     "name": "stdout",
     "output_type": "stream",
     "text": [
      "Age:  40087\n"
     ]
    }
   ],
   "source": [
    "print('Age: ', age)"
   ]
  },
  {
   "cell_type": "code",
   "execution_count": 106,
   "id": "a67bc4b0-40a3-4313-b5f6-b3c2d764c4d3",
   "metadata": {},
   "outputs": [
    {
     "name": "stdout",
     "output_type": "stream",
     "text": [
      "Married:  False\n"
     ]
    }
   ],
   "source": [
    "print('Married: ', is_married)"
   ]
  },
  {
   "cell_type": "code",
   "execution_count": 112,
   "id": "3bbeef89-e4a6-46ad-86e4-4079151e476a",
   "metadata": {},
   "outputs": [
    {
     "name": "stdout",
     "output_type": "stream",
     "text": [
      "Skills:  ['HTML', 'CSS', 'JS', 'React', 'Python']\n"
     ]
    }
   ],
   "source": [
    "print('Skills: ', skills)"
   ]
  },
  {
   "cell_type": "code",
   "execution_count": 114,
   "id": "3405e9ae-c0ee-4cbf-8d15-9b89794350d2",
   "metadata": {},
   "outputs": [
    {
     "name": "stdout",
     "output_type": "stream",
     "text": [
      "Person information:  {'firstname': 'Asabeneh', 'lastname': 'Yetayeh', 'country': 'Finland', 'city': 'Helsinki'}\n"
     ]
    }
   ],
   "source": [
    "print('Person information: ', person_info)"
   ]
  },
  {
   "cell_type": "code",
   "execution_count": 116,
   "id": "bab93544-e0d3-401c-b399-46d9a7721ac0",
   "metadata": {},
   "outputs": [],
   "source": [
    "# Declaring multiple variables in one line\n",
    "\n",
    "first_name, last_name, country, age, is_married = 'Asabeneh', 'Yetayeh', 'Helsink', 250, True"
   ]
  },
  {
   "cell_type": "code",
   "execution_count": 118,
   "id": "dc8a07f2-40c7-4ddc-bd21-87aceacfdcd0",
   "metadata": {},
   "outputs": [
    {
     "name": "stdout",
     "output_type": "stream",
     "text": [
      "Asabeneh Yetayeh Helsink 250 True\n"
     ]
    }
   ],
   "source": [
    "print(first_name, last_name, country, age, is_married)"
   ]
  },
  {
   "cell_type": "code",
   "execution_count": 120,
   "id": "c30c8227-0a2f-4233-ba8a-49de8ed11a28",
   "metadata": {},
   "outputs": [
    {
     "name": "stdout",
     "output_type": "stream",
     "text": [
      "First name: Asabeneh\n"
     ]
    }
   ],
   "source": [
    "print('First name:', first_name)"
   ]
  },
  {
   "cell_type": "code",
   "execution_count": 122,
   "id": "ed97282c-bfcf-4235-b28d-0994fc336e2a",
   "metadata": {},
   "outputs": [
    {
     "name": "stdout",
     "output_type": "stream",
     "text": [
      "Last name:  Yetayeh\n"
     ]
    }
   ],
   "source": [
    "print('Last name: ', last_name)"
   ]
  },
  {
   "cell_type": "code",
   "execution_count": 124,
   "id": "03076732-1442-49dd-8afe-a05b18c208b8",
   "metadata": {},
   "outputs": [
    {
     "name": "stdout",
     "output_type": "stream",
     "text": [
      "Country:  Helsink\n"
     ]
    }
   ],
   "source": [
    "print('Country: ', country)"
   ]
  },
  {
   "cell_type": "code",
   "execution_count": 126,
   "id": "65e911ae-6bf3-4e70-abe7-39aab7e7bf40",
   "metadata": {},
   "outputs": [
    {
     "name": "stdout",
     "output_type": "stream",
     "text": [
      "Age:  250\n"
     ]
    }
   ],
   "source": [
    "print('Age: ', age)"
   ]
  },
  {
   "cell_type": "code",
   "execution_count": 128,
   "id": "9d882b7e-03e4-42fa-a098-343f0081e32f",
   "metadata": {},
   "outputs": [
    {
     "name": "stdout",
     "output_type": "stream",
     "text": [
      "Married:  True\n"
     ]
    }
   ],
   "source": [
    "print('Married: ', is_married)"
   ]
  },
  {
   "cell_type": "markdown",
   "id": "d3b242d2-9aaf-462b-8e7d-30970a7484f8",
   "metadata": {},
   "source": [
    "Python Data Type Completed"
   ]
  },
  {
   "cell_type": "markdown",
   "id": "63b25af4-316c-4762-a2aa-044c69a04b99",
   "metadata": {},
   "source": [
    "## Type casting"
   ]
  },
  {
   "cell_type": "code",
   "execution_count": 7,
   "id": "997383dd-7fa6-4e60-a8f7-a575f0c095b5",
   "metadata": {},
   "outputs": [
    {
     "data": {
      "text/plain": [
       "2"
      ]
     },
     "execution_count": 7,
     "metadata": {},
     "output_type": "execute_result"
    }
   ],
   "source": [
    "int(2.32) #cast from float to int"
   ]
  },
  {
   "cell_type": "code",
   "execution_count": 13,
   "id": "3e61c7d3-4984-45fe-bcdf-94816ff0321b",
   "metadata": {},
   "outputs": [
    {
     "ename": "TypeError",
     "evalue": "'float' object cannot be interpreted as an integer",
     "output_type": "error",
     "traceback": [
      "\u001b[1;31m---------------------------------------------------------------------------\u001b[0m",
      "\u001b[1;31mTypeError\u001b[0m                                 Traceback (most recent call last)",
      "Cell \u001b[1;32mIn[13], line 1\u001b[0m\n\u001b[1;32m----> 1\u001b[0m \u001b[38;5;28mint\u001b[39m(\u001b[38;5;241m2.3\u001b[39m, \u001b[38;5;241m3.2\u001b[39m)\n",
      "\u001b[1;31mTypeError\u001b[0m: 'float' object cannot be interpreted as an integer"
     ]
    }
   ],
   "source": [
    "int(2.3, 3.2) #only one argument are passes not more than 1"
   ]
  },
  {
   "cell_type": "code",
   "execution_count": 15,
   "id": "5a33036d-d3bf-4b28-9ab6-831aa7b6506d",
   "metadata": {},
   "outputs": [
    {
     "data": {
      "text/plain": [
       "1"
      ]
     },
     "execution_count": 15,
     "metadata": {},
     "output_type": "execute_result"
    }
   ],
   "source": [
    "int(True) #cast from bool to integer"
   ]
  },
  {
   "cell_type": "code",
   "execution_count": 17,
   "id": "50366097-6916-454f-a0ff-af327c045767",
   "metadata": {},
   "outputs": [
    {
     "data": {
      "text/plain": [
       "0"
      ]
     },
     "execution_count": 17,
     "metadata": {},
     "output_type": "execute_result"
    }
   ],
   "source": [
    "int(False)"
   ]
  },
  {
   "cell_type": "code",
   "execution_count": 19,
   "id": "04f5c279-d859-4fc1-ae8d-48672703f05f",
   "metadata": {},
   "outputs": [
    {
     "data": {
      "text/plain": [
       "2"
      ]
     },
     "execution_count": 19,
     "metadata": {},
     "output_type": "execute_result"
    }
   ],
   "source": [
    "True+True"
   ]
  },
  {
   "cell_type": "code",
   "execution_count": 23,
   "id": "b9161c27-9980-48a5-bb77-e4fa61ab2298",
   "metadata": {},
   "outputs": [
    {
     "ename": "TypeError",
     "evalue": "int() argument must be a string, a bytes-like object or a real number, not 'complex'",
     "output_type": "error",
     "traceback": [
      "\u001b[1;31m---------------------------------------------------------------------------\u001b[0m",
      "\u001b[1;31mTypeError\u001b[0m                                 Traceback (most recent call last)",
      "Cell \u001b[1;32mIn[23], line 1\u001b[0m\n\u001b[1;32m----> 1\u001b[0m \u001b[38;5;28mint\u001b[39m(\u001b[38;5;241m1\u001b[39m\u001b[38;5;241m+\u001b[39m\u001b[38;5;241m2\u001b[39mj)\n",
      "\u001b[1;31mTypeError\u001b[0m: int() argument must be a string, a bytes-like object or a real number, not 'complex'"
     ]
    }
   ],
   "source": [
    "int(1+2j) #complex tointeger not possible"
   ]
  },
  {
   "cell_type": "code",
   "execution_count": 25,
   "id": "19e88b3b-d12d-46a2-9964-51d158380a47",
   "metadata": {},
   "outputs": [
    {
     "data": {
      "text/plain": [
       "10"
      ]
     },
     "execution_count": 25,
     "metadata": {},
     "output_type": "execute_result"
    }
   ],
   "source": [
    "int('10')"
   ]
  },
  {
   "cell_type": "code",
   "execution_count": 27,
   "id": "9c293796-6eaf-487b-a7f3-261e368ce8fd",
   "metadata": {},
   "outputs": [
    {
     "ename": "ValueError",
     "evalue": "invalid literal for int() with base 10: 'ten'",
     "output_type": "error",
     "traceback": [
      "\u001b[1;31m---------------------------------------------------------------------------\u001b[0m",
      "\u001b[1;31mValueError\u001b[0m                                Traceback (most recent call last)",
      "Cell \u001b[1;32mIn[27], line 1\u001b[0m\n\u001b[1;32m----> 1\u001b[0m \u001b[38;5;28mint\u001b[39m(\u001b[38;5;124m'\u001b[39m\u001b[38;5;124mten\u001b[39m\u001b[38;5;124m'\u001b[39m)\n",
      "\u001b[1;31mValueError\u001b[0m: invalid literal for int() with base 10: 'ten'"
     ]
    }
   ],
   "source": [
    "int('ten')"
   ]
  },
  {
   "cell_type": "markdown",
   "id": "7ee35835-7eb8-49a1-8163-6582a02fc779",
   "metadata": {},
   "source": [
    "we can type cast all other data type to integer except complex & text string "
   ]
  },
  {
   "cell_type": "code",
   "execution_count": 30,
   "id": "50b76002-ec0f-4ff3-aef6-988972431a9b",
   "metadata": {},
   "outputs": [
    {
     "data": {
      "text/plain": [
       "10.0"
      ]
     },
     "execution_count": 30,
     "metadata": {},
     "output_type": "execute_result"
    }
   ],
   "source": [
    "float(10)"
   ]
  },
  {
   "cell_type": "code",
   "execution_count": 32,
   "id": "8067c9a3-56ee-4718-8a5a-25e2fa94b067",
   "metadata": {},
   "outputs": [
    {
     "ename": "TypeError",
     "evalue": "float expected at most 1 argument, got 2",
     "output_type": "error",
     "traceback": [
      "\u001b[1;31m---------------------------------------------------------------------------\u001b[0m",
      "\u001b[1;31mTypeError\u001b[0m                                 Traceback (most recent call last)",
      "Cell \u001b[1;32mIn[32], line 1\u001b[0m\n\u001b[1;32m----> 1\u001b[0m \u001b[38;5;28mfloat\u001b[39m(\u001b[38;5;241m10\u001b[39m,\u001b[38;5;241m20\u001b[39m)\n",
      "\u001b[1;31mTypeError\u001b[0m: float expected at most 1 argument, got 2"
     ]
    }
   ],
   "source": [
    "float(10,20) #only one argument are passes not more than 1"
   ]
  },
  {
   "cell_type": "code",
   "execution_count": 34,
   "id": "f4e5c02e-4501-412c-a687-2a1a6e69ad2f",
   "metadata": {},
   "outputs": [
    {
     "data": {
      "text/plain": [
       "1.0"
      ]
     },
     "execution_count": 34,
     "metadata": {},
     "output_type": "execute_result"
    }
   ],
   "source": [
    "float(True)"
   ]
  },
  {
   "cell_type": "code",
   "execution_count": 36,
   "id": "57b10ac8-68ca-43f2-bbb2-0ffe069f2174",
   "metadata": {},
   "outputs": [
    {
     "data": {
      "text/plain": [
       "0.0"
      ]
     },
     "execution_count": 36,
     "metadata": {},
     "output_type": "execute_result"
    }
   ],
   "source": [
    "float(False)"
   ]
  },
  {
   "cell_type": "code",
   "execution_count": null,
   "id": "e5b77171-a8a2-4085-a757-8ca0f610b13b",
   "metadata": {},
   "outputs": [],
   "source": [
    "float(1+2j) #complex is not possible"
   ]
  },
  {
   "cell_type": "code",
   "execution_count": 38,
   "id": "b205622e-3b9e-4afe-a404-e3b283987083",
   "metadata": {},
   "outputs": [
    {
     "data": {
      "text/plain": [
       "10.0"
      ]
     },
     "execution_count": 38,
     "metadata": {},
     "output_type": "execute_result"
    }
   ],
   "source": [
    "float('10')"
   ]
  },
  {
   "cell_type": "code",
   "execution_count": 40,
   "id": "9603948c-6648-4446-8109-544830408f9f",
   "metadata": {},
   "outputs": [
    {
     "ename": "ValueError",
     "evalue": "could not convert string to float: 'ten'",
     "output_type": "error",
     "traceback": [
      "\u001b[1;31m---------------------------------------------------------------------------\u001b[0m",
      "\u001b[1;31mValueError\u001b[0m                                Traceback (most recent call last)",
      "Cell \u001b[1;32mIn[40], line 1\u001b[0m\n\u001b[1;32m----> 1\u001b[0m \u001b[38;5;28mfloat\u001b[39m(\u001b[38;5;124m'\u001b[39m\u001b[38;5;124mten\u001b[39m\u001b[38;5;124m'\u001b[39m)\n",
      "\u001b[1;31mValueError\u001b[0m: could not convert string to float: 'ten'"
     ]
    }
   ],
   "source": [
    "float('ten')"
   ]
  },
  {
   "cell_type": "code",
   "execution_count": 42,
   "id": "924805b2-2232-4f7e-a380-52dfbe1f5952",
   "metadata": {},
   "outputs": [
    {
     "data": {
      "text/plain": [
       "(10+0j)"
      ]
     },
     "execution_count": 42,
     "metadata": {},
     "output_type": "execute_result"
    }
   ],
   "source": [
    "complex(10)"
   ]
  },
  {
   "cell_type": "code",
   "execution_count": 44,
   "id": "44abe4c6-e3e7-404e-9cb3-3d6c7590251f",
   "metadata": {},
   "outputs": [
    {
     "data": {
      "text/plain": [
       "(10+20j)"
      ]
     },
     "execution_count": 44,
     "metadata": {},
     "output_type": "execute_result"
    }
   ],
   "source": [
    "complex(10,20)"
   ]
  },
  {
   "cell_type": "code",
   "execution_count": 46,
   "id": "013c6893-2b43-48b6-9ef7-502d641dce27",
   "metadata": {},
   "outputs": [
    {
     "ename": "TypeError",
     "evalue": "complex() takes at most 2 arguments (3 given)",
     "output_type": "error",
     "traceback": [
      "\u001b[1;31m---------------------------------------------------------------------------\u001b[0m",
      "\u001b[1;31mTypeError\u001b[0m                                 Traceback (most recent call last)",
      "Cell \u001b[1;32mIn[46], line 1\u001b[0m\n\u001b[1;32m----> 1\u001b[0m \u001b[38;5;28mcomplex\u001b[39m(\u001b[38;5;241m10\u001b[39m,\u001b[38;5;241m20\u001b[39m,\u001b[38;5;241m30\u001b[39m)\n",
      "\u001b[1;31mTypeError\u001b[0m: complex() takes at most 2 arguments (3 given)"
     ]
    }
   ],
   "source": [
    "complex(10,20,30) #only two argument are passes not more than 2"
   ]
  },
  {
   "cell_type": "markdown",
   "id": "00a297b7-00f6-48db-a0af-4a0d74b160fd",
   "metadata": {},
   "source": [
    "complex(2.3,4)"
   ]
  },
  {
   "cell_type": "code",
   "execution_count": 50,
   "id": "650191ad-394c-4389-969a-3d43599015fd",
   "metadata": {},
   "outputs": [
    {
     "data": {
      "text/plain": [
       "(1+1j)"
      ]
     },
     "execution_count": 50,
     "metadata": {},
     "output_type": "execute_result"
    }
   ],
   "source": [
    "complex(True,True)"
   ]
  },
  {
   "cell_type": "code",
   "execution_count": 52,
   "id": "486e8b11-abd8-484b-bf3f-28257819736d",
   "metadata": {},
   "outputs": [
    {
     "data": {
      "text/plain": [
       "0j"
      ]
     },
     "execution_count": 52,
     "metadata": {},
     "output_type": "execute_result"
    }
   ],
   "source": [
    "complex(False)"
   ]
  },
  {
   "cell_type": "code",
   "execution_count": 54,
   "id": "3786bde3-d0b9-4f4b-9126-7ab4acad5e18",
   "metadata": {},
   "outputs": [
    {
     "data": {
      "text/plain": [
       "(10+0j)"
      ]
     },
     "execution_count": 54,
     "metadata": {},
     "output_type": "execute_result"
    }
   ],
   "source": [
    "complex('10')"
   ]
  },
  {
   "cell_type": "code",
   "execution_count": 56,
   "id": "bf09fe78-46fc-4e85-941f-f46e4c2de88a",
   "metadata": {},
   "outputs": [
    {
     "ename": "TypeError",
     "evalue": "complex() can't take second arg if first is a string",
     "output_type": "error",
     "traceback": [
      "\u001b[1;31m---------------------------------------------------------------------------\u001b[0m",
      "\u001b[1;31mTypeError\u001b[0m                                 Traceback (most recent call last)",
      "Cell \u001b[1;32mIn[56], line 1\u001b[0m\n\u001b[1;32m----> 1\u001b[0m \u001b[38;5;28mcomplex\u001b[39m(\u001b[38;5;124m'\u001b[39m\u001b[38;5;124m10\u001b[39m\u001b[38;5;124m'\u001b[39m,\u001b[38;5;124m'\u001b[39m\u001b[38;5;124m20\u001b[39m\u001b[38;5;124m'\u001b[39m)\n",
      "\u001b[1;31mTypeError\u001b[0m: complex() can't take second arg if first is a string"
     ]
    }
   ],
   "source": [
    "complex('10','20')"
   ]
  },
  {
   "cell_type": "markdown",
   "id": "29b5cf73-9e2d-4a16-8b1b-bf9533db40a2",
   "metadata": {},
   "source": [
    "1st march"
   ]
  },
  {
   "cell_type": "markdown",
   "id": "5ec51cd8-5ebd-43f9-b429-4445e9bf4b84",
   "metadata": {},
   "source": [
    "IN COMPLEX TYPE CASTING ONLY ONE ARGUMENT WOULD BE STRING \n",
    "ALL OTHER DATATYPE TO INT,FLOAT EXCEPT COMPLEX & TEXT STRING NOT POSSIBLE"
   ]
  },
  {
   "cell_type": "code",
   "execution_count": 5,
   "id": "00a5c733-ea7c-4dd5-a718-4ff731bde03f",
   "metadata": {},
   "outputs": [
    {
     "data": {
      "text/plain": [
       "False"
      ]
     },
     "execution_count": 5,
     "metadata": {},
     "output_type": "execute_result"
    }
   ],
   "source": [
    "bool(0)"
   ]
  },
  {
   "cell_type": "code",
   "execution_count": 3,
   "id": "4a0fef64-102b-413a-86ed-ff2293a5bc95",
   "metadata": {},
   "outputs": [
    {
     "data": {
      "text/plain": [
       "True"
      ]
     },
     "execution_count": 3,
     "metadata": {},
     "output_type": "execute_result"
    }
   ],
   "source": [
    "bool(2)"
   ]
  },
  {
   "cell_type": "code",
   "execution_count": 12,
   "id": "871cda57-b188-4868-8364-8e13d6adbb69",
   "metadata": {},
   "outputs": [
    {
     "ename": "TypeError",
     "evalue": "bool expected at most 1 argument, got 2",
     "output_type": "error",
     "traceback": [
      "\u001b[1;31m---------------------------------------------------------------------------\u001b[0m",
      "\u001b[1;31mTypeError\u001b[0m                                 Traceback (most recent call last)",
      "Cell \u001b[1;32mIn[12], line 1\u001b[0m\n\u001b[1;32m----> 1\u001b[0m \u001b[38;5;28mbool\u001b[39m(\u001b[38;5;241m2\u001b[39m,\u001b[38;5;241m5\u001b[39m)\n",
      "\u001b[1;31mTypeError\u001b[0m: bool expected at most 1 argument, got 2"
     ]
    }
   ],
   "source": [
    "bool(2,5)"
   ]
  },
  {
   "cell_type": "code",
   "execution_count": 14,
   "id": "5e7e5e36-4662-43a3-b5cd-9e618c5fd396",
   "metadata": {},
   "outputs": [
    {
     "data": {
      "text/plain": [
       "True"
      ]
     },
     "execution_count": 14,
     "metadata": {},
     "output_type": "execute_result"
    }
   ],
   "source": [
    "bool(3.2) #float to boolean possible"
   ]
  },
  {
   "cell_type": "code",
   "execution_count": 16,
   "id": "1bb70404-724c-4796-93a8-d338db9b5a02",
   "metadata": {},
   "outputs": [
    {
     "data": {
      "text/plain": [
       "True"
      ]
     },
     "execution_count": 16,
     "metadata": {},
     "output_type": "execute_result"
    }
   ],
   "source": [
    "bool(1+2j) #complex to booleean"
   ]
  },
  {
   "cell_type": "code",
   "execution_count": 18,
   "id": "d4b2db2a-ebf0-451e-99f1-7e2faa1f769f",
   "metadata": {},
   "outputs": [
    {
     "data": {
      "text/plain": [
       "False"
      ]
     },
     "execution_count": 18,
     "metadata": {},
     "output_type": "execute_result"
    }
   ],
   "source": [
    "bool(0+0j) "
   ]
  },
  {
   "cell_type": "code",
   "execution_count": 20,
   "id": "445fdd73-744d-449b-a4eb-ddd19a2c06a8",
   "metadata": {},
   "outputs": [
    {
     "data": {
      "text/plain": [
       "True"
      ]
     },
     "execution_count": 20,
     "metadata": {},
     "output_type": "execute_result"
    }
   ],
   "source": [
    "bool('hi')"
   ]
  },
  {
   "cell_type": "code",
   "execution_count": 7,
   "id": "9f4343d1-7c8e-4589-8e20-e28ee8edbf54",
   "metadata": {},
   "outputs": [
    {
     "data": {
      "text/plain": [
       "False"
      ]
     },
     "execution_count": 7,
     "metadata": {},
     "output_type": "execute_result"
    }
   ],
   "source": [
    "bool( )"
   ]
  },
  {
   "cell_type": "code",
   "execution_count": 9,
   "id": "7148b42f-fe6c-4910-9cb4-3cb9ce1d8b37",
   "metadata": {},
   "outputs": [
    {
     "ename": "SyntaxError",
     "evalue": "Invalid star expression (3012113124.py, line 1)",
     "output_type": "error",
     "traceback": [
      "\u001b[1;36m  Cell \u001b[1;32mIn[9], line 1\u001b[1;36m\u001b[0m\n\u001b[1;33m    bool(*)\u001b[0m\n\u001b[1;37m          ^\u001b[0m\n\u001b[1;31mSyntaxError\u001b[0m\u001b[1;31m:\u001b[0m Invalid star expression\n"
     ]
    }
   ],
   "source": [
    "bool(*) "
   ]
  },
  {
   "cell_type": "code",
   "execution_count": 26,
   "id": "bf3e9e4e-4d08-44cb-a6e3-36c27edf5d53",
   "metadata": {},
   "outputs": [
    {
     "data": {
      "text/plain": [
       "'7'"
      ]
     },
     "execution_count": 26,
     "metadata": {},
     "output_type": "execute_result"
    }
   ],
   "source": [
    "str(7)"
   ]
  },
  {
   "cell_type": "code",
   "execution_count": 28,
   "id": "ee7beb51-70a2-4c5d-a645-c33c727f3fc7",
   "metadata": {},
   "outputs": [
    {
     "data": {
      "text/plain": [
       "'3.4'"
      ]
     },
     "execution_count": 28,
     "metadata": {},
     "output_type": "execute_result"
    }
   ],
   "source": [
    "str(3.4)"
   ]
  },
  {
   "cell_type": "code",
   "execution_count": 30,
   "id": "5378564d-2b0e-41c0-9864-8a9bba1b3684",
   "metadata": {},
   "outputs": [
    {
     "data": {
      "text/plain": [
       "'(1+2j)'"
      ]
     },
     "execution_count": 30,
     "metadata": {},
     "output_type": "execute_result"
    }
   ],
   "source": [
    "str(1+2j)"
   ]
  },
  {
   "cell_type": "code",
   "execution_count": 32,
   "id": "8d2f7707-e9e7-4fb3-bfb2-d451b05ea2c0",
   "metadata": {},
   "outputs": [
    {
     "ename": "NameError",
     "evalue": "name 'TRUE' is not defined",
     "output_type": "error",
     "traceback": [
      "\u001b[1;31m---------------------------------------------------------------------------\u001b[0m",
      "\u001b[1;31mNameError\u001b[0m                                 Traceback (most recent call last)",
      "Cell \u001b[1;32mIn[32], line 1\u001b[0m\n\u001b[1;32m----> 1\u001b[0m \u001b[38;5;28mstr\u001b[39m(TRUE)\n",
      "\u001b[1;31mNameError\u001b[0m: name 'TRUE' is not defined"
     ]
    }
   ],
   "source": [
    "str(TRUE) #not valid"
   ]
  },
  {
   "cell_type": "code",
   "execution_count": 11,
   "id": "c3d977c9-b665-43ba-96e4-df54307753dc",
   "metadata": {},
   "outputs": [
    {
     "data": {
      "text/plain": [
       "'True'"
      ]
     },
     "execution_count": 11,
     "metadata": {},
     "output_type": "execute_result"
    }
   ],
   "source": [
    "str(True) #valid "
   ]
  },
  {
   "cell_type": "markdown",
   "id": "8caa0e36-eb28-4013-b499-e42efa7b19ad",
   "metadata": {},
   "source": [
    "Type casting we are completed"
   ]
  },
  {
   "cell_type": "markdown",
   "id": "c56bf3ef-795c-44b2-953a-b435193d4818",
   "metadata": {},
   "source": [
    "python operator \n",
    "    -Arithmatic operator(+,-,*,/,//,**,%)\n"
   ]
  },
  {
   "cell_type": "code",
   "execution_count": 43,
   "id": "0f3c60c0-248f-41fa-b76e-f0daee1475ae",
   "metadata": {},
   "outputs": [],
   "source": [
    "x1,y1=10,5"
   ]
  },
  {
   "cell_type": "code",
   "execution_count": 45,
   "id": "01f4bcf7-7662-4ca4-906b-996f810f574d",
   "metadata": {},
   "outputs": [
    {
     "data": {
      "text/plain": [
       "15"
      ]
     },
     "execution_count": 45,
     "metadata": {},
     "output_type": "execute_result"
    }
   ],
   "source": [
    "x1+y1"
   ]
  },
  {
   "cell_type": "code",
   "execution_count": 47,
   "id": "e190e150-4e22-4279-8d57-53ab38d33ea8",
   "metadata": {},
   "outputs": [
    {
     "data": {
      "text/plain": [
       "5"
      ]
     },
     "execution_count": 47,
     "metadata": {},
     "output_type": "execute_result"
    }
   ],
   "source": [
    "x1-y1"
   ]
  },
  {
   "cell_type": "code",
   "execution_count": 49,
   "id": "4ec770be-873a-48db-b708-91d7d0091a2e",
   "metadata": {},
   "outputs": [
    {
     "data": {
      "text/plain": [
       "2.0"
      ]
     },
     "execution_count": 49,
     "metadata": {},
     "output_type": "execute_result"
    }
   ],
   "source": [
    "x1/y1"
   ]
  },
  {
   "cell_type": "code",
   "execution_count": 51,
   "id": "547c1a9c-1411-4f28-b288-0a049c2f3de7",
   "metadata": {},
   "outputs": [
    {
     "data": {
      "text/plain": [
       "2"
      ]
     },
     "execution_count": 51,
     "metadata": {},
     "output_type": "execute_result"
    }
   ],
   "source": [
    "x1//y1"
   ]
  },
  {
   "cell_type": "code",
   "execution_count": 53,
   "id": "364319ef-ef10-4d37-b9ca-ebee5bf2ff72",
   "metadata": {},
   "outputs": [
    {
     "data": {
      "text/plain": [
       "100000"
      ]
     },
     "execution_count": 53,
     "metadata": {},
     "output_type": "execute_result"
    }
   ],
   "source": [
    "x1**y1"
   ]
  },
  {
   "cell_type": "markdown",
   "id": "70f4afde-1397-4c71-9764-d6be1ffbad8c",
   "metadata": {},
   "source": [
    "## Assignment operator (=,+=,-+,/+,//=,*=)\n",
    "\n"
   ]
  },
  {
   "cell_type": "code",
   "execution_count": 13,
   "id": "ab66723c-77b3-40a5-ab95-f4f8b652c7c9",
   "metadata": {},
   "outputs": [
    {
     "data": {
      "text/plain": [
       "2"
      ]
     },
     "execution_count": 13,
     "metadata": {},
     "output_type": "execute_result"
    }
   ],
   "source": [
    "x=2\n",
    "x\n"
   ]
  },
  {
   "cell_type": "code",
   "execution_count": 15,
   "id": "25e8c9e9-2712-4745-a386-88abe82c0de9",
   "metadata": {},
   "outputs": [
    {
     "data": {
      "text/plain": [
       "4"
      ]
     },
     "execution_count": 15,
     "metadata": {},
     "output_type": "execute_result"
    }
   ],
   "source": [
    "x=x+2\n",
    "x"
   ]
  },
  {
   "cell_type": "code",
   "execution_count": 17,
   "id": "8fbe1a86-88a3-4cc8-8bbe-fadaeef2ad50",
   "metadata": {},
   "outputs": [
    {
     "data": {
      "text/plain": [
       "6"
      ]
     },
     "execution_count": 17,
     "metadata": {},
     "output_type": "execute_result"
    }
   ],
   "source": [
    "x += 2\n",
    "x"
   ]
  },
  {
   "cell_type": "code",
   "execution_count": 19,
   "id": "168e3aee-4f9d-4952-a4b9-960738303534",
   "metadata": {},
   "outputs": [
    {
     "data": {
      "text/plain": [
       "8"
      ]
     },
     "execution_count": 19,
     "metadata": {},
     "output_type": "execute_result"
    }
   ],
   "source": [
    "x += 2\n",
    "x"
   ]
  },
  {
   "cell_type": "code",
   "execution_count": 21,
   "id": "9e278dbf-2cb5-406b-99d1-2dc0a3c2b5c9",
   "metadata": {},
   "outputs": [
    {
     "data": {
      "text/plain": [
       "12"
      ]
     },
     "execution_count": 21,
     "metadata": {},
     "output_type": "execute_result"
    }
   ],
   "source": [
    "x += 4\n",
    "x"
   ]
  },
  {
   "cell_type": "code",
   "execution_count": 23,
   "id": "00ecfa8e-ea04-4806-8adb-c9a3e6b646aa",
   "metadata": {},
   "outputs": [
    {
     "data": {
      "text/plain": [
       "10"
      ]
     },
     "execution_count": 23,
     "metadata": {},
     "output_type": "execute_result"
    }
   ],
   "source": [
    "x-=2\n",
    "x"
   ]
  },
  {
   "cell_type": "code",
   "execution_count": 25,
   "id": "6278cfdd-5273-4759-8881-215851143b2a",
   "metadata": {},
   "outputs": [
    {
     "data": {
      "text/plain": [
       "30"
      ]
     },
     "execution_count": 25,
     "metadata": {},
     "output_type": "execute_result"
    }
   ],
   "source": [
    "x *=3\n",
    "x"
   ]
  },
  {
   "cell_type": "code",
   "execution_count": 27,
   "id": "2ffd5516-a9d7-4f02-b527-c692ce5ad33f",
   "metadata": {},
   "outputs": [
    {
     "data": {
      "text/plain": [
       "15.0"
      ]
     },
     "execution_count": 27,
     "metadata": {},
     "output_type": "execute_result"
    }
   ],
   "source": [
    " x /=2\n",
    "x"
   ]
  },
  {
   "cell_type": "code",
   "execution_count": 29,
   "id": "e7d8a3ab-9c3d-4502-94c7-5f41f3dac96d",
   "metadata": {},
   "outputs": [
    {
     "data": {
      "text/plain": [
       "7.0"
      ]
     },
     "execution_count": 29,
     "metadata": {},
     "output_type": "execute_result"
    }
   ],
   "source": [
    "x //= 2\n",
    "x"
   ]
  },
  {
   "cell_type": "markdown",
   "id": "6eb6b841-069f-415a-bf63-27346f949d7a",
   "metadata": {},
   "source": [
    "## UNARY OPERATOR (-)\n",
    "\n",
    "\n",
    "only one operator\n",
    "\n",
    "unary means it will  gives minus value here "
   ]
  },
  {
   "cell_type": "code",
   "execution_count": 98,
   "id": "53f91d02-1f4e-47b0-8c60-78c23531ed7a",
   "metadata": {},
   "outputs": [
    {
     "data": {
      "text/plain": [
       "7"
      ]
     },
     "execution_count": 98,
     "metadata": {},
     "output_type": "execute_result"
    }
   ],
   "source": [
    "n=7 #negation\n",
    "n"
   ]
  },
  {
   "cell_type": "code",
   "execution_count": 100,
   "id": "51528b3e-a434-4f41-88ba-df2516066083",
   "metadata": {},
   "outputs": [
    {
     "data": {
      "text/plain": [
       "-7"
      ]
     },
     "execution_count": 100,
     "metadata": {},
     "output_type": "execute_result"
    }
   ],
   "source": [
    "m=-(n)\n",
    "m"
   ]
  },
  {
   "cell_type": "code",
   "execution_count": 109,
   "id": "f9a22219-6541-4193-a83e-826833c4bc7e",
   "metadata": {},
   "outputs": [
    {
     "data": {
      "text/plain": [
       "7"
      ]
     },
     "execution_count": 109,
     "metadata": {},
     "output_type": "execute_result"
    }
   ],
   "source": [
    "n"
   ]
  },
  {
   "cell_type": "code",
   "execution_count": 111,
   "id": "f7c53bfc-fde6-4817-8a97-ab7968cc6d0f",
   "metadata": {},
   "outputs": [
    {
     "data": {
      "text/plain": [
       "-7"
      ]
     },
     "execution_count": 111,
     "metadata": {},
     "output_type": "execute_result"
    }
   ],
   "source": [
    "-n"
   ]
  },
  {
   "cell_type": "markdown",
   "id": "05f6b174-5139-40c5-96ac-0c6291dbfb3a",
   "metadata": {},
   "source": [
    "## Relational operator (<,>,<=,>=,==,!=)\n",
    "\n",
    "WE ARE USING THIS OPERATOR FOR COMPARING"
   ]
  },
  {
   "cell_type": "code",
   "execution_count": 42,
   "id": "6339c1d7-450b-43b8-9096-094123af3ef8",
   "metadata": {},
   "outputs": [],
   "source": [
    "r1=5\n",
    "r2=6\n"
   ]
  },
  {
   "cell_type": "code",
   "execution_count": 44,
   "id": "4dc34a72-1adc-4701-82cc-95205a5a881d",
   "metadata": {},
   "outputs": [
    {
     "data": {
      "text/plain": [
       "False"
      ]
     },
     "execution_count": 44,
     "metadata": {},
     "output_type": "execute_result"
    }
   ],
   "source": [
    "r1>r2"
   ]
  },
  {
   "cell_type": "code",
   "execution_count": 46,
   "id": "c8f8701f-95ed-4848-b465-7e1bae0557bd",
   "metadata": {},
   "outputs": [
    {
     "data": {
      "text/plain": [
       "True"
      ]
     },
     "execution_count": 46,
     "metadata": {},
     "output_type": "execute_result"
    }
   ],
   "source": [
    "r1<r2"
   ]
  },
  {
   "cell_type": "code",
   "execution_count": 48,
   "id": "631f071c-df6c-43a7-9c24-b52332065feb",
   "metadata": {},
   "outputs": [
    {
     "data": {
      "text/plain": [
       "False"
      ]
     },
     "execution_count": 48,
     "metadata": {},
     "output_type": "execute_result"
    }
   ],
   "source": [
    "r1==r2"
   ]
  },
  {
   "cell_type": "code",
   "execution_count": 50,
   "id": "3dda7396-c728-495d-83f0-136fba2b1ac9",
   "metadata": {},
   "outputs": [
    {
     "data": {
      "text/plain": [
       "True"
      ]
     },
     "execution_count": 50,
     "metadata": {},
     "output_type": "execute_result"
    }
   ],
   "source": [
    "r1!=r2"
   ]
  },
  {
   "cell_type": "code",
   "execution_count": 52,
   "id": "b10e50f3-650c-4f50-8264-5d5ccc90c303",
   "metadata": {},
   "outputs": [
    {
     "data": {
      "text/plain": [
       "5"
      ]
     },
     "execution_count": 52,
     "metadata": {},
     "output_type": "execute_result"
    }
   ],
   "source": [
    "r1"
   ]
  },
  {
   "cell_type": "code",
   "execution_count": 54,
   "id": "95c84e97-f7e9-4b14-808d-8144d5232121",
   "metadata": {},
   "outputs": [
    {
     "data": {
      "text/plain": [
       "6"
      ]
     },
     "execution_count": 54,
     "metadata": {},
     "output_type": "execute_result"
    }
   ],
   "source": [
    "r2"
   ]
  },
  {
   "cell_type": "code",
   "execution_count": 56,
   "id": "d100b0ad-1c3b-41ec-b127-d65e3bb45142",
   "metadata": {},
   "outputs": [],
   "source": [
    "r3=6"
   ]
  },
  {
   "cell_type": "code",
   "execution_count": 58,
   "id": "2761784c-6535-4fa2-b447-038afb0b932b",
   "metadata": {},
   "outputs": [
    {
     "data": {
      "text/plain": [
       "False"
      ]
     },
     "execution_count": 58,
     "metadata": {},
     "output_type": "execute_result"
    }
   ],
   "source": [
    "r1==r3"
   ]
  },
  {
   "cell_type": "code",
   "execution_count": 60,
   "id": "5bac6fc5-20e1-4b13-b695-5210d1912270",
   "metadata": {},
   "outputs": [
    {
     "data": {
      "text/plain": [
       "True"
      ]
     },
     "execution_count": 60,
     "metadata": {},
     "output_type": "execute_result"
    }
   ],
   "source": [
    "r2==r3"
   ]
  },
  {
   "cell_type": "code",
   "execution_count": 62,
   "id": "8b6fba84-8c25-4745-b617-8c8ec64df9bf",
   "metadata": {},
   "outputs": [
    {
     "name": "stdout",
     "output_type": "stream",
     "text": [
      "5\n",
      "6\n",
      "6\n"
     ]
    }
   ],
   "source": [
    "print(r1)\n",
    "print(r2)\n",
    "print(r3)"
   ]
  },
  {
   "cell_type": "code",
   "execution_count": 64,
   "id": "ff45b651-dc27-43b8-82b4-350ad1d397a1",
   "metadata": {},
   "outputs": [
    {
     "data": {
      "text/plain": [
       "True"
      ]
     },
     "execution_count": 64,
     "metadata": {},
     "output_type": "execute_result"
    }
   ],
   "source": [
    "r3 >=r2"
   ]
  },
  {
   "cell_type": "code",
   "execution_count": 156,
   "id": "f003144b-a77b-4e23-b9ce-2004c6283f82",
   "metadata": {},
   "outputs": [
    {
     "data": {
      "text/plain": [
       "True"
      ]
     },
     "execution_count": 156,
     "metadata": {},
     "output_type": "execute_result"
    }
   ],
   "source": [
    "r2<=r3"
   ]
  },
  {
   "cell_type": "markdown",
   "id": "267da6f9-3d9b-433d-bc63-8096aa83774c",
   "metadata": {},
   "source": [
    "## Logical operator (And Or NOT)\n",
    "Logical operator you need to understand about true & false table\n"
   ]
  },
  {
   "cell_type": "markdown",
   "id": "02e38541-0377-43ae-8981-05d794f356ae",
   "metadata": {},
   "source": [
    "True means 1 and Falsee means 0"
   ]
  },
  {
   "attachments": {
    "a1f3e043-99b7-4420-a8b6-e0a0169b4585.png": {
     "image/png": "[encoded data removed]"
    }
   },
   "cell_type": "markdown",
   "id": "d86ad744-522d-4185-9089-e4623116c078",
   "metadata": {},
   "source": [
    "![Screenshot 2025-07-01 162325.png](attachment:a1f3e043-99b7-4420-a8b6-e0a0169b4585.png)"
   ]
  },
  {
   "cell_type": "code",
   "execution_count": 69,
   "id": "63d37b93-ba01-4bdd-b9f6-77a68cd9c7f5",
   "metadata": {},
   "outputs": [],
   "source": [
    "a=5\n",
    "b=4"
   ]
  },
  {
   "cell_type": "code",
   "execution_count": 5,
   "id": "32cd0c46-ba53-46aa-80f6-e6d373a8ac9d",
   "metadata": {},
   "outputs": [
    {
     "data": {
      "text/plain": [
       "True"
      ]
     },
     "execution_count": 5,
     "metadata": {},
     "output_type": "execute_result"
    }
   ],
   "source": [
    "a<8 and b<5"
   ]
  },
  {
   "cell_type": "code",
   "execution_count": 7,
   "id": "8b9278cf-b99c-4803-93fa-c3bbc984e7f0",
   "metadata": {},
   "outputs": [
    {
     "data": {
      "text/plain": [
       "True"
      ]
     },
     "execution_count": 7,
     "metadata": {},
     "output_type": "execute_result"
    }
   ],
   "source": [
    "a<8 or b<5"
   ]
  },
  {
   "cell_type": "code",
   "execution_count": 10,
   "id": "23c14c49-753b-481d-b841-d9cc14ce9a7e",
   "metadata": {},
   "outputs": [
    {
     "name": "stdout",
     "output_type": "stream",
     "text": [
      "5\n",
      "4\n"
     ]
    }
   ],
   "source": [
    "print(a)\n",
    "print(b)"
   ]
  },
  {
   "cell_type": "code",
   "execution_count": 12,
   "id": "9f8da9dc-c7ac-4d3e-8bc8-ed8267e3e6f6",
   "metadata": {},
   "outputs": [
    {
     "data": {
      "text/plain": [
       "True"
      ]
     },
     "execution_count": 12,
     "metadata": {},
     "output_type": "execute_result"
    }
   ],
   "source": [
    "b>5 or a<10"
   ]
  },
  {
   "cell_type": "code",
   "execution_count": 14,
   "id": "69d35f88-1623-444d-b741-f3ea61a29441",
   "metadata": {},
   "outputs": [
    {
     "data": {
      "text/plain": [
       "False"
      ]
     },
     "execution_count": 14,
     "metadata": {},
     "output_type": "execute_result"
    }
   ],
   "source": [
    "x=False\n",
    "x"
   ]
  },
  {
   "cell_type": "code",
   "execution_count": 16,
   "id": "e1281253-03e2-4452-a9a2-12cd1d31c83b",
   "metadata": {},
   "outputs": [
    {
     "data": {
      "text/plain": [
       "True"
      ]
     },
     "execution_count": 16,
     "metadata": {},
     "output_type": "execute_result"
    }
   ],
   "source": [
    "not x"
   ]
  },
  {
   "cell_type": "code",
   "execution_count": 18,
   "id": "647a1ad1-44af-4b04-a753-8241f17d7436",
   "metadata": {},
   "outputs": [
    {
     "data": {
      "text/plain": [
       "True"
      ]
     },
     "execution_count": 18,
     "metadata": {},
     "output_type": "execute_result"
    }
   ],
   "source": [
    "y=True\n",
    "y"
   ]
  },
  {
   "cell_type": "code",
   "execution_count": 22,
   "id": "db0ca8c3-6703-4b6e-bdc8-cbcc2741044e",
   "metadata": {},
   "outputs": [
    {
     "data": {
      "text/plain": [
       "False"
      ]
     },
     "execution_count": 22,
     "metadata": {},
     "output_type": "execute_result"
    }
   ],
   "source": [
    "not y"
   ]
  },
  {
   "cell_type": "markdown",
   "id": "caf21952-9071-4ead-b8e8-2426aa54410a",
   "metadata": {},
   "source": [
    "completed python operator"
   ]
  },
  {
   "cell_type": "code",
   "execution_count": null,
   "id": "cd390ce0-263e-4381-bbf5-22872eb78ca9",
   "metadata": {},
   "outputs": [],
   "source": []
  },
  {
   "cell_type": "code",
   "execution_count": null,
   "id": "881c5881-c891-4846-bd8e-df8eca5e5b2d",
   "metadata": {},
   "outputs": [],
   "source": []
  },
  {
   "cell_type": "code",
   "execution_count": null,
   "id": "892adc58-470c-4421-9405-c4e000ff92c5",
   "metadata": {},
   "outputs": [],
   "source": []
  },
  {
   "cell_type": "code",
   "execution_count": null,
   "id": "62a41051-ee9c-4abe-8d97-b1849c1407f2",
   "metadata": {},
   "outputs": [],
   "source": []
  },
  {
   "cell_type": "code",
   "execution_count": null,
   "id": "8bb1e80d-7cc4-4f49-8b52-f733ff26982b",
   "metadata": {},
   "outputs": [],
   "source": []
  },
  {
   "cell_type": "code",
   "execution_count": null,
   "id": "e15245e5-0c34-4d5d-b51f-532623d6334c",
   "metadata": {},
   "outputs": [],
   "source": []
  },
  {
   "cell_type": "code",
   "execution_count": null,
   "id": "a254f4c5-9351-45e3-b631-3652947f98ee",
   "metadata": {},
   "outputs": [],
   "source": []
  },
  {
   "cell_type": "code",
   "execution_count": null,
   "id": "9fe246e4-4544-416a-a1ec-2b73a734ab02",
   "metadata": {},
   "outputs": [],
   "source": []
  },
  {
   "cell_type": "code",
   "execution_count": null,
   "id": "ab0b83b8-897a-4ded-b9ed-0ebc46feeffd",
   "metadata": {},
   "outputs": [],
   "source": []
  },
  {
   "cell_type": "code",
   "execution_count": null,
   "id": "cb89f739-7fa1-4dd2-aea8-8a5d917bceb0",
   "metadata": {},
   "outputs": [],
   "source": []
  },
  {
   "cell_type": "code",
   "execution_count": null,
   "id": "8f1a6db1-acfe-4497-9dbc-ddf70676f9d1",
   "metadata": {},
   "outputs": [],
   "source": []
  },
  {
   "cell_type": "code",
   "execution_count": null,
   "id": "81849ff3-59bc-440a-895d-8998419d1a17",
   "metadata": {},
   "outputs": [],
   "source": []
  },
  {
   "cell_type": "code",
   "execution_count": null,
   "id": "689e3fa1-6918-46b7-9e91-08d49762544b",
   "metadata": {},
   "outputs": [],
   "source": []
  },
  {
   "cell_type": "code",
   "execution_count": null,
   "id": "8bb595e7-8372-461b-932c-9da91d23051b",
   "metadata": {},
   "outputs": [],
   "source": []
  },
  {
   "cell_type": "code",
   "execution_count": null,
   "id": "212dc24b-0dae-4469-849d-f31e90d11109",
   "metadata": {},
   "outputs": [],
   "source": []
  },
  {
   "cell_type": "code",
   "execution_count": null,
   "id": "485e96ad-30e8-4bd1-927e-3d6907b413a5",
   "metadata": {},
   "outputs": [],
   "source": []
  },
  {
   "cell_type": "code",
   "execution_count": null,
   "id": "c73a3fdb-ec88-407a-959b-6df1bda2c5d0",
   "metadata": {},
   "outputs": [],
   "source": []
  },
  {
   "cell_type": "code",
   "execution_count": null,
   "id": "2c9848d7-47a9-4751-9d47-9eb78bf74da8",
   "metadata": {},
   "outputs": [],
   "source": []
  }
 ],
 "metadata": {
  "kernelspec": {
   "display_name": "Python 3 (ipykernel)",
   "language": "python",
   "name": "python3"
  },
  "language_info": {
   "codemirror_mode": {
    "name": "ipython",
    "version": 3
   },
   "file_extension": ".py",
   "mimetype": "text/x-python",
   "name": "python",
   "nbconvert_exporter": "python",
   "pygments_lexer": "ipython3",
   "version": "3.12.7"
  }
 },
 "nbformat": 4,
 "nbformat_minor": 5
}
