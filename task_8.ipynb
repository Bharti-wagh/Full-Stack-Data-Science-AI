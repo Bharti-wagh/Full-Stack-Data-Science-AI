{
  "cells": [
    {
      "cell_type": "markdown",
      "metadata": {
        "id": "_gzESxKVc6OJ"
      },
      "source": [
        "Sets\n",
        "1) Unordered & Unindexed collection of items.\n",
        "2) Set elements are unique. Duplicate elements are not allowed.\n",
        "3) Set elements are immutable (cannot be changed).\n",
        "4) Set itself is mutable. We can add or remove items from it."
      ]
    },
    {
      "cell_type": "markdown",
      "metadata": {
        "id": "5Dq29gK_dDuG"
      },
      "source": [
        "Set Creation"
      ]
    },
    {
      "cell_type": "code",
      "execution_count": null,
      "metadata": {
        "colab": {
          "base_uri": "https://localhost:8080/"
        },
        "id": "D-NgYF2raKdz",
        "outputId": "6133e7ba-6add-48c9-b379-83b1b2dd356e"
      },
      "outputs": [
        {
          "data": {
            "text/plain": [
              "{1, 2, 3, 4, 5}"
            ]
          },
          "execution_count": 1,
          "metadata": {},
          "output_type": "execute_result"
        }
      ],
      "source": [
        "myset = {1,2,3,4,5} # Set of numbers\n",
        "myset"
      ]
    },
    {
      "cell_type": "code",
      "execution_count": null,
      "metadata": {
        "colab": {
          "base_uri": "https://localhost:8080/"
        },
        "id": "VwIQy4Fdc0xz",
        "outputId": "cb19c8f6-72da-44e1-fd56-27a65cc5d52f"
      },
      "outputs": [
        {
          "data": {
            "text/plain": [
              "5"
            ]
          },
          "execution_count": 2,
          "metadata": {},
          "output_type": "execute_result"
        }
      ],
      "source": [
        "len(myset) #Length of the set"
      ]
    },
    {
      "cell_type": "code",
      "execution_count": null,
      "metadata": {
        "colab": {
          "base_uri": "https://localhost:8080/"
        },
        "id": "UDYPW3t6c00U",
        "outputId": "ba162deb-0dd7-42db-d513-d55499f83de2"
      },
      "outputs": [
        {
          "data": {
            "text/plain": [
              "{1, 2, 3, 4, 5}"
            ]
          },
          "execution_count": 3,
          "metadata": {},
          "output_type": "execute_result"
        }
      ],
      "source": [
        "my_set = {1,1,2,2,3,4,5,5}\n",
        "my_set # Duplicate elements are not allowed."
      ]
    },
    {
      "cell_type": "code",
      "execution_count": null,
      "metadata": {
        "colab": {
          "base_uri": "https://localhost:8080/"
        },
        "id": "nt-U-cu9c02x",
        "outputId": "4d6c0100-e39b-483f-f4cb-8f3e88d3a5cc"
      },
      "outputs": [
        {
          "data": {
            "text/plain": [
              "{1.79, 2.08, 3.99, 4.56, 5.45}"
            ]
          },
          "execution_count": 4,
          "metadata": {},
          "output_type": "execute_result"
        }
      ],
      "source": [
        "myset1 = {1.79,2.08,3.99,4.56,5.45} # Set of float numbers\n",
        "myset1"
      ]
    },
    {
      "cell_type": "code",
      "execution_count": null,
      "metadata": {
        "colab": {
          "base_uri": "https://localhost:8080/"
        },
        "id": "g7XrB6TJc05I",
        "outputId": "6a83b273-0ea7-4de2-f604-097f2f2c83f3"
      },
      "outputs": [
        {
          "data": {
            "text/plain": [
              "{'Asif', 'John', 'Tyrion'}"
            ]
          },
          "execution_count": 5,
          "metadata": {},
          "output_type": "execute_result"
        }
      ],
      "source": [
        "myset2 = {'Asif' , 'John' , 'Tyrion'} # Set of Strings\n",
        "myset2"
      ]
    },
    {
      "cell_type": "code",
      "execution_count": null,
      "metadata": {
        "colab": {
          "base_uri": "https://localhost:8080/"
        },
        "id": "ir8adFDxc071",
        "outputId": "28f84e3c-8a20-40bf-b797-3276b759d5f3"
      },
      "outputs": [
        {
          "data": {
            "text/plain": [
              "{(11, 22, 32), 10, 20, 'Hola'}"
            ]
          },
          "execution_count": 6,
          "metadata": {},
          "output_type": "execute_result"
        }
      ],
      "source": [
        "myset3 = {10,20, \"Hola\", (11, 22, 32)} # Mixed datatypes\n",
        "myset3"
      ]
    },
    {
      "cell_type": "code",
      "execution_count": null,
      "metadata": {
        "colab": {
          "base_uri": "https://localhost:8080/",
          "height": 158
        },
        "id": "hQwMQ6N7c0-D",
        "outputId": "9a65f6ca-3d20-43ce-8ccd-c16e11e53c75"
      },
      "outputs": [
        {
          "ename": "TypeError",
          "evalue": "unhashable type: 'list'",
          "output_type": "error",
          "traceback": [
            "\u001b[0;31m---------------------------------------------------------------------------\u001b[0m",
            "\u001b[0;31mTypeError\u001b[0m                                 Traceback (most recent call last)",
            "\u001b[0;32m/tmp/ipython-input-2643568750.py\u001b[0m in \u001b[0;36m<cell line: 0>\u001b[0;34m()\u001b[0m\n\u001b[0;32m----> 1\u001b[0;31m \u001b[0mmyset3\u001b[0m \u001b[0;34m=\u001b[0m \u001b[0;34m{\u001b[0m\u001b[0;36m10\u001b[0m\u001b[0;34m,\u001b[0m\u001b[0;36m20\u001b[0m\u001b[0;34m,\u001b[0m \u001b[0;34m\"Hola\"\u001b[0m\u001b[0;34m,\u001b[0m \u001b[0;34m[\u001b[0m\u001b[0;36m11\u001b[0m\u001b[0;34m,\u001b[0m \u001b[0;36m22\u001b[0m\u001b[0;34m,\u001b[0m \u001b[0;36m32\u001b[0m\u001b[0;34m]\u001b[0m\u001b[0;34m}\u001b[0m \u001b[0;31m# set doesn't allow mutable items like list.\u001b[0m\u001b[0;34m\u001b[0m\u001b[0;34m\u001b[0m\u001b[0m\n\u001b[0m\u001b[1;32m      2\u001b[0m \u001b[0mmyset3\u001b[0m\u001b[0;34m\u001b[0m\u001b[0;34m\u001b[0m\u001b[0m\n",
            "\u001b[0;31mTypeError\u001b[0m: unhashable type: 'list'"
          ]
        }
      ],
      "source": [
        "myset3 = {10,20, \"Hola\", [11, 22, 32]} # set doesn't allow mutable items like list.\n",
        "myset3"
      ]
    },
    {
      "cell_type": "code",
      "execution_count": null,
      "metadata": {
        "colab": {
          "base_uri": "https://localhost:8080/"
        },
        "id": "Od9a7EH3c1Av",
        "outputId": "01ccdb9e-1620-467d-aeb3-9f9b5e1647a1"
      },
      "outputs": [
        {
          "name": "stdout",
          "output_type": "stream",
          "text": [
            "<class 'set'>\n"
          ]
        }
      ],
      "source": [
        "myset4 = set() # Create an empty set\n",
        "print(type(myset4))"
      ]
    },
    {
      "cell_type": "code",
      "execution_count": null,
      "metadata": {
        "colab": {
          "base_uri": "https://localhost:8080/"
        },
        "id": "AOVGGLibc1Dp",
        "outputId": "35e32127-a2a7-4965-eda9-7f77137af0bd"
      },
      "outputs": [
        {
          "data": {
            "text/plain": [
              "{'four', 'one', 'three', 'two'}"
            ]
          },
          "execution_count": 10,
          "metadata": {},
          "output_type": "execute_result"
        }
      ],
      "source": [
        "my_set1 = set(('one' , 'two' , 'three' , 'four'))\n",
        "my_set1"
      ]
    },
    {
      "cell_type": "markdown",
      "metadata": {
        "id": "yn3qRP6Jdp45"
      },
      "source": [
        "**Loop through a Set**"
      ]
    },
    {
      "cell_type": "code",
      "execution_count": null,
      "metadata": {
        "colab": {
          "base_uri": "https://localhost:8080/"
        },
        "id": "LknjMLy6c1Gu",
        "outputId": "7ef95370-4440-42ac-c83d-0d2117cb1759"
      },
      "outputs": [
        {
          "name": "stdout",
          "output_type": "stream",
          "text": [
            "four\n",
            "seven\n",
            "two\n",
            "three\n",
            "one\n",
            "five\n",
            "six\n",
            "eight\n"
          ]
        }
      ],
      "source": [
        "myset = {'one', 'two', 'three', 'four', 'five', 'six', 'seven', 'eight'}\n",
        "for i in myset:\n",
        "  print(i)"
      ]
    },
    {
      "cell_type": "code",
      "execution_count": null,
      "metadata": {
        "colab": {
          "base_uri": "https://localhost:8080/"
        },
        "id": "D_nEgc2Hc1Jo",
        "outputId": "05a2bf7c-75c8-4f2f-fe32-02f2804a4c5d"
      },
      "outputs": [
        {
          "name": "stdout",
          "output_type": "stream",
          "text": [
            "(0, 'four')\n",
            "(1, 'seven')\n",
            "(2, 'two')\n",
            "(3, 'three')\n",
            "(4, 'one')\n",
            "(5, 'five')\n",
            "(6, 'six')\n",
            "(7, 'eight')\n"
          ]
        }
      ],
      "source": [
        "for i in enumerate(myset):\n",
        "  print(i)"
      ]
    },
    {
      "cell_type": "markdown",
      "metadata": {
        "id": "6UDCnAWKd1z-"
      },
      "source": [
        "**Set Membership**"
      ]
    },
    {
      "cell_type": "code",
      "execution_count": null,
      "metadata": {
        "colab": {
          "base_uri": "https://localhost:8080/"
        },
        "id": "5VzqNaDac1MY",
        "outputId": "6c9117bc-b42e-4621-b209-240a9ae43d9d"
      },
      "outputs": [
        {
          "data": {
            "text/plain": [
              "{'eight', 'five', 'four', 'one', 'seven', 'six', 'three', 'two'}"
            ]
          },
          "execution_count": 33,
          "metadata": {},
          "output_type": "execute_result"
        }
      ],
      "source": [
        "myset"
      ]
    },
    {
      "cell_type": "code",
      "execution_count": null,
      "metadata": {
        "colab": {
          "base_uri": "https://localhost:8080/"
        },
        "id": "WkVb5wVOc1PJ",
        "outputId": "6445851f-9c61-4790-8a4d-70b31d889980"
      },
      "outputs": [
        {
          "data": {
            "text/plain": [
              "True"
            ]
          },
          "execution_count": 35,
          "metadata": {},
          "output_type": "execute_result"
        }
      ],
      "source": [
        "'one' in myset # Check if 'one' exist in the set"
      ]
    },
    {
      "cell_type": "code",
      "execution_count": null,
      "metadata": {
        "colab": {
          "base_uri": "https://localhost:8080/"
        },
        "id": "zgH90GWDc1SS",
        "outputId": "22a961ce-d3db-494e-9798-267cd2108a1f"
      },
      "outputs": [
        {
          "data": {
            "text/plain": [
              "False"
            ]
          },
          "execution_count": 36,
          "metadata": {},
          "output_type": "execute_result"
        }
      ],
      "source": [
        "'ten' in myset # Check if 'ten' exist in the set"
      ]
    },
    {
      "cell_type": "code",
      "execution_count": null,
      "metadata": {
        "colab": {
          "base_uri": "https://localhost:8080/"
        },
        "id": "pDyyIl6Pc1VQ",
        "outputId": "a9d3ac0c-8f9f-41f1-c574-1d5c56dfd3bf"
      },
      "outputs": [
        {
          "name": "stdout",
          "output_type": "stream",
          "text": [
            "Three is present in the set\n"
          ]
        }
      ],
      "source": [
        "if 'three' in myset: # Check if 'three' exist in the set\n",
        "  print('Three is present in the set')\n",
        "else:\n",
        "  print('Three is not present in the set')"
      ]
    },
    {
      "cell_type": "code",
      "execution_count": null,
      "metadata": {
        "colab": {
          "base_uri": "https://localhost:8080/"
        },
        "id": "kSEZQHq_c1YQ",
        "outputId": "b6c334cb-d1a7-4a35-d3fe-e3747c545a09"
      },
      "outputs": [
        {
          "name": "stdout",
          "output_type": "stream",
          "text": [
            "eleven is not present in the set\n"
          ]
        }
      ],
      "source": [
        "if 'eleven' in myset: # Check if 'eleven' exist in the list\n",
        "  print('eleven is present in the set')\n",
        "else:\n",
        "  print('eleven is not present in the set')"
      ]
    },
    {
      "cell_type": "markdown",
      "metadata": {
        "id": "8eNB61HJeKtU"
      },
      "source": [
        "**Add & Remove Items**"
      ]
    },
    {
      "cell_type": "code",
      "execution_count": null,
      "metadata": {
        "colab": {
          "base_uri": "https://localhost:8080/"
        },
        "id": "FUTZ3H4Nc1a7",
        "outputId": "f46a2db1-4d39-43cf-c1b2-a04758e7f8e9"
      },
      "outputs": [
        {
          "data": {
            "text/plain": [
              "{'eight', 'five', 'four', 'one', 'seven', 'six', 'three', 'two'}"
            ]
          },
          "execution_count": 40,
          "metadata": {},
          "output_type": "execute_result"
        }
      ],
      "source": [
        "myset\n"
      ]
    },
    {
      "cell_type": "code",
      "execution_count": null,
      "metadata": {
        "colab": {
          "base_uri": "https://localhost:8080/"
        },
        "id": "MHbL4btcc1eG",
        "outputId": "2925ae0d-6b12-4628-9b7b-a5ba9eda92fc"
      },
      "outputs": [
        {
          "data": {
            "text/plain": [
              "{'NINE', 'eight', 'five', 'four', 'one', 'seven', 'six', 'three', 'two'}"
            ]
          },
          "execution_count": 41,
          "metadata": {},
          "output_type": "execute_result"
        }
      ],
      "source": [
        "myset.add('NINE') # Add item to a set using add() method\n",
        "myset"
      ]
    },
    {
      "cell_type": "code",
      "execution_count": null,
      "metadata": {
        "colab": {
          "base_uri": "https://localhost:8080/"
        },
        "id": "iCV113kZc1hj",
        "outputId": "8ab55de6-f1fc-487c-fbde-ad4975769ef6"
      },
      "outputs": [
        {
          "data": {
            "text/plain": [
              "{'ELEVEN',\n",
              " 'NINE',\n",
              " 'TEN',\n",
              " 'TWELVE',\n",
              " 'eight',\n",
              " 'five',\n",
              " 'four',\n",
              " 'one',\n",
              " 'seven',\n",
              " 'six',\n",
              " 'three',\n",
              " 'two'}"
            ]
          },
          "execution_count": 42,
          "metadata": {},
          "output_type": "execute_result"
        }
      ],
      "source": [
        "myset.update(['TEN' , 'ELEVEN' , 'TWELVE']) # Add multiple item to a set using\n",
        "myset"
      ]
    },
    {
      "cell_type": "code",
      "execution_count": null,
      "metadata": {
        "colab": {
          "base_uri": "https://localhost:8080/"
        },
        "id": "cGHLp7k-eUet",
        "outputId": "c8feda0a-a595-4da2-f3dc-411733f08932"
      },
      "outputs": [
        {
          "data": {
            "text/plain": [
              "{'ELEVEN',\n",
              " 'TEN',\n",
              " 'TWELVE',\n",
              " 'eight',\n",
              " 'five',\n",
              " 'four',\n",
              " 'one',\n",
              " 'seven',\n",
              " 'six',\n",
              " 'three',\n",
              " 'two'}"
            ]
          },
          "execution_count": 43,
          "metadata": {},
          "output_type": "execute_result"
        }
      ],
      "source": [
        "myset.remove('NINE') # remove item in a set using remove() method\n",
        "myset"
      ]
    },
    {
      "cell_type": "code",
      "execution_count": null,
      "metadata": {
        "colab": {
          "base_uri": "https://localhost:8080/"
        },
        "id": "rVcKzUjzeUhT",
        "outputId": "e8dac104-d299-4fea-e534-cd31e9567626"
      },
      "outputs": [
        {
          "data": {
            "text/plain": [
              "{'ELEVEN',\n",
              " 'TWELVE',\n",
              " 'eight',\n",
              " 'five',\n",
              " 'four',\n",
              " 'one',\n",
              " 'seven',\n",
              " 'six',\n",
              " 'three',\n",
              " 'two'}"
            ]
          },
          "execution_count": 44,
          "metadata": {},
          "output_type": "execute_result"
        }
      ],
      "source": [
        "myset.discard('TEN') # remove item from a set using discard() method\n",
        "myset"
      ]
    },
    {
      "cell_type": "code",
      "execution_count": null,
      "metadata": {
        "colab": {
          "base_uri": "https://localhost:8080/"
        },
        "id": "0JsK_ZrIeUj-",
        "outputId": "941806d0-5582-4072-efe9-9bd693d71d27"
      },
      "outputs": [
        {
          "data": {
            "text/plain": [
              "set()"
            ]
          },
          "execution_count": 45,
          "metadata": {},
          "output_type": "execute_result"
        }
      ],
      "source": [
        "myset.clear() # Delete all items in a set\n",
        "myset"
      ]
    },
    {
      "cell_type": "code",
      "execution_count": null,
      "metadata": {
        "colab": {
          "base_uri": "https://localhost:8080/",
          "height": 158
        },
        "id": "mPOBE4G4eUmN",
        "outputId": "709281e5-8250-4588-c0d3-702c8f2ee0c7"
      },
      "outputs": [
        {
          "ename": "NameError",
          "evalue": "name 'myset' is not defined",
          "output_type": "error",
          "traceback": [
            "\u001b[0;31m---------------------------------------------------------------------------\u001b[0m",
            "\u001b[0;31mNameError\u001b[0m                                 Traceback (most recent call last)",
            "\u001b[0;32m/tmp/ipython-input-1239377219.py\u001b[0m in \u001b[0;36m<cell line: 0>\u001b[0;34m()\u001b[0m\n\u001b[1;32m      1\u001b[0m \u001b[0;32mdel\u001b[0m \u001b[0mmyset\u001b[0m \u001b[0;31m# Delete the set object\u001b[0m\u001b[0;34m\u001b[0m\u001b[0;34m\u001b[0m\u001b[0m\n\u001b[0;32m----> 2\u001b[0;31m \u001b[0mmyset\u001b[0m\u001b[0;34m\u001b[0m\u001b[0;34m\u001b[0m\u001b[0m\n\u001b[0m",
            "\u001b[0;31mNameError\u001b[0m: name 'myset' is not defined"
          ]
        }
      ],
      "source": [
        "del myset # Delete the set object\n",
        "myset"
      ]
    },
    {
      "cell_type": "markdown",
      "metadata": {
        "id": "KU0cWAome0Sw"
      },
      "source": [
        "**Copy Set**"
      ]
    },
    {
      "cell_type": "code",
      "execution_count": null,
      "metadata": {
        "colab": {
          "base_uri": "https://localhost:8080/"
        },
        "id": "rXGGAAOweUo4",
        "outputId": "0a7bd629-c4af-4ed6-e510-a1548d03dc91"
      },
      "outputs": [
        {
          "data": {
            "text/plain": [
              "{'eight', 'five', 'four', 'one', 'seven', 'six', 'three', 'two'}"
            ]
          },
          "execution_count": 47,
          "metadata": {},
          "output_type": "execute_result"
        }
      ],
      "source": [
        "myset = {'one', 'two', 'three', 'four', 'five', 'six', 'seven', 'eight'}\n",
        "myset"
      ]
    },
    {
      "cell_type": "code",
      "execution_count": null,
      "metadata": {
        "colab": {
          "base_uri": "https://localhost:8080/"
        },
        "id": "5KtlE_fpeUrJ",
        "outputId": "ecdb9892-3203-475b-c7e3-832f4ad7b638"
      },
      "outputs": [
        {
          "data": {
            "text/plain": [
              "{'eight', 'five', 'four', 'one', 'seven', 'six', 'three', 'two'}"
            ]
          },
          "execution_count": 48,
          "metadata": {},
          "output_type": "execute_result"
        }
      ],
      "source": [
        "myset1 = myset # Create a new reference \"myset1\"\n",
        "myset1"
      ]
    },
    {
      "cell_type": "code",
      "execution_count": null,
      "metadata": {
        "colab": {
          "base_uri": "https://localhost:8080/"
        },
        "id": "mPdJoX5LeUug",
        "outputId": "44a9e6e8-5f3c-4d23-9bd4-27a1f29bff46"
      },
      "outputs": [
        {
          "data": {
            "text/plain": [
              "(133547612291360, 133547612291360)"
            ]
          },
          "execution_count": 49,
          "metadata": {},
          "output_type": "execute_result"
        }
      ],
      "source": [
        "id(myset) , id(myset1) # The address of both myset & myset1 will be the same."
      ]
    },
    {
      "cell_type": "code",
      "execution_count": null,
      "metadata": {
        "colab": {
          "base_uri": "https://localhost:8080/"
        },
        "id": "8sSyrSIteUxg",
        "outputId": "3172e71a-9651-4179-9715-e1a76b9f5dfb"
      },
      "outputs": [
        {
          "data": {
            "text/plain": [
              "{'eight', 'five', 'four', 'one', 'seven', 'six', 'three', 'two'}"
            ]
          },
          "execution_count": 50,
          "metadata": {},
          "output_type": "execute_result"
        }
      ],
      "source": [
        "my_set = myset.copy() # Create a copy of the list\n",
        "my_set"
      ]
    },
    {
      "cell_type": "code",
      "execution_count": null,
      "metadata": {
        "id": "whg_z0sDeUzo"
      },
      "outputs": [],
      "source": [
        "id(my_set) # The address of my_set will be different from myset."
      ]
    },
    {
      "cell_type": "code",
      "execution_count": null,
      "metadata": {
        "colab": {
          "base_uri": "https://localhost:8080/"
        },
        "id": "Zth7-_5feU3C",
        "outputId": "1e40d3eb-94b2-4e5c-ac09-c6cc8a05cf58"
      },
      "outputs": [
        {
          "data": {
            "text/plain": [
              "{'eight', 'five', 'four', 'nine', 'one', 'seven', 'six', 'three', 'two'}"
            ]
          },
          "execution_count": 51,
          "metadata": {},
          "output_type": "execute_result"
        }
      ],
      "source": [
        "myset.add('nine')\n",
        "myset"
      ]
    },
    {
      "cell_type": "code",
      "execution_count": null,
      "metadata": {
        "colab": {
          "base_uri": "https://localhost:8080/"
        },
        "id": "Caj9JKzOfNNv",
        "outputId": "769b2f91-da6e-481e-d5f7-5ef10ba11ebb"
      },
      "outputs": [
        {
          "data": {
            "text/plain": [
              "{'eight', 'five', 'four', 'nine', 'one', 'seven', 'six', 'three', 'two'}"
            ]
          },
          "execution_count": 52,
          "metadata": {},
          "output_type": "execute_result"
        }
      ],
      "source": [
        "myset1 # myset1 will be also impacted as it is pointing to the same Set"
      ]
    },
    {
      "cell_type": "code",
      "execution_count": null,
      "metadata": {
        "colab": {
          "base_uri": "https://localhost:8080/"
        },
        "id": "XRcky-4_fNP9",
        "outputId": "3fb4814e-ab4b-44f8-ca41-cd5f02a9c955"
      },
      "outputs": [
        {
          "data": {
            "text/plain": [
              "{'eight', 'five', 'four', 'one', 'seven', 'six', 'three', 'two'}"
            ]
          },
          "execution_count": 53,
          "metadata": {},
          "output_type": "execute_result"
        }
      ],
      "source": [
        "my_set # Copy of the set won't be impacted due to changes made on the original Set."
      ]
    },
    {
      "cell_type": "markdown",
      "metadata": {
        "id": "_5j3WCkEhZMs"
      },
      "source": [
        "**Set Operation**"
      ]
    },
    {
      "cell_type": "markdown",
      "metadata": {
        "id": "aziPUe6ChdOH"
      },
      "source": [
        "**Union**"
      ]
    },
    {
      "cell_type": "code",
      "execution_count": null,
      "metadata": {
        "id": "Nt1R6k38fNSh"
      },
      "outputs": [],
      "source": [
        "A = {1,2,3,4,5}\n",
        "B = {4,5,6,7,8}\n",
        "C = {8,9,10}"
      ]
    },
    {
      "cell_type": "code",
      "execution_count": null,
      "metadata": {
        "colab": {
          "base_uri": "https://localhost:8080/"
        },
        "id": "2SuzpHC9fNU-",
        "outputId": "a3c03426-0c8b-470d-f713-db62d5c25f5f"
      },
      "outputs": [
        {
          "data": {
            "text/plain": [
              "{1, 2, 3, 4, 5, 6, 7, 8}"
            ]
          },
          "execution_count": 55,
          "metadata": {},
          "output_type": "execute_result"
        }
      ],
      "source": [
        "A | B # Union of A and B (All elements from both sets. NO DUPLICATES)"
      ]
    },
    {
      "cell_type": "code",
      "execution_count": null,
      "metadata": {
        "colab": {
          "base_uri": "https://localhost:8080/"
        },
        "id": "nqP4ivsdfNXd",
        "outputId": "3d980ce4-f6c8-4da5-8aa7-2ba77f4c3aec"
      },
      "outputs": [
        {
          "data": {
            "text/plain": [
              "{1, 2, 3, 4, 5, 6, 7, 8}"
            ]
          },
          "execution_count": 56,
          "metadata": {},
          "output_type": "execute_result"
        }
      ],
      "source": [
        "A.union(B) # Union of A and B"
      ]
    },
    {
      "cell_type": "code",
      "execution_count": null,
      "metadata": {
        "colab": {
          "base_uri": "https://localhost:8080/"
        },
        "id": "JdYSP8_pfNZ4",
        "outputId": "e2088d57-0eb1-4e92-f039-2c3c02f82064"
      },
      "outputs": [
        {
          "data": {
            "text/plain": [
              "{1, 2, 3, 4, 5, 6, 7, 8, 9, 10}"
            ]
          },
          "execution_count": 57,
          "metadata": {},
          "output_type": "execute_result"
        }
      ],
      "source": [
        "A.union(B, C) # Union of A, B and C."
      ]
    },
    {
      "cell_type": "code",
      "execution_count": null,
      "metadata": {
        "colab": {
          "base_uri": "https://localhost:8080/"
        },
        "id": "FXe3hzOXfNdf",
        "outputId": "6094736f-1de4-496e-c336-6751f1e1b3de"
      },
      "outputs": [
        {
          "data": {
            "text/plain": [
              "{1, 2, 3, 4, 5, 6, 7, 8, 9, 10}"
            ]
          },
          "execution_count": 58,
          "metadata": {},
          "output_type": "execute_result"
        }
      ],
      "source": [
        "\"\"\"\n",
        "Updates the set calling the update() method with union of A , B & C.\n",
        "For below example Set A will be updated with union of A,B & C.\n",
        "\"\"\"\n",
        "A.update(B,C)\n",
        "A"
      ]
    },
    {
      "cell_type": "markdown",
      "metadata": {
        "id": "YqeQ_D4thx_T"
      },
      "source": [
        "![Screenshot 2025-09-20 103935.png](data:image/png;base64,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)"
      ]
    },
    {
      "cell_type": "markdown",
      "metadata": {
        "id": "6lpeKT26h_Ri"
      },
      "source": [
        "**Intersection**"
      ]
    },
    {
      "cell_type": "code",
      "execution_count": null,
      "metadata": {
        "id": "8czRgv0qfNgR"
      },
      "outputs": [],
      "source": [
        "A = {1,2,3,4,5}\n",
        "B = {4,5,6,7,8}"
      ]
    },
    {
      "cell_type": "code",
      "execution_count": null,
      "metadata": {
        "colab": {
          "base_uri": "https://localhost:8080/"
        },
        "id": "bs6yoz9wfNi-",
        "outputId": "8e1af70e-26b1-40fa-9e75-c5961e954102"
      },
      "outputs": [
        {
          "data": {
            "text/plain": [
              "{4, 5}"
            ]
          },
          "execution_count": 60,
          "metadata": {},
          "output_type": "execute_result"
        }
      ],
      "source": [
        "A & B # Intersection of A and B (Common items in both sets)"
      ]
    },
    {
      "cell_type": "code",
      "execution_count": null,
      "metadata": {
        "colab": {
          "base_uri": "https://localhost:8080/"
        },
        "id": "BYuoQPrjfNl1",
        "outputId": "8a00773d-eb80-4317-a641-7590ba00fe3e"
      },
      "outputs": [
        {
          "data": {
            "text/plain": [
              "{4, 5}"
            ]
          },
          "execution_count": 62,
          "metadata": {},
          "output_type": "execute_result"
        }
      ],
      "source": [
        "A.intersection(B) #Intersection of A and B"
      ]
    },
    {
      "cell_type": "code",
      "execution_count": null,
      "metadata": {
        "colab": {
          "base_uri": "https://localhost:8080/"
        },
        "id": "mIiAWG63fNpI",
        "outputId": "a6904ba0-5ad1-4d4a-8873-c73171404971"
      },
      "outputs": [
        {
          "data": {
            "text/plain": [
              "{4, 5}"
            ]
          },
          "execution_count": 63,
          "metadata": {},
          "output_type": "execute_result"
        }
      ],
      "source": [
        "\"\"\"\n",
        "Updates the set calling the intersection_update() method with the intersection o\n",
        "For below example Set A will be updated with the intersection of A & B.\n",
        "\"\"\"\n",
        "A.intersection_update(B)\n",
        "A"
      ]
    },
    {
      "cell_type": "markdown",
      "metadata": {
        "id": "X6_7MQYKcylv"
      },
      "source": [
        "![Screenshot 2025-09-20 104200.png](data:image/png;base64,iVBORw0KGgoAAAANSUhEUgAAA10AAAGUCAYAAADOA0gKAAAAAXNSR0IArs4c6QAAAARnQU1BAACxjwv8YQUAAAAJcEhZcwAADsMAAA7DAcdvqGQAAGf1SURBVHhe7d13fBTV4v7xz6YnJKGE0DtIr9IRQhNURAUVUUREEZRm7165V3+2qyAWBFFAUVGxIYpIEwQUUHoLSAu9hRoIhLT5/XF397s52Q0tC9nheb9e93XhORPFTBLOM2fmjCM7O9tCRERERERE/CLIDERERERERCT/qHSJiIiIiIj4kUqXiIiIiIiIH6l0iYiIiIiI+JFKl4iIiIiIiB+pdImIiIiIiPiRSpeIiIiIiIgfqXSJiIiIiIj4kUqXiIiIiIiIH6l0iYiIiIiI+JFKl4iIiIiIiB+pdImIiIiIiPiRSpeIiIiIiIgfqXSJiIiIiIj4kUqXiIiIiIiIH6l0iYiIiIiI+JFKl4iIiIiIiB+pdImIiIiIiPiRSpeIiIiIiIgfqXSJiIiIiIj4kSM7O9syQxHJP59++ik7duwwYxEREfGze++9l0qVKpmxyCWn0iXiZ+3bt2f+/PlmLCIiIn42d+5c2rVrZ8Yil5xuLxQREREREfEjlS4RERERERE/UukSERERERHxI5UuERERERERP9JGGiJ+5msjjcKFC9OwYUMzFhERkfNw7NgxVq9ebcagjTSkAFHpEvEzX6Wrbdu2zJs3z4xFRETkPPz+++906NDBjEGlSwoQ3V4oIiIiIiLiRypdIiIiIiIifqTSJSIiIiIi4kcqXSIiIiIiIn6k0iUiIiIiIuJHKl0iIiIiIiJ+pNIlIiIiIiLiRypdIiIiIiIifqTSJSIiIiIi4kcqXSIiIiIiIn6k0iUiIiIiIuJHKl0iIiIiIiJ+pNIlIiIiIiLiRypdIiIiIiIifqTSJSIiIiIi4kcqXSIiIiIiIn6k0iUiIiIiIuJHKl0iIiIiIiJ+pNIlIiIiIiLiRypdIiIiIiIifqTSJSIiIiIi4kcqXSIiIiIiIn6k0iUiIiIiIuJHKl0iIiIiIiJ+pNIlIiIiIiLiRypdIiIiIiIifqTSJSIiIiIi4kcqXSIiIiIiIn6k0iUiIiIiIuJHKl0iIiIiIiJ+pNIlIiIiIiLiRypdIiIiIiIifqTSJSIiIiIi4kcqXSIiIiIiIn6k0iUiIiIiIuJHKl0iIiIiIiJ+pNIlIiIiIiLiRypdIiIiIiIifqTSJSIiIiIi4keO7OxsywxFJP+0b9+e+fPnmzFt27Zl3rx5ZizidxkZGaSkpHDw4EH27NnDrl272LFjBzt27GD37t3s37+fQ4cOkZKSQlpaGpZlERwcTFRUFEWKFKFEiRKUKVOG8uXLU6FCBSpUqED58uUpU6YMxYsXp1ChQgQF6ZpeQWNZFqdPn+bIkSPs27ePPXv2sGPHDnbu3MnOnTvZs2cPycnJHDlyhBMnTpCVlYVlWYSGhhIbG0tcXBwlS5akbNmyVKhQgYoVK1KxYkXKli1LqVKlKFKkCOHh4ea/VsTvfv/9dzp06GDGAMydO5d27dqZscglp9Il4mcqXXKpnTp1iq1bt5KUlERqaioHDx5k27ZtrF27lnXr1pGWlobD4SA7OxvLsrz+P+D+f0+uMhUUFITD4SAoKCjHrx0OB5ZlUbx4cRo3bkzNmjUpX748RYsWJTY2lpo1a1KxYkXzHyv5ZP/+/WzatInk5GROnDjBnj17+Oeff1i1ahU7d+7Esqwc59rz92bmydt5dzgcOb4GXOM1a9akXr16VKtWjdKlSxMTE0Pp0qWpXr06RYsWzfHPFckPKl0SCFS6RPxMpUv85eTJkxw5coQdO3Ywf/585s+fz8mTJzl69Cj79u3jxIkT5odcVsHBwRQtWtQ9ES9TpgydO3emadOmlChRgvj4eEJCQswPEy+Sk5M5evQoa9asYebMmWzcuJFTp06xf/9+jhw5wpkzZ8wPuayioqIoUaIExYsXJzIykmbNmtGxY0euuuoq4uLiKFKkiPkhIudMpUsCgUqXiJ+pdEl+SU1NZe7cuaxcuZJdu3Yxa9Ysdu3ahcPhAOftY4HG9Wd3OBw0bdqUli1bUr58edq2bcvVV19tHn7F2rZtGzNnzmTnzp2sWbOG3377jfT09IA9955/7tjYWDp37kzNmjW56qqr6Ny5MyVLljQ/RMQnlS4JBCpdIn6m0iUXau/evWzZsoUFCxYwefJkDh8+zLFjx0hLS3Mf47qdz25iYmIoXLgwV111FX369KFevXpUr16d6Oho81DbsSyL9evXs2XLFr7++muWLFnC8ePHOXnyJFlZWebhAc38+g0NDaVw4cLExsbSpUsXbrzxRqpWrUq1atVyfJyIJ5UuCQQqXSJ+ptIl5yMpKYnPPvuMtWvXMn/+fA4fPmweckVyOBzUrVuXBg0a0KlTJ7p3726rApaens7vv//O999/z8aNG1myZAkZGRnmYVekqKgo2rZtS/Xq1bn77rtp0qSJeYhc4VS6JBCodIn4mUqXnM3vv//O4sWLGTduHHv27CEzM9PrJhb5KTIykujoaIoWLUpMTAyRkZGEh4cTEhJCcHCwe6MEk2vDhczMTDIzM0lLS+PUqVOkpKRw9OhRUlNT/V4WwsLCAGjTpg29evWiWbNm1KlTxzyswNuzZw+LFy/mp59+4scffyQjI+OSPYsVERFBdHQ0UVFRREZGEhERQVhYGGFhYe7z79ocw/Ocp6enc+bMGc6cOcOpU6dITU3l5MmTfj/nLuHh4URHR3PPPffQoUMHEhISiI2NNQ+TK4xKlwQClS4RP1PpEtOZM2dYv349Y8aMYdGiRWzZsiXfJq1BQUFERES4C1RMTAytW7emXr16lCtXjiJFihAWFkbRokWJj48nNjaW6OhorwXrXKWnp5OamsqRI0c4dOgQJ0+eJC0tjUOHDrFt2zb+/vtv1q5dS0ZGBqdPn873chETE0OtWrXo0aMHPXv2pFy5cuYhBcahQ4eYMWMGn3zyCWvXruXQoUPmIRctMjKSqKgoSpYsSbVq1ahcuTIVKlSgXLlylCxZkpiYGAoVKuS1cJ2NZVmkp6eTnp7uLtyu8pWSksL+/fvdW9AnJSWxZcsWDh8+zKlTp/L1nLuUK1eOxo0bM3DgQFq1amWr1U85dypdEghUukT8TKVLXBITE/nmm2/49ttv2bBhgzl8weLj42nTpo37fUmtWrWibt26xMXFmYdeVtnZ2ezcuZNly5axYsUKjh07xj///MOiRYvybUIeHBzM9ddfz80330yvXr0oVKiQechl8cMPPzB9+nS++uorTp8+bQ5fsJIlS1KrVi2qV69O9erVqVGjBtWqVaNKlSrnVKIuhRMnTrBt2zY2b97Mpk2b2Lx5Mxs3biQxMZGUlBTz8AsWFxdH79696d69OwkJCeaw2JhKlwQClS4RP1PpurIdO3aMefPm8eabb7Ju3TpSU1PBywYC5yI4OJgSJUoQFxdHo0aNuO2226hWrZp7K+5AlJ2dze7duzl06BDLli3jm2++Yc+ePezbt++iJuRBQUEULVqUbt26MWDAAJo2bWoe4nf//PMPX375JRMmTODQoUMXXSzj4uIoW7YsTZs25ZprrqFJkyaUKVOGokWLum8FDBTp6ekcO3aMHTt28Pfff/PHH3+watUq9uzZc0GvOvD8foqMjKRSpUoMHjyYm2++uUCvfEr+UOmSQKDSJeJnKl1XBsuyctyil5SUxKhRo/j+++/ZuXNnjmPPVXBwMNnZ2TRs2JBbbrmF6tWr065dO0qVKmUeajurVq1i8eLFbNiwga+++oqjR4+Cjxc2n01QUBAtWrSgd+/e9O/fn+DgYPOQfPXTTz8xfvx45syZc1GrWg6Hg2bNmtG+fXuaNWtGo0aNqFSpknmYrWzYsIGVK1eyZMkSZs+ezcaNG81DzktMTAzdu3dn0KBBNGvWzBwWm1DpkkCg0iXiZypdV5YFCxbw7rvvMm3atAt+TqtatWrUrl2b7t27c/311xMfHx9wKxn56cyZM2zfvp0vvviCRYsWsWLFCo4fP24edlZBQUHExcUxZMgQevfuTeXKlc1DLtixY8f47rvvePPNN9m+fTuZmZnmIeekatWqNGnShBtvvJFrr72W0qVLm4dcMbKzs9m6dSszZsxg1qxZLF++nH379pmH+eS5+hUaGkrjxo154oknuPXWWy/qGUYpeFS6JBCodIn4mUqXPXmubGVnZ/Ptt9/y9ttvs3LlyvOecEdGRhIXF8fdd9/NddddR+PGjYmJiTEPE6ekpCRWrlzJxIkTmT9/vntzjvMRExPD9ddfz7/+9S/q1atnDp+zvXv3MmLECL744guSk5PN4XNSvXp1evToQZcuXahXr57OvQ+HDh1ixYoVTJkyhWnTprF7927zkHNStWpVHnzwQR588EF9rm1CpUsCgUqXiJ+pdNnbRx99xHvvvUdiYqI5dFbly5ene/fudO/enbZt25rDcg5Onz7NV199xaxZs5g6dep5PzcVFBRE9+7deeyxx2jVqpU57NP27dt56623mDBhwnn/OwFq1qzJzTffTLdu3WjZsqU5LGdhWRYzZ87kp59+YsqUKezfv9885KyKFSvGI488wtChQylSpIg5LAFEpUsCgUqXiJ+pdNlPZmYmn3/+Oa+88grbt293r3qdy8YYRYsWpWXLljz++OM0adJE7xjKR7t37+bnn39m3LhxbNy48Zyep3Kdt7CwMNq3b89LL72U69kfz1XNpKQk3njjDT7//HPS0tJyHHc28fHxXHfddfTv359mzZoRERFhHiLnwHx+8vjx48ybN49x48Yxf/58Tp48meN4bzy/X4sWLcrQoUN5/PHH3d+P5r9DCjaVLgkEKl0ifqbSZS+TJ0/m5ZdfPq8t34OCgqhevToPPfQQt912G2XLljUPkXy2cOFCvvvuOz7++GPOnDlzToUYICQkhBtvvJHXXnuNWrVqufPDhw/z0ksvMWHCBE6dOpXjY86mRYsW3H///XTr1o34+HhzWPLRtm3b+Pbbbxk3bhxbtmwxh/NUqlQpHnvsMR5//HH3ZisqX4FBpUsCgUqXiJ+pdNnDvHnzePrpp1m5ciXZ2dnntLIVGRlJx44dGTp0KJ06dTKHxQ/MSXJKSgrjxo1j4sSJrF27NsexeQkLC2PAgAH06dOHBQsWMGzYMHfZOpdzHxUVRbdu3Rg6dCgtWrQwh8XPsrOz+eWXX/jwww/59ddfz3q+PJUvX56XX36Ze++91xySAkqlSwKBSpeIn6l0BR7PiXtiYiJPPPEEv/32W54bZHhOxGNiYujfvz/9+/enRo0a5qFymcyePZv//ve//Pnnn+f8HFZoaOhZN+nwPPdly5Zl0KBB3HPPPZQvX948VC6DxMREPvzwQz799FP3O8DOpTjXqVOH999/XxP2AKDSJYHgyt2DWETEB4fDQUpKCs8++yyNGjVi5syZeRYunEUtPj6eYcOGsXPnToYPH67CVcB06tSJOXPmMH/+fO666y7CwsLMQ3I5W+HCee5r1KjBe++9x9atW3n++edVuAoAV6mqXbs27733Hlu2bGHYsGHEx8eftXABrF+/nmuvvZYePXqQlJRkDouInBeVLhERjwkawNdff021atV48803z2nSXbJkSd588002bdrEf/7zHwoXLmweIgVIs2bNmDRpEitXruSuu+4iPDwcnGX7fNWuXZuJEyeyZs0ahg4dSnh4+DlN6MX/PM+nZVmUKFGCl156iU2bNvHGG2+c0zvQsrOz+f7776lTpw6vvvrqBb2cW0QElS4RudK5JsgOh4Pt27fTpUsXevXqxaFDh8xDwZjIFSpUiDfeeIONGzfy5JNPqmwFmFq1ajFp0iR+++03ihYtel5lKSgoiBEjRrB+/Xr69OmTY9XsQsqb+JfnOSlSpAjPPPMMGzZs4NVXX6Vo0aJej/OUlpbGiy++SMOGDVm8eLE5LCJyVipdInJFc02yPvjgA2rXrs2MGTPMQ3KwLItChQrx2GOPsWvXLp5++mmVrQC2evVqhgwZwvHjx82hPGVnZzNu3DimTZtmDkkAsCyLwoUL8/zzz7N582aeeOIJQkND8yzeDoeDdevW0bZtWx5++OFzeiWBiIiLSpeIXHE8J1YbNmzg6quvZujQoT7fu+QqZqGhodxzzz2sX7+eESNG6IWqAcjz3D/55JO0bNmSVatWXdBtYxs2bOCmm26iT58+HDt2zByWAsxzRSsuLo7hw4eTmJhI3759cxznyfW1k5mZyahRo6hSpQq//vprrnEREW9UukTkiuOacI0YMYKmTZuyatUq8xDwOM6yLFq0aMHChQuZOHEiFSpUMA+VAs7zNtKlS5fSqFEj3n77bdLS0nzeUnauPv/8c+rUqcMvv/xiDkkAqVatGp988gmLFy+mTZs25nAODoeDAwcOcMsttzBw4EB3JiLii0qXiFxx9u3bR9euXXnqqafyfNGt6xak8ePHs2jRIpo1a2YeIgHA8ngFwNtvv02rVq1YvXp1jlLtTU3gY+Bsb1hzOBzs3buXrl278vDDD7u3o/f1z5WCy3WBZcGCBXz66acUK1bMPAQ8zm1WVhZjx46lYcOG/PXXX+ZhIiJuKl0iYnuek9+ffvqJWrVqMX369BzHuLgm4kFBQdxzzz1s3bqV++67zzxMAojD4eDkyZO0a9eOJ598kqysLDhLKXoeWAk8AMwCxgD/t91CTp7/nPfff5+mTZuSmJiolY8A5HnO7r33XjZu3MgDDzyQ4xhPrnO/Zs0aEhISGDlypHmIiAiodInIlcA1kRoyZAi33347KSkp5iFulmVRtWpV5s2bx8SJE31e6ZbAMXv2bKpWrcqCBQvOWoTaAYnAq0AE4KpTDwFbgH7G8d6sXbuW+vXrM27cOHNIAkx8fDwff/wx8+fPp06dOuZwDhkZGTzxxBN07tz5vDdmERH7U+kSEdvbv38/LVu2ZPTo0V5fcuyaiIeEhPDYY4+xfv36sz7TIQWX58rTiy++SNeuXUlOTs41BuCqYCHACGAeUMvLuAUUA8YBPwFlPI7xJisri/79+/PQQw+5N+kw/90SGCzLIiEhgRUrVvDEE0+4c18Ffs6cOdSsWZPly5ebQyJyBVPpEhFbmzNnDvXq1cvzeQvLsihXrhzTpk1jxIgROd65JIHHdTvhnXfeyauvvprnC64toAWwCnjcIzN5Tq9vAtYBPTwyX8aOHUvTpk3ZunWrz0m6FGwOhwPLsggLC2P48OHulVNfJdq1yUbbtm0ZNWqUO/d1vIhcGVS6RMRWPCc2b7/9Nl26dOHw4cM+J7wOh4N77rmHxMREOnfubA5LANq4cSP16tXjm2++8XrePZN/AYuBOh5lK/dH5GQ5n+/6BpgIuF4c4O3jHA4HK1asoGnTpsyePdsclgDh+XV07bXXsmbNGvr1+7+bTT3HXT+DTp06xcMPP0z//v3dx6h4iVy5VLpExDYsj13qBg8ezJNPPum+ndBzsuM6plChQowfP56JEycSHR3tHpfA4nluFy5cSIMGDdixY0euMRcLKAfMB/6fR+6tNHnjeVwfYA3Q2scKmevff/ToUTp37szYsWPNQyQARUVFMW7cOL788kuioqK8fp25jB8/ns6dO3P06FGvFwFE5Mqg0iUituG6rax9+/aMGTPGHHazLIuaNWuyZs2aPF+GKoHBNZH98MMP6dixIxkZGXlObrsB64EEc+ACWEB5YCHwnDnoxUMPPcRTTz1lxhKg7rrrLtatW0fjxo3NoRzmzJlDgwYN2LBhgzkkIlcIlS4RsY1du3bRoEED5s+fbw7l0K9fP9asWUPlypXNIQkgnqsLgwcPZsiQId5XNt2/gv8CU4BYj+xieP6zXwO+A2I8Mm+GDx9O9+7dSUtLAx+rcRIYLMuicuXK/P333wwZMsSdeyv9u3fvpnHjxrrNVOQKpdIlIrawfPly6tevT1JSktcJD0BoaCgff/wxH3/8MSEhIeawBBjXee7atStjxoxx7xJosoDiwBzgaY/MH25zbspxtTlg+PHHH2ndurX7ljMVr8DkOndBQUG8//77TJw4keDgYK/n0+FwkJaWRpcuXfjqq6/MYRGxOZUuEQl4s2fPpm3bthw/fjzXBNY1MS9RogS//vqr++F3b5MiCQye5659+/ZMnz7da9F2JVcDy4COHmUr99H5wwKqAH8Bd5mDhuXLl9OyZUt2796d6+tWAofn116fPn1YvHgxpUuXzjXmOr9ZWVncc889jB492j0mIvan0iUiAe3777+nW7dunDp1CryUKcuyqFWrFsuXL6dDhw7u3NskXQKDw+EgMzOT5s2bu28lNc87zgLUHVgEVHRm/j7rrn9+CPAl8Kwxbvrnn39o3rw527Zt09ekTTRt2pTly5dz9dVXe/26BMjOzubhhx/m5Zdfdme+jhURe1DpEpGANX78eHr37s3p06fNIbfrr7+edevWUbZsWXNIAoxrUnrixAkaNGjA0qVL8ywqTwE/AOF+vJ3wbF53bivv+lOaf1qHw8HevXtp0qQJK1asMEYlEFmWRenSpVmyZAm9e/c2h92ys7N56aWX3C9czutrWUQCn0qXiASkUaNGMXjwYM6cOWMOARAUFMSgQYPct57pKnJgs5yvAzh69CgtWrRgw4YNuc6r55T1Q+BNj99fzulsH+f29HHO8uf5Z3H9+Y8ePUrr1q35888/PUYlELnKU2hoKJ9//jnPPut7vdOyLN555x33u7xExL5UukQk4AwfPpwnnniC9PT0HLlrshMcHMywYcMYNWoUeEzYJXA5HA6OHTtGq1atfBYuy/mX2o/Agzk++vJrA/zp3F7eW/13OBycPn2aTp06sXTpUtDtZrbx+uuv8+abnpcAcrIsi/Hjx3P//ffnyETEXlS6RCSgfPDBB7zwwgtkZGSYQ1iWRUhICCNHjmTYsGHuXIUrcLkmnydPnqRNmzb8888/PgtXFPAbcIvHxxcUFlDD+XzZVc7MXPFyFa8OHTqwbt26XP+dErieeuopJkyY4P69t59Jn376KYMHD/Y5LiKBTaVLRALGxIkTeeKJJ7wWLpy383zyySc53pcjgc3hcJCVlUWrVq1Yv349GKsArsJV2PmC4nYeH1uQuKbQ5ZwrXg28rHh5Fsy2bdu6C6bYw3333cdXX31FUFCQz9X3Dz/8kMcff9z9e5VuEftQ6RKRgPDtt98ycODAXLcUuoSFhfHDDz9w9913m0MSgFyTzezsbJo1a+Ze+TFZQFng73N4N1ZBEQ8sAdqbA04Oh4MjR47QunVrNm3aZA5LALvzzjuZNWsW4eHhXguVZVm8++67/Pvf/wateInYikqXiBR4v/32G3379iUtLc0cAucK1/Tp07nxxhvNIQlQrslmQkICK1euzHWrnWsqWta5clTdPVLwWUAEMAtwvcTAvNUQ4NChQ7Rv3569e/fmyCWwdezYkVmzZhEWFgZeipVlWbz66quMGDEiRy4igU2lS0QKtJUrV9KtWzdOnz6dY3Li+nVISAg///xzjndwSeDyLBZdunRh0aJFXguXBZQAfne+gyuQ6ojrzx8CzABa+/jzO5zbyd9www3ur38VL3tISEhg+vTphISEeD2n2dnZPPvss3z77bfmkIgEKJUuESmwDh48SNu2bUlNTc014bScm2ZMnjyZzp075/g4CVyuMv3AAw8wY8aMXOfdVVjinNuwV3P+PtBuwnL9d4Q6V7yaeOQurv/uNWvW0K1bt/+Nq3jZRseOHZk2bZr79+aKV1ZWFnfffTfz5s3LkYtIYFLpEpECxTWhPHPmDAkJCZw8eTJH7hISEsKECRPo3r17jlwC39tvv83EiRPBOO+uohLtXOGq6ZEHItefOxKYA9TLo0DOmjWLhx56CLxMziVwXXfddUyePBm8/IwDyMzM5MYbbyQxMdHnMSISGFS6RKRAcU0ob7rpJjZt2uR1ghkSEsK7775L7969zSEJcNOnT+fZZ58lKyvLHMICwoG5QF1zMMAVBhYAtfIoXmPHjnVvsCD2cccdd/Dll1+asVtaWhqdOnXi8OHDWukUCWAqXSJS4DzyyCPMmTMHzJUOh4OgoCD+85//MHDgQI+PkEDmOserV6+me/fuZGZmmoe4/QA0NUMbsIAiwDTns2q+itfLL7+c5wRdAtNdd93F+++/b8Zu+/bt44477gCtdIoELJUuESlQxo4d63PyYVkW9957L88//7z79xL4HA4Hhw8fplOnTmRkZPicVI4FupihTbhunawC/AwEO3/vTd++fVm1ahXoe8BWhgwZwpNPPmnGbvPmzaNv375mLCIBQqVLRC4718Rx5syZPPzww+awexLerl07xo8fnyuXwNenTx8OHToEPorEMGCAGdqMq3g1A/73lE9uDoeDjIwMevTowfHjx/U9YDNvvfUWd911F/j4+fbZZ5/5vCglIgWbSpeIXHYOh4Njx47Ru3dvMjIyzGEsy6JGjRr8+uuv7t+LfTzzzDP8+uuvXieZAH2Al8zQplyfgduA94wxPL72t2zZQq9evcxhsYEvvviCpk2b+vw59+yzz7JkyRIzFpECTqVLRAqE7t27c/jwYTMGIC4ujhkzZhAeHg4+rgBLYHFNKL/99luGDx+eI8OjfLQF/reP4ZVnKPCoGXqYPn06L774ohlLALMsi6CgIH7++WcqVapkDgNw+vRpbrnlFo4ePWoOiUgBptIlIpfdCy+8wPz5872WqdDQUCZNmkTFihV9XvmVwGJZFg6Hg3379vHQQw95Pa8WUAr42hy4wowEXK/9zv3dAa+88opWgG3EtTthyZIlmTJlCkFBuadpDoeD5ORk98YaIhIYcn83i4hcQnPnzmXEiBFgrnQ4C9h7773nfvmxt1Imgcd1Hrt27Zrn1frvnMXrSq0Srv/uyUAZL58H1+fx/vvvd28nLoHPdR4bNmyY4xlWF9dFi99++42RI0eawyJSQKl0icgl5ypXycnJ9OjRg/T0dPMQLMuiZ8+ePPjgg+aQ2MCwYcNYuXKlz6IwGrjGWTS8H2F/Dud/f3HnVvkm1/fR/v376devnzksNtC3b1+GDBlixu5z/8wzzzB//vwcmYgUTCpdInLJuSbaDz30UK6VDtdY5cqVvV7llcA3b948Xn/9dTBXN53/3x9wvYXtSi1cLq7//ubAKGPM09SpUxk1Kq8jJFC9//77NG/e3IwByMzMpF+/fmRlZfm8gCEiBYNKl4hcUq5J9ogRI5gyZYo5jGVZREVF8fPPPxMVFaWrtzaTmprKXXfdRVZWVo7ctapT2/k+LsltMHC389feptePPvooa9euNWOxge+++47Y2FgzBmDbtm3079/fjEWkgFHpEpFLyuFwsGvXLv7973+bQ24jRoygdu3aoOe4bGfAgAEcPHgw13m1nC8E/sxHoZD/+QCo5OP5rqysLB544AFjRAKdZVmUK1eOjz76yBxy++KLL5g2bRroNkORAkulS0Quub59+3Lq1KkcE2/Xr2+77TY9x2UzrkngggUL+Oabb3Jknt4EGpuh5FDYxxb6rs/n33//zRtvvGEOSwBz/Wzs2bMngwcPzpG5uG4zTElJyTUmIgWDSpeIXFLjxo3j999/x+HcGtnFdTX3448/znG8BD6Hw0Fqaip9+/bNdVuhy43A42YouVhAAvAfc8DDsGHD2LBhgxmLDbz99ttUr14910ULh3Mb+ccf13eRSEGl0iUil8y+fft49NFHsSwr16QhKCiIcePGUaRIkRy52MMLL7zA9u3bzRiAOGCCGYpXrjWMfwOtjTGck++MjAz3iojYS1hYmNcNhlw/Tz/55BPmzp1rDotIAaDSJSKXzODBgzl16pQZg/OWQ9f7uMQeXBPBefPm8cEHH5jDbqOBEl6eUxLvXJ+n8UCIOXaOn3MJXK1bt+Zf//qXGYPz/A8cONDrazhE5PJS6RKRS2L69OlMnTrV6/MGJUuWdL8gWezDda4ff/xxn7cVdgDucP4691eGeOPa6bE68Lw56OG5555j7969Ziw28OKLL7o3G/LkcDjYvHkzw4cPBx/PTorI5aHSJSJ+l5mZyeDBg73eVuhwOBgzZgyFCxfONSaB7+2332b16tVmDEAhbQ9/wVwF9SWgkTGG8/vqxIkTPP300+aQBDjLsggLC/P6/KvrZ+grr7zC5s2bvV7kEpHLQ6VLRPzGNQEYPnw4O3bsMIcBuP322+nWrRt42ZFLAtu+ffsYNmyYGbu9AVTTbYUXzPV583YToet7b9KkSfz111/msAQw1yZErVq14qGHHjKHAUhLS+Opp54yYxG5jFS6RMRvHA4He/fu5f/9v/9nDgEQGRnJ22+/bcZiEy+88EKuZ/hctbotMMTI5Py4Pm8tgSeMMU9a7bIf1wWq119/nXLlypnDAPz000/MmDEDdJuhSIGg0iUifvXkk09y+vRpMwbgrbfeomzZspoQ2ND69euZNGmSGbtXZ94xcrk4rwAVzNBpwYIFfPrpp2YsNlCkSBHeecf3d9MjjzwCuotApEBQ6RKRfOcqUcuXL+eHH34whwFo3LgxAwcOBE0IbOnZZ58lIyPDjAF4EGhohnLBLCACeNkc8PDyyy9z8uRJMxYbuO2220hISDBjALZs2cKHH35oxiJyGah0iUi+c5Wop59+mvT09BylyuFw4HA4GDlypPvZBLGXadOmMXPmTK9lOg541Qzlorg+y/cCLYwxnN9zSUlJjBw5EnSrmS25zq3JsixefPFF0tLSzCERucRUukTEL6ZNm8bChQvBmORZlkXXrl1p3fp/r3b1NjGXwPbyyy+TmZnpdXL/b2fxyj0iF8P1+XzDyPH4/nv33Xc5dOiQvudsxrIsrr76ah588EEwfqY6HA4OHz7Mm2++6fERInI5qHSJiF+4Jt6miIgIXn45rxuhJBC5Jvbfffcdy5YtM4cBqAoMdv5a0/785blBSS9jzOXw4cN5Pv8jgclVsv71r38RHR2d6yIXzsJ98OBBdy4il55Kl4jku8mTJ7Ns2TKvV9T79OlDgwYNzFgCnOtcP/fcc+aQ26v6S+eSeAWIMkOnkSNHavJtU+XKleOZZ54xYwCOHj2q20tFLjP9/Sci+W748OHg5S/3QoUK8fzzz+fIxD4mTpzo831sTYGeZih+Udn5fBfGiqLD4eDUqVNa7bKxRx99lLi4ODMGYPTo0Rw5csTrxTAR8T+VLhHJV9OmTWP58uVmDMCgQYOoUMHXxtYS6F5//XWvt5TifJZLLp3nnTsael72cF0E+eCDD9i9e7fHiNiBZVlER0f7vLB14sQJ3nrrLTMWkUtEpUtE8tWrr3rfmy4mJkYvabUh10R+ypQpbNq0yetV9ATgRjMUvyrn8fJpU0pKCh9//DF4WY2WwOX63hswYAAVK1Y0hwEYM2YMycnJZiwil4BKl4jkm9mzZ7NixQozBudLOuPi4jTJsxnXRM91Bd3b+dUq1+XxFBBrhk5jxowhNTXVa0mWwBYdHc3QoUPBy+6wKSkpjBs3LkcmIpeGSpeI5Jv33nvP6wtxY2NjGTRoEHiZBEjg+/PPP33eUno90MEMxe8soATwmDnglJyczEcffWTGYhMDBw6kbNmyXi+CjBkzhtOnT5uxiPiZSpeI5IvExERmzZplxgD07NmTUqVKmbHYxJgxY7yWbYCBZiCXhOvSRl/ns13ejB8/3ud5k8AWFRXF4MGuFzTktHv3br766iszFhE/U+kSkXzx5ptvep3AhYaG+nywWwLf5s2b+fbbb80YgIbAzWYol1Ql4A4zdFq/fj0//vijGYtNDBw4kOLFi5sxOF8dICKXlkqXiFy0/fv3+5y83XnnnT4f6pbA99Zbb3kt2wCPm4FcFr5uMQQYMWKEGYkNWJZFkSJFuP/++80hHA4HiYmJLFiwwBwSET9S6RKRi/bFF1+QkpJixkRERPDAAw+YsdjEgQMH+OGHH8wYgDLArWYol0XDPHaP/Ouvv1i8eLEZS4Dz3MkwJCQkx5hlWViWxahRo3LkIuJfKl0iclEyMjJ8PpB/9dVX06ZNGzMWm5gxYwZHjhwxY3A+S1TIDOWyecQMPHzxxRdmJDZRtWpV7rzzTjMGYObMmWzevNmMRcRPVLpE5KL88ccfbNmyJceuhK5fP/roox5Hit34ujUtFBhghnJZdQLqm6HT5MmTSU1NNWOxCW+3GOJ8WfL06dPBx6seRCR/qXSJyEVxPZDt+Ze2ZVlUrFiR66+/3uNIsZM///yTLVu2mDE4N27QU3wFh+s7s5/z/z1f2uBwODh8+DBTpkzxSMUuLMuiffv21K1b1xwC4J133gG9ykPkklDpEpELtnv3bv744w8zBuCOO+4gOjrajMUmvv/+e9LS0swYgN5mIJeVazp9u/OWT881DdfFkgkTJnikYheuMvXggw+aQ+DcBGnmzJlmLCJ+oNIlIhfst99+49ixY2ZMeHg4/fv3N2OxiZMnT/qcpNdyvhBZCp68NjdZsGABq1evNmOxiVtuuYWiRYuaMWfOnPH5ygcRyV8qXSJywUaPHm1GADRv3pxq1aqZsdjEkiVLvO5WCXCvGUiB4uv8ZGVlMW3aNDMWmyhfvjydOnUyYwC+++47kpOTzVhE8plKl4hckB07drBmzRozBuChhx4yI7GRDz74wIwACAa875MmBUVHoKoZOn3zzTdmJDbSt29fM8LhcJCSksKSJUvMIRHJZypdInJBJkyYQHp6uhlTvHhx2rVrZ8ZiE8ePH2f58uVmDM53QWkDjYLL9SzX3UbusmbNGlasWGHGYhPt27fP9aJ61zN97733Xo5cRPKfSpeIXJCFCxd63Wa4RYsWlCpVyozFJhYuXMju3bvNGICuZiAFimtDDV8vSgb0fI+NRURE0KNHDzMGYN26dRw8eNCMRSQfqXSJyHnbuHGj110LHQ6Hz3fCiD1MnTrVjACIBG42QymQmgKNzNBp5syZZGRkmLHYRNeu3i+NHDhwwP3OLhHxD5UuETlvc+fOJTMz04wJDw+nQ4cOZiw2kZ6ezuTJk80YgDZASTOUAsmRx2rXypUrtYuhjbVt25bq1aubMQDz5s0zIxHJRypdInLeJk6caEYA3HnnncTGxpqx2MSsWbN8roJoA43A4v0ms/+ZPXu2GYmNdOnSxYzAeWtpamqqGYtIPlHpEpHzsn//frZt22bGBAUF0bp1azMWG5k6dSpnzpwxY6KA9mYoBVr9PG4x9HULqdjD7bffbkYAZGRk8Ndff5mxiOQTlS4ROS8//fQTR44cMWOKFy/u83kBCXxnzpxh1apVZgzOyXslM5QCz/t6x/+e2dy1a5cZi03UrVvX63sUs7Ky+PTTT81YRPKJSpeInJf169d73bWwQoUKlChRwozFJhITE30+69PGDCQg+Dpvx48fZ8GCBWYsNlG4cGGuueYaMwZg06ZNZiQi+USlS0TOWV4bKWjXQntbvXq1181TAG4xAwkI1wDlzNBJmyrYW+fOnc0IgLVr1/q8uCIiF0elS0TO2f79+zl48CAOh+uNP/+nRYsWZiQ24FrVnDBhgjkEzkl7QzOUgBCdx7mbN2+e15efiz106NCB4OBgM+b06dNs3brVjEUkH6h0icg5+/XXXwkKCsp1e2GNGjWoWrVqjkzswVWwt2zZYg4BcAMQYYYSMHytUm7bts3nS7Al8JUqVYr69eubMTh/zotI/lPpEpFzNn36dLKzs82Yli1bEhMTY8ZiE3PnziUlJcWMAdBb2QJbXrtO6rkue7vuuuvMCIBffvnFjEQkH6h0icg5ycrKYu/evWZMcHAwdevWNWOxkb/++ovTp0+bMdGAznxgKw3UMUOnhQsXmpHYSKtWrcwIgBMnTmj3ShE/UOkSkXOycuVKEhMTzZjw8HC6d+9uxmIjSUlJuW4pBaig0hXwooDGZuikDRXsrW7duhQvXtyMOXPmDD/99JMZi8hFUukSkXOyY8cOr6sdYWFhVK5c2YzFJlJTU5k1a5YZQx4rJBJYfL0kOSkpSZsq2FjlypWpUKGCGZOZmamt40X8QKVLRM6Jt1UugISEBDMSGzl58iQ7d+40YwDamoEEpGZm4HTkyBH++ecfMxYbadjQ+/6VKtsi+U+lS0TOyQ8//GBGAHTt2tWMxEY2bNhgRm6q2/bQFChqhk7Lly83I7GRNm28vyJ7/vz57Nmzx4xF5CKodInIWWVlZbFt2zYzBqBMmTJmJDYybdo0MwKglPOZLgl8oXk8m7dmzRozEhtp1sz7OmdqaiqHDx82YxG5CCpdInJWW7duJSsry4wpUqQINWrUMGOxEV+T7rpAYTOUgNXEDJxWrlxpRmIj5cuXp0SJEmYMoOe6RPKZSpeInNWff/5JZmamGVO1alW9FNnmTp48aUYAVDcDCWj1zMBpz549WvGwsejoaJ+v/Jg3b54ZichFUOkSkbNasWIF6enpZkxsbKwZiY3s2bOHpKQkMwZA65v24qtEp6WlsW7dOjMWm3A4HNSp430f0sWLF5uRiFwElS4ROasTJ06YEQ6Hg2rVqpmx2Mg///zD0aNHzRiA2mYgAa0sEG+GTr5uMRV78HWL+JkzZ8xIRC6CSpeI5Ck7O5sdO3aYMQ6Hgw4dOpix2MiJEye8rnAWAmqaoQS0skA5M3TKawdLCXy+bhE/evSodjAUyUcqXSKSp3379vl8mN7XswBiD/v37zcjcG6g4WuCLoEpNI/dKHfv3m1GYiNVq1b1eqv4sWPHtMopko9UukQkT0eOHCElJcWMyc7OJi4uzozFRnyV7fJmILbgq3QdOHBAt5rZWMWKFYmOjjZj0tLSvN7lICIXRqVLRPLka/e6mJgYoqKizFhsZMWKFWYEgPebkSTQVTYDp3379nH8+HEzFpsICwsjPt77E32nTp0yIxG5QCpdIpInX7cWNWvWzOstKWIP2dnZbN++3YxBpcu2qpiB0969e72udot9+NoUad++fWYkIhdIpUtE8rRlyxYzgjz+khZ7yMrKIi0tzYwhj8m5BDZf5zUrK4sjR46YsdhIlSrez76vV0aIyPlT6RKRPK1atcqMAChdurQZiY3s27fP6wuxASqZgdhCBSDYDJ00+ba3SpW8f1evW7eOjIwMMxaRC6DSJSJ5+ueff8wIgEKFCpmR2Mi2bdvMyK2oGYgtRABlzNBJW4fbW9myZc0InHc6nD592oxF5AKodIlInnxd5QwPDzcjsZGkpCSys7PNmBgg9z5nYgehQAkzdDp06JAZiY34unMhOzvb67v6ROT8qXSJiE/Hjx/3OvGOiIigfHltHG5nu3fvJisry4yJdr4cWewnCPD1Eojk5GQzEhuJiYkxI7djx46ZkYhcAJUuEfHpwIEDXifeoaGhPm9HEXs4ePCg18IdDehFAfZVzAyctNJlb1FRUT53oz1w4IAZicgFUOkSEZ927tzp9fbCvN7rIvaQmpqKZVlmTIxWumytuBk4aaXL3iIjI32WLm0bL5I/VLpExCdfpSs8PJzChQubsdiIt1UunCtdvna4k8Cnla4rU3h4uM9bDH29q1FEzo9Kl4j4tG3bNq8PUYeFhREVpZvM7MzXdvHaRMPefD3T5eudbWIP4eHhPnek3blzpxmJyAVQ6RIRn7Zv3+51pSskJISwsDAzFhs5c+aMGYFzW3GxL1+XUrKysrw+3yn2kNeFtF27dpmRiFwAlS4R8Wn37t1eS1dwsG4wsztvK5wAqtr2FmIGTtnZ2T5XPyXwBQUFERHh/ZKKnukSyR8qXSLi04EDB7xOtBwOhxmJzfha6dLb2ewt1AycsrKyfBZxsQdfdy8cPHjQjETkAqh0iYhPhw4d8npLkUqX/fmaYHuflold+Cpd2dnZXle9xT5CQ72f/aNHj5qRiFwAlS4R8enYsWMqXVegzMxMn6VLK1325n3ardJ1JfB123hKSooZicgFUOkSEZ+8FS6xv7wm2Cpd9uardGVlZfn8mhB7CAryPiX0dou5iJw/799hIiJyxfL2UmQXrXHaW17nN6+vC7EvnXeR/KHSJSI++bryKfYWHBxMSIj3fey8b68hduFrLSsoKMjnMz9iD77Kla/bDkXk/GhGJSI+xcTE6C/cK1BISIjPCbb3J73ELlS6rly+biePjtYr0UXyg0qXiPhUvHhxr6XL1xVRsQ9f20drpcvefJWu4OBgn18TYg++ntkrWrSoGYnIBVDpEhGf4uPjvZau7OxsMxKbCQ/3vmWGVrrszfu0+38rXb5uORV78LVjaYkSJcxIRC6ASpeI+FSuXDmvtxT5ug1F7MNX6dJKl7352qcuKChIK102ZlkWaWlpZgxAqVKlzEhELoBKl4j4VKlSJZ+ly9etKGIPvibYKl325n3a/b/bC72teos9pKenc/r0aTMG58U3Ebl4Kl0i4lOlSpW8Tr4zMjJ8/gUt9uDtvAOkmoHYyhEzcPL19SD2kJ6ezqlTp8wYgPLly5uRiFwAlS4R8cnXSteZM2c4ceKEGYuN+HpdwAlA26jY12EzcCpWrJgZiY2kpaX5/Jmu0iWSP7z/rSoi4vzL1lfpOnTokBmLjURGRuJw5H5V7knA+/VwsQNfK13x8fFmJDaSlpZGSkqKGQNQpkwZMxKRC6DSJSI+lSlTxuuOZRkZGezdu9eMxUbi4uK8rnad1C2GtuZrpUuly95Onz7NsWPHzBiA0qVLm5GIXIDcf6OKiDjFxcV5fXg+LS2N7du3m7HYSNmyZb2WrhMqXbaVrdJ1xTp58qTP9y8WKVLEjETkAuT+G1VE5Cwsy9JGGjZXoUIFr4X7hG4vtK1MwNdNw3FxcWYkNnLw4EEzcouIiDAjEbkAKl0ikqdKlSqZEThXu8S+qlWrZkbgXA05aoZiC+nAbjN00i1m9rZr1y4zAudzvSpdIvlDpUtE8tSoUSMzgrNcGZXA52sTFQDv0zMJdHvzeA9blSpVzEhsZOfOnWYEQN26dX2+KF1Ezo9Kl4jkqVatWmYEwLZt28xIbCQsLMzr7YUAOvP2lNd51TNd9ubr57mvFW8ROX8qXSKSp3LlypkRAEuXLiU1VVsq2FVQUJDP9/NsMQOxBe/T7v/dWli4cGEzFhvZvHmzGUEeP/9F5PypdIlInnxNtg4cOMCpU9pSwc7q1q1rRgBo30p78nVeS5YsSWxsrBmLjRw4cMCMAChUqJAZicgFUukSkTzFxsYSFRVlxgQFBfl8r4vYQ9OmTc0IgCQzEFvwdV5Lly7t9WeA2MOOHTs4ceKEGRMWFkapUqXMWEQukEqXiOSpTJky1KlTx4wB2LRpkxmJjVSoUMGMwLl7oa/3OUng0s6FV6akpCSOHz9uxkRHR9OgQQMzFpELpNIlInkKDw+natWqZoxlWcybN8+MxUYKFSpESEiIGXMC2GCGEtD25LErZY0aNcxIbGTLli1kZ2ebMcWLF6dy5cpmLCIXSKVLRM6qSJEiZoRlWaxZs8aMxUaqVq1KdHS0GWMBiWYoAW2P83/e1K9f34zERv755x8zAucFt6AgTRNF8ou+m0TkrK666iqvKx4nT540I7GRatWq+bzS7X2vMwlUvjbRCAsL83l7sdjDxo0bzQjyeF2IiFwYlS4ROat27doRFhZmxiQlJbF3714zFhvxtsoJ4H2aJoFqtRk4FS9e3OerAyTwpaamsnbtWjMG4IYbbjAjEbkIKl0icla1atXy+qLcgwcPkpioG83srEqVKmYEzme6tM5pHyvNwEkbKdhbcnIyO3bsMGMArXCK5DOVLhE5q4iICOLj480Yy7LYv3+/GYuN3HTTTWYEwFbA+5t9JBCtMAOnhg0bmpHYyNKlS80InLeVevuZLyIXTqVLRM7JLbfcYkYA/Pbbb2YkNuLrXV0Af5qBBKTVQLIZOjVu3NiMxEYWLlxoRgC0bNmScuXKmbGIXASVLhE5J74mXzNnzjQjsZHIyEgKFy5sxgB4n65JoFkG5N4w/H/nXtvF29vKld5vLK1Zs6bXW8pF5MKpdInIOSlfvjyhoaFmTEpKCgcPHjRjsYkiRYr4fKB+mRlIQPJ1HqtWrarSZWP79u1j27ZtZkxQUBCVKlUyYxG5SCpdInJOGjVqxFVXXWXGZGZmMn36dDMWG/G1dfQuIPeUTQJJeh6baNSqVcvrhRaxh8TERK+7z0ZGRnLjjTeasYhcJJUuETkn0dHRXreOTk9PZ/HixWYsNlK3bl0iIyPNmMPAOjOUgJKcx0pXQkKCGYmN/P3332YEzo2T6tata8YicpFUukTknLVp04agoNw/NtasWUN6eroZi03cdNNNxMTEmDEAC8xAAsoiIMsMndq1a2dGYiMzZswwIwBat25tRiKSD3LPnkREfOjWrRuWZeFwOHLky5Yt8/psgNhDSEgIJUuWNGMAZuYxaZeCb5oZOMXFxfl8R5sEvpMnT/rcLv7WW281IxHJBypdInLOKlWqREREBJZl5cizsrJYs2ZNjkzs5Z577jEjcN5e+I8ZSkDIzmPb/44dOxIVFWXGYhO///47p0+fNmNCQkKoXr26GYtIPlDpEpFzFhUVxe23327GAIwfP96MxEbatGljRm6+VkukYFsCJJmhU9u2bc1IbGTWrFlmBM6t4hs1amTGIpIPVLpE5Lw0bNjQjADYsGGDnuuysWrVqvm83WyuGUhA+DOP93OpdNlXeno6f/7pfY2zSpUqhIWFmbGI5AOVLhE5L126dCE2NtaMOXDgAFOmTDFjsYm4uDiuueYaMwbn7nf7zFAKPF8rlNWqVaNOnTpmLDaxfv16VqxYYcYEBwf7vI1YRC6eSpeInJcaNWpQpkwZMyYjI8Png9liD9dcc43Xq+CHAZ35wLIL+MMMna677jozEhvxtWsh2rFSxK9UukTkvN1xxx1mBMAXX3zh9eFssYdevXrl2rnS5SszkALtOx+3FgJ6Ma7Nffvtt2YEzrIdFxdnxiKST1S6ROS83XzzzWaEw+EgOTmZlStXmkNiE9HR0XTo0MGMAZgFnDJDKbB+MgOnKlWqaCMFG1uzZg3r1683YwBuuOEGMxKRfKTSJSLnrVatWtSrVy9HZlkWlmXx4Ycf5sjFXnw983EE+NUMpUDaCCw2Q6dOnTpRuHBhMxabmDZtmtcNj2JjY+nYsaMZi0g+UukSkfMWGRlJp06dzBiABQsWkJKSYsZiE61bt/Z5C5K2UQkM04EzZuh05513mpHYRFZWFl9//bUZA1C7dm1q1qxpxiKSj1S6ROSC9OzZk/DwcDNm586dLFq0yIzFJsqVK5drldNlunPFSwo2X8/fVahQgYSEBDMWm1i5ciVr1641YwD69u1rRiKSz1S6ROSCNG3alHLlypkxAJ988okZiY3cf//9ZgTAUWCqGUqBssq5xb83PXr0IChI0wK78vUC+4iICD3PJXIJ6KeriFywgQMHmhE4nxs4ckRrHnZ1ww03eF3lBBhnBlKgfG4GHm666SYzEps4fvw406dPN2NwvnuxfPnyZiwi+UylS0QuWOfOnYmKijJj0tLSfF5VlcAXFxdHjx49zBicGzT8bYZSIKQA3p/ogQYNGtC2bVszFpuYMWMGO3fuNGNCQkLo2rWrGYuIH6h0icgFq1u3Ls2aNTNjLMti0qRJZGRkmENiEz169PC62mWdZTVFLp+fgL1m6HTfffeZkdjIBx98YEYAFC1aVM9ziVwiKl0iclFckzXPl+Y6HA7WrFnDkiVLPI4UO7npppuIj483YwC+BI6boVx2vtaeQ0JCtGuhjSUmJrJw4UIzhjxeASEi+U+lS0Quym233UbRokWxLMuduX799ttvexwpduE6v4MHDzaHwLmD4UQzlMtqObDADJ1uu+02SpYsacZiE2PHjjUjAMLDw7n77rvNWET8RKVLRC5KVFQUAwYMMGMAZs+ezaZNm8xYApxrVfP2228nOjraHAbgYzOQy2oskG2GTr169TIjsYnk5GS++sr7SwKuueYaGjVqZMYi4icqXSJy0e666y6vG2qcOnVKG2rYWNWqVX2+JHsdMMcM5bLYk8fK41VXXcXNN99sxmITX3/9NcnJyTlu/8Z54aRfv345MhHxL5UuEblo9evX97nz2ahRo7R9vI098cQThISEmDEAr5mBXBYjgHQzdHrsscfMSGwiMzOTESNGgMctwS6lSpXirrvuypGJiH+pdIlIvnjmmWfA2FAD4PTp04wePTpHJvbRqlUrmjdvbsYAzAOWmqFcUscB7zeXQcmSJbnjjjvMWGxi0qRJ7Nixw4wBePjhh81IRPxMpUtE8kVCQgItWrTIdUUV4KOPPuLUqVNmLDbxzDPP5CrbLqPMQC6pr4H9ZujUt29f4uLizFhswtdGRoULF6ZPnz5mLCJ+ptIlIvmmf//+BAcHmzG7d+9m0qRJ4OU2Fwl8Xbt2pXr16mYMwGdAohnKJZEB/NcMnSIiInzuPimB75tvvmHNmjVmDEDPnj0pXbq0GYuIn6l0iUi+ue+++yhbtqwZA/DKK69gWZbPFREJTK4SPXDgQHPI7f+ZgVwSY4AkM3S6++67KV++vC6C2NSbb75pRuDcJv7JJ580YxG5BFS6RCRfuCZvL730kjkEwK5du3ze7iKBy1WiH3zwQZ8vS/4a0GuyL61jeWxkEhwc7N5AQxdB7Ofzzz9n+fLlZgzOlyFXq1bNjEXkElDpEpF84Zq83XHHHVSoUMEcBmDkyJGcPHnSjMUGwsPDeeSRR8zY7S3n/2tdxb9cn9+PgAOAt0p11113UadOHTMWm3j99dfNCJzfo48++qgZi8glotIlIvkqMjLS6+Tb4XCwd+9e3n33XXNIbOLxxx+nWLFiZgzAD8ACHyVA8o/DuWOha03ZW8n917/+ZUZiExMmTGDDhg1mDM6XmdeuXduMReQSUekSkXw3aNAgypQpkyNz3X44fPhwDh48mGNMAp9lWURERPDCCy+Aj9vWNNW/NN5yrnJ506dPH2rUqGHGYgOpqam8+uqrZgzOi2HPP/+8GYvIJaTSJSL5Ljw8nGHDhpkxAMePH+eVV14xYwlwrpLVv39/ypUr53WDhoXAz2Yo+Wqrx62cppCQEJ599lkzlgDn+l4bNWoU27ZtM4fBeUtprVq1zFhELiGVLhHxiwEDBlCvXj0zBuDDDz9k48aNoC3kbSc6Opphw4Z5fXUAwOPOrczFPx4D0o3Mc7OTWrVq6XvOZhwOBzt27PC5iVFkZCSvveZrWxURuVRUukQk33nuZOhwOHLdapaZmZnnbWgS2B544AGfV9W3eDxvJPnDVaHm+VhJtCyLQoUK8dRTT4G+52xp2LBhnD592owBGDp0KCVKlDBjEbnEVLpEJN+5JnXdunWjTZs2Xq+sT506lalTp4JWu2xp5MiRPle7XgH2mqFcMFeFetrIPT3zzDNUrFjRjMUGlixZwmeffWbGABQrVkzPcokUECpdIuJXb731FqGhoWZMdnY2jz76KOnp6brybkMdO3YkISHBjHEAJwFNA/PXGGCZGTpVrVqVZ555xozFJnztFgvw8ssvExsbaw6LyGWg0iUiftW0aVPuueceMwZgx44d/Oc//zFjsYkRI0YQEhKSI3OtaU4Efs0xIhdqN5BXpXrjjTcICwszYwlgrrsDRowYwd9//20OY1kWDRo0YNCgQeaQiFwmKl0i4ndvvfWWz6utI0aMYMmSJaDbDG2nYcOGXq/CuwwAjpihnLcBwAkf70C79tpruf32281YApzD4WDLli0+VzBDQkIYNWqUGYvIZaTSJSJ+V7RoUfc28eathBkZGe6JuTkmge/FF18kPj7ejHGcwwqN+Oa6PPGFx4qht0sWr7/+uhmJTTzyyCNkZWXlyFw/Q3v37s0111yTY0xELi+VLhG5JIYMGULjxo29rmYtXbpU7+6yIcuyiI2N5a23cr85yvVVMA5YbIzJ2TmAY84t4n154oknaNKkiRlLAHP9/Bw/fjzTp083h7Esi8KFC6tsixRAKl0icsmMHj3a66YaAK+99hpbtmwB3WZoG66r7n369OHGG280h923ww0Eso0xObvHgEM+biusVq0ar776qhlLgHM4HOzcuZPHH3/cHHJ/v40YMYKSJUuawyJymal0icgl07RpU5/P+KSlpdGnTx/QbYa29N577xEeHp4jc1Xr1cCTOUbEF9fn7GvgUyPz9MEHH+T6fIs9PPDAA6SkpJgxlmXRpk0b7r//fnNIRAoAlS4RuaReeeUVqlSpYsbgfN/MsGHDzFgCnGVZVK5cmdGjR5tDbiOBac5feysR8j8OYCfwoDngoV+/fnTu3NmMxQZGjRrF7NmzzRiA8PBwPvroIzMWkQJCpUtELqmwsDC++OILn7cZvv7668yaNcuMJYC5Vi7vu+8+mjdvniPzdD+wz8ftcvJ/7gbMdQ7X57NcuXKMHDnSGJVA5rrd+q+//uLRRx81h93n/q233qJGjRrmsIgUECpdInLJtWjRwuctMFlZWdx7770cO3YM9HyXbbjO41dffUWhQoW8ntdkZ/ES34YBf5ihx+d37NixxMTEeP38SmByOBycOXOG3r17k5WVleuChWVZJCQkMGTIkBy5iBQsKl0iclm8//77NGjQwIxxOBwcOHCAnj17un8vgc91HitVquRzZzUHMMN5q6H8H1d9+g34f8YYHp/bwYMH06VLlxyZ2MOAAQN8bjQUHR3NpEmTcmQiUvCodInIJWdZFiEhIUyYMIGwsLBcYwCzZ8/m5ZdfzjEm9jBkyBDuuOMOMMqBayr5ODDPyK5UlrOMHgDuNAedLMuibt26vPPOO+aQ2MDo0aP57LPPzNht5MiRlC1bNlcZE5GCRaVLRC4510S7UaNGjBgxwhx2e+WVV/jjD283U0mg++CDDyhWrFiuiaKrgvUE9ur5Lvd/f488tocPCQnh888/JyQkxBySALdkyRKvtw16PifZr1+/HJmIFEwqXSJyWQ0ePNjrqgdAZmYmXbp0YfPmzeDlthoJXHFxcfzyyy9ERkbmyF1nOBm4Bcgy8ivRg8BC56+9fR7eeecdGjZsqO8Pm3Cdx0OHDtGtW7dc59XhcGBZFldddRVjx47NMSYiBZdKl4hcNq7JxCeffELFihVzTS4ATp48yW233UZaWlquUiaBrXnz5nm+ImAZMMD56yv1zI8B8toEvGfPngwePBi8XLSQwORwOMjOzua2227jwIEDuc6rZVmEh4fz3XffERIS4vXnpogUPCpdInLZuCYTkZGR/PTTT7lWPVzWrVtHr169zFhs4JlnnuG6664DH6VhAjDc+esrZWrp+u+cCwwyxvD4PFWvXp1PPvkEtApsO3379mXBggXg5dwGBwczduxY6tWrBz6+b0Sk4FHpEpECoV69erz22mteJxAOh4Mff/zR6ztqJHC5JpM//fQT1apVyzW5dHkK+P4KWe2ynP+dic7bK/Hy321ZFhEREUyZMoXIyEgsy/L6fSOB6fXXX+fzzz83Y7f777+fPn36mLGIFHAqXSJSYDzyyCMMGPC/G8o8J5Guyfh7773HqFGj3LkENtc5Dg0NZfLkyURERJiHuPX0eD+V92oW+FyFKxm4HjjpkZsmTpxI7dq1QSsdtuD6Gff555/z/PPPm8Puc9y4cWM9xyUSoFS6RKRAGTNmDNddd53PVY8nn3yS77//3owlgFmWRaNGjdy3ynmTBdwEbPCy8mMHrsJ1GrgB2JXHf+e///1v9+YzEvhcK5Vz5szxuoLlcG6cUblyZWbNmmUOi0iAUOkSkQJn8uTJVKtWzYwBSE9Pp2/fvsydO9cckgDluorfs2dPhg93PcGVkwM4BnQBDpqDNuAqWD2A5c5fe7vscMcdd/Cf//zHjCWAORwOli9fzs0332wOgbOUFSpUiClTplC0aFFzWEQChEqXiBQolmURGxvLzz//TFRUlDkMQGpqKt27d2fFihXmkAS4xx9/nPvuu8+M3StB24FOwAmP3C7uBn4xQ49S2qZNGyZNmmQOS4ByreavXbuWG264gdOnT3u9VTQ4OJhPPvmE+vXrm0MiEkBUukSkQHFNOmrUqMHMmTMJDg42DwHgxIkTtG/fno0bN5pDEuDGjRtHixYtwHy2z/n/a5zF63Qet+AFmvuAL83QuLVs6tSpegGyjTgcDrZv307nzp1JTk52n2vT8OHDuf32281YRAKMSpeIFFjXXHMNEyZMICgo948qh8PBiRMnaNOmDbt27TKHJUC5nm+ZOXMm5cuX97oznwP4C+gMpLk+LscRBZ/nn3co8KnH7z1ZlkWRIkWYPn06RYsW9Topl8DiOoc7d+6kQ4cO7N+/32fheu6553jkkUfMWEQCUO6ZjIhIAXLPPfcwatSoXCtergnK4cOHufrqq1W8bMJVsGJiYli5ciXx8fG5ipfrVsM/nCteGQG24uX68wMMAfLajzMoKIjp06dTs2bNXJ8HCTyuc7h7924SEhJISkryWbj69evHq6++asYiEqBUukSkwHvooYd48cUXfa54HT58mGbNmrF582ZzWAKUZVkUK1aM5cuXU7hw4VyTUtfv/gCudd5qGChctWko8IExZvr5559p2bIlGLdaSmByOBzs2LGDtm3bsmPHDp+Fq0ePHnz88cfgcYFJRAJb7hmMiEgBNGzYMK8vR3ZdOT5w4AAtWrRg9erV5iESgFwFo1y5cixbtozIyMgcufs4YAGQ4NzdkAJ8q6Hnn+ves6xwAXz//fd06dLFjCUAuYrTunXrSEhIYNu2bT4LV8eOHfn666/B4+ebiAQ+lS4RCRjDhw/n/vvvN2P3xOXo0aMkJCSwcOFC8xAJYFWrVmXJkiVERUXlmoS6pqzLgNbAvgJ6q6HnLYXdgc+McYxCOXnyZG699dYc4xK4HA4HK1asoE2bNuzcuTNX4XKd+9atW/PLL7+4f6/CJWIfKl0iElDGjRvHXXfdZcbgnKCcOHGCLl268Msv3jbflkBVr149fv/9dyIjI72uDjiA9cA1gOsm09xHXR6uwpUGXA/8aB7g5PrvGj9+vF5+bDNz5swhISGBY8eO5SpcOM9948aNmTlzJmFhYbnGRSTwqXSJSMCZNGkSAwYMyHUV2DVRSU1N5fbbb3c/E+E5JoGrSZMm/PHHHxQqVAiMVQBXsUkCWgJ/FpAVL9efa59zJW7mWf5c48aN87qaK4Hrq6++olOnTqSmpoKPn0WtWrVi/vz5Pm+jFZHAp9IlIgHFNWH58MMPGTJkiM/JyZkzZxg0aBDPPfccaBJjG40aNWLRokVeV7xcBecw0AYoCK8RdgArgCbAcmeWe8r9P5MmTaJfv35mLAHsrbfeolevXmacQ+fOnZkzZ4779lkRsSeVLhEJKJ7l6d133+WFF17wuqshQFZWFv/973+555573JkmNYGvXr16rFy5kpiYGPCy4uX6/97A6+4R32XHn74DmgN7z7LCNXXq1LNOzqXg8/z50q9fP55++ukc46ZbbrmFX3/9lYiIiFzPK4qIvXifqYiIBIiXX36Z119/3WfxwrmCkJCQwMGDBzWpsYnq1auTmJhIXFxcnpPV54H7PFbB/M2z2L0N9AAyvYy5/rxhYWHMnj2bm2++2WNUApXD4eD48eO0b9+eCRMmmMM59O3blylTpmjTDJErhO9ZiohIgHjqqaf48MMPfRYvh8PBH3/8Qf369Vm5cqU5LAGqbNmyJCYmUr58+TxXMD8F2gL7zYF85ip2WUB/4AnzACfXRgpFihRh/vz5XHvttXn++SVwrFmzhsaNG/P777+bQzk88sgj7lKmcy9yZfA+QxERCTAPPPAAM2fOJCIiAsxbzpyTmoMHD9KiRQtGjx6da0wCU3x8PImJibRp08YcymEhUAuYYQ7kIweQCDQCxpmDHizLombNmvz999+0aNEiz5U6Kdg8f36MGzeOxo0bs3Xr1hzH4PHzKDg4mBEjRjBy5MhcYyJibypdImIbHTt25O+//6Z06dI+y1RGRgYPP/wwPXv2JDs7WxOeAGdZFoUKFWL+/Pn079/fHHZzOF+efAPwH3Mwn3wDNAbWmgOGzp078/fff3PVVVeBJt0BzeFwkJmZSd++fenfvz+ZmZlez6dlWURFRTF58mQee+wxdyYiVw6VLhGxlbp167J8+XKaN28OPia0lmXx7bff0qBBA1avXp0jl8DiulUPYOzYsQwfPtw8BIznqV5ylq+DXsbOh+fHPQb0dL6LK/dX3P/p168fM2fOJCYmRl9vNpCYmEiTJk2YOHGiO/M8r66fP2XLlmXOnDk5Xnjt7WeTiNiXSpeI2E6pUqVYvHgxPXr08DqxdWXr16+nZcuWjBkzBjQJClie5+3xxx/nyy+/dN9m6ssMoCHwy1lKUl4czhcyNwfe8cg9v+I8/2yvv/4648b9342H+noLbB9//DFXX311jgs3JsuyaNCgAStXrqRFixbmsIhcQVS6RMR2XKVq8uTJvPrqq4SHh5uHgHPSm5aWxuDBg7npppvYv9/fWy3IpXDnnXeycOHCPG/fczhfWNwVeBg4Yx5wDkY6i9vf5oAHy7KIjo7mhx9+4NlnnzWHJQDt27eP22+/nQEDBnDmzBmvX18AQUFB9OrVi5UrV1K8eHGvF4BE5Mqh0iUituM5CXruueeYNWsWxYoVyzXmOQn65ZdfuOqqq/jiiy/cmQQmy7Jo3LgxGzZsoEuXLu7znOPcexz/vnOTjd88MnN67Pn7LUB74HGP7eB9adWqFYmJiXTv3t0ckgDh+XNi0qRJ1KpVi++//97ruOtrLCwsjPHjx+f4eeKrnInIlUGlS0Rsr02bNiQmJtKqVSufV5sdDgepqance++9dOvWjeTkZPMQCRCu57yCgoKYNm0ab7zxBuHh4T7PPUAScC3wqHPVy5weu34/GqgP5L0h+P8MGjSIP//8k/Lly5tDEkAcDgcHDhygZ8+e9O7dm+PHj5uHuFmWRbly5Vi0aBH33nuvOxMRUekSEduzLIsSJUrwxx9/8NxzzxEcHAzmyofHxOinn36iWrVqfPjhh+5MAovnuX366aeZP3++19VO07vOVa+fjHwZ0AYYDJw2xlxc/9xChQrxxRdf8MEHH4Am3QHJ85yNGzeOWrVq8c033+Q4xpsePXqwbt06rr76aneW19ebiFw5VLpExPY8Jz2vvvoqv/76K2XLlvU6GXZlJ06cYNCgQbRu3Zq1a8+2CbgUdM2aNWPz5s3ceuutXs+7pyTgFuBOYA3wPNAU+MM80Mn19WVZFs2bN2f58uXcfffducYlcDgcDtatW8c111xD//79OXr0qHlIDtHR0YwaNYrJkycTGxtrDouIqHSJyJXn2muvZcOGDdx6660EBfn+MehwOFi0aBFNmzblscce48SJE+YhEiAsy6Jo0aJ89913vP/++0RHR8NZCtFk4GrgdefvfR3pKnEvvvgiS5YsoUaNGmctdlJwHTt2jCeffJL69euzaNEicziXq6++mlWrVjFo0CDQyqaI+OB7tiEiYmPR0dF89913fPrpp0RFRZnD4DF5Sk9P591336V69eqMHTvW6zFSsHmWq8GDB7uf8TubLI9f+zrTderUYfHixbz88svuLK8yJwWTZVl89NFH1K5dmxEjRvj83nad25CQEF588UWWLVtGlSpVco2LiHhS6RKRK1rv3r3ZunUrd911lzmUy4EDBxg4cCB16tThhx9+AE2wAla5cuX4448/GDt2LKGhoebwOQkJCeH5559nzZo1egdTgJsyZQo1a9bkwQcfZN++feZwDpZl0axZM5YuXcpLL73kzkRE8qLSJSJXNMuyKFmyJJMmTeL777+nbNmy5iE5OBwONmzYQM+ePbnmmmtYsGCBeYgEANck+YEHHuD3338nPj7ePCRPwcHBjBo1ildffZWgoCBNugPU3LlzadOmDbfeeiubNm3yeRHFc5OUkSNHsmTJEho0aJBrXETEF5UuEbmieU6WunfvzoYNGxgyZAghISE5jnNxTa6zsrJYvHgxHTp0oHPnzsyfP988VAowh3Nb+Q8++IC+ffue9ysCsrKyeOSRR7j33ntZt26dJt0BZt68eXTu3JmOHTvyxx//t0WKr/JsWRY33ngja9eu5ZFHHjGHRUTOSqVLRMTJsiyio6N57733WLBgAQkJCeYhuWRnZzNnzhw6d+7Mtddey5w5c8xDpIA5fvw4Y8aMoWLFijz88MNs3rz5vEuTw+HgzJkzfPbZZ9SvX59evXrx999/m4dJATNz5kw6duxIhw4dmD17tjnsVZUqVfj222/5+eefqVSpkjksInJOVLpERJw8J94tWrTg999/55NPPqFkyZJej/GUkZHB3LlzueGGG2jdujXffvutz6vmcnkcPnyYf/3rX9SrV4/Bgweze/du9zkyz5Wv8+ziebxlWXz11Vc0b96crl278ttvv/k8Vi69jIwMvvzyS1q2bMn111/P3LlzzUO8ioiI4PXXX2fdunXcdttt5rCIyHlR6RIR8cI1Ub733nvZtWsXr7zyCtHR0WedQGdlZbFo0SJ69uxJpUqVGD58+FkfzBf/+vPPP+nfvz/lypXjtddeY/fu3eYhuViWRYsWLXjllVe49dZbz1rCXH755ReuvfZaGjRowJgxYzh+/Pg5f6zkrx07dvDaa69RrVo17r77bpYsWWIe4lV4eDj9+/dn+/btPPPMM0RERJiHiIicN5UuEREvXBNly7Lcu9Rt2rSJRx55xOcW854cDge7du3i6aefplatWvTu3ZulS5eah4mfHDlyhK+//prmzZvTqVMnxo8fz5kzZ8zD3DyLUYUKFfjss89YtGgRzz//PN999x2zZ8+mSZMmBAcH5zremzVr1jBo0CBq1qzJ0KFDWb16dY7xs5V3OXeen8vMzEzmz59Pz549qVevHi+88AI7d+7M83y5xiIiIrjllltYtmwZY8eOpUSJEjpPIpJvVLpERPLgOVkrVaoUI0eOZOXKlfTr1y/PrcY9J2spKSl8+eWXNG/enFatWvHGG29w+PDhHMdL/vjrr78YOnQotWrVolevXixdupS0tDTzsFws5y6W77zzDtu2baN37945xjt06MDff//N119/TcOGDc95Mr5//35GjRpFw4YNad++PaNHj+bo0aN5lgA5Pw6Hg+3bt/Paa6/RrFkz2rVrxzfffJPjZeZ5nS+Hw0Hnzp2ZN28eU6ZMoU6dOjnGRETygyM7O9v3TyIRuWjt27f3urNd27ZtmTdvnhlLANm6dSv/+c9/mDp1KidPnjSHfXI4HISFhdGhQwceeOABWrVqleO5MTk/a9asYcGCBbz//vvs3LnTvaLlcO5QeDaVK1dm6NChDBw4kPDwcHBO0j0n3Obvp0yZwiuvvMKqVavO6d/hKTY2lhtvvJFevXrRsmVL4uLizEPkHOzevZsFCxbwySefsHDhwjxXMr0JDw8nISGBf/3rX7Rp08YclgDy+++/06FDBzMG52sB2rVrZ8Yil5xKl4ifqXTZ3+bNmxkzZgxjx47l9OnTcB4TfoCyZcvSrFkzevfuTceOHYmNjTUPEcOuXbv4/PPPmTVrFsuXLyc1NdU8JE8hISGUL1+e5557jnvuucddts7Xzz//zH//+1+WLl1KRkaGOXxWFSpUoE2bNtxxxx20b9+emJgY8xDxkJyczLRp05g6dSp//PHHOa8Ye34/hoWFcdNNN/HYY4/RqlUr81AJQCpdEghUukT8TKXrynH8+HFGjx7Nxx9/zPbt283hswoKCiIoKIibb76Z1q1b0759+xwvYL2SZWVlMWPGDJYtW8aPP/7I6tWrz6vYugQHB3PttdcyYMAAunfvbg5fsL/++ovRo0fz3XffuYv3+YqKiuK6666jY8eOJCQkUK9ePfOQK45lWSxZsoSFCxcyc+ZM5s2bd97n3CU2Npb77ruPhx9+mMqVK5vDEsBUuiQQqHSJ+JlK15XB8/az1NRUfv31V0aMGMHatWs5deqUefg5iY2NpUSJEiQkJNCzZ0+qVKlC1apVzcNsKSUlhR07drB27VomTJjA5s2bSU5OPqfns1w8S1mRIkXo2rUrTz75JPXr1zcPzTdJSUmMHz+eiRMnsn//frKysi6oHEZFRVGxYkXatWvHDTfcQIMGDShdunSezxHawalTp9izZw9Lly5l2rRp/PXXX+zYsYOsrCzz0HMSFhZG5cqVGTJkCD179qR48eLmIWIDKl0SCFS6RPxMpevK9tdffzF58mTGjRtHamrqeU++PYWHh3PNNddQrVo16tevz4033kjFihXNwwJSeno6q1ev5pdffiEpKYmlS5eyceNG87Dz1rBhQ/r27cudd95JiRIlzGG/ycrK4ssvv+TLL79k1qxZcJbNHM4mNDSUJk2a0KBBAxo3bkyTJk2oV6+eezfFQHX69GlWrVrFsmXLWLZsGatXr8610+P5cjgchIaG0qNHD3r27EnXrl3NQ8RmVLokEKh0ifiZSpfgvPXwl19+Ydy4caxYsYKUlBTzkPMSGhpKaGgoISEhXH311XTp0oUqVapQvHhxqlevTqlSpcwPKRCysrLYtm0bW7du5ciRI6xevZoff/yRAwcOkJmZyenTpy+qnABUrFiRhIQEhg4dSuPGjS/7DnRbt27lww8/ZMaMGfzzzz9kZmaah5y3kJAQihQpQv369bn66qtp2LAhVapUoVSpUpQqVYrIyEjzQy6rlJQU9u/fz/79+9m8eTMrVqxg+fLlbNy4kRMnTpCdnW1+yHmLiIigXr163HHHHfTp04f4+Hj3mLkRitiLSpcEApUuET9T6RJTYmIi8+fP56OPPmLDhg1kZGRcdNFwCQ0NpXTp0lSoUIGYmBiKFClCq1atqFOnDuXLl6dw4cKEhYURFhaW7y99zc7OJi0tjYyMDE6dOsWhQ4dISkpi+fLl7tssDx8+zNatWzl27Jj54RcsNDSU4OBgbr75Znr27Em7du0oWrSoedhlZ1kWs2fP5pdffuGzzz7j9OnTpKenm4ddlOLFi1OmTBlKlChB+fLlqVq1KpUqVaJ8+fKUK1eO+Ph4d1kPCQkxP/y8WZZFZmYmWVlZpKWlcfDgQXbu3MnOnTvZsWMHW7duZffu3Rw8eJC9e/dy/Phx8x9xUcLCwoiPj2fAgAFce+21tGzZ0jxErgAqXRIIVLpE/EylS/Kyc+dOPv/8c5YsWcKcOXPOe9vrcxEUFOR+rshV7kqWLEnVqlUpXbo0cXFxxMTEEBUVRXh4OMHBwYSEhHhdGcjOziYzM5OMjAzOnDlDamoqKSkpHDx4kF27drFlyxZSU1MJCvq/10B6/nvzU+nSpenUqRMdOnTgzjvvJCwszDykQJs9ezY//vgjCxYsYP369eaw3xQvXpzixYtTtGhRChcuTGxsLIUKFSIqKoqIiAh3iXWdQ9c5T09PJy0tjVOnTnHy5ElOnDjBsWPHOHLkCIcOHcrXIp2XoKAgWrRowTXXXMMdd9xB48aNzUPkCqPSJYFApUvEz1S65Fxt27aN1atXM3bsWDZu3EhycvIF74RnR7GxscTHx3PDDTdw5513Ur16dVtsjJCamso///zDzJkz+fLLLzlw4ABHjhzJl1vu7CA0NJT4+HjKlCnDgAEDaNmyJbVr1/Z6UUCuTCpdEghUukT8TKVLLoRlWe53UP3111/8+uuvZGdn+23VqKAJCgrCsizi4uK47bbbqF27Nh06dKBOnTrmobazd+9epk+fzqZNm5g6dSpbtmzB4XBcESXM4XC4V2VbtGjBtddeS+3atbnhhhv0/jrxSaVLAoFKl4ifqXRJfjhy5AhJSUlMmTKFRYsWcfToUfetfHYRFxdHtWrVKFmyJDfffDPt2rWjZMmSFCpUyDz0inHmzBmSk5NZvnw5kydPZvfu3ezcuZM9e/Zc8DbqBU14eDgVKlSgdOnS1KxZkzvvvJNatWpRokQJrWbJOVHpkkCg0iXiZypd4g8ZGRmsWrWKpKQkdu/ezYIFC1iwYAHp6elkZ2eTlZVFRkaG+WGXlcPhICwszP2sUIkSJejcuTNNmjShZMmS1KlT54p5D9nFOHDgACtXriQ5OZn169czY8YMtmzZ4l4JdW1sUZC4Nu5wrWQ1btyYTp06UaVKFcqUKUOjRo0oXLiw+WEi50SlSwKBSpeIn6l0yaV06tQpkpKSWLZsGWvWrCE1NZWjR4+ye/dutm7dyqFDhy7JbWrh4eGUL1+eSpUqUapUKWJiYihWrBitWrWibt26lClTJuDfMVXQJCcns2HDBhYvXsyuXbs4deqUezfBpKSkS7YqGhsbS7Vq1Shfvjzx8fFERkZy1VVX0bx5c6666iqKFClifojIRVHpkkCg0iXiZypdUhBkZGRw5MgRjhw5QlpamruM7du3z/3+pL1793LgwAGSk5M5duwYqamp7t0UHQ4HERERxMbGUqxYMeLj4ylVqhRlypShdOnSlC5dmvj4eIoUKUJkZCRRUVEUL15cE+wC4OTJkxw6dIiTJ0+SlpbG8ePHOXToEAcOHGDv3r3s3buXffv2kZyczOHDh0lJSeHUqVPu1bLg4GCio6MpXLgwxYsXp0SJEpQuXdp97kuVKkWxYsWIjY0lLCyMokWLUqxYsQL3rjCxL5UuCQQqXSJ+ptIlIiLiPypdEgj+70UqIiIiIiIiku9UukRERERERPxIpUtERERERMSPVLpERERERET8SKVLRERERETEj1S6RERERERE/EilS0RERERExI9UukRERERERPxIpUtERERERMSPVLpERERERET8SKVLRERERETEj1S6RERERERE/EilS0RERERExI9UukRERERERPxIpUtERERERMSPVLpERERERET8SKVLRERERETEj1S6RERERERE/EilS0RERERExI9UukRERERERPxIpUtERERERMSPVLpERERERET8SKVLRERERETEj1S6RERERERE/EilS0RERERExI9UukRERERERPxIpUtERERERMSPVLpERERERET8SKVLRERERETEj1S6RERERERE/EilS0RERERExI9UukRERERERPxIpUtERERERMSPVLpERERERET8SKVLRERERETEj1S6RERERERE/EilS0RERERExI8c2dnZlhmKSP5p37498+fPN2MKFy5Mw4YNzVhERETOw7Fjx1i9erUZAzB37lzatWtnxiKXnEqXiJ/5Kl0iIiLiXypdUlDo9kIRERERERE/UukSERERERHxI5UuERERERERP1LpEhERERER8SNtpCHiZ59++ik7duwwYxEREfGze++9l0qVKpmxyCWn0iUiIiIiIuJHur1QRERERETEj1S6RERERERE/EilS0RERERExI9UukRERERERPxIpUtERERERMSPVLpERERERET8SKVLRERERETEj1S6RERERERE/EilS0RERERExI9UukRERERERPxIpUtERERERMSPVLpERERERET8SKVLRERERETEj1S6RERERERE/EilS0RERERExI9UukRERERERPxIpUtERERERMSPVLpERERERET8SKVLRERERETEj1S6RERERERE/EilS0RERERExI9UukRERERERPxIpUtERERERMSPVLpERERERET8SKVLRERERETEj1S6RERERERE/EilS0RERERExI9UukRERERERPxIpUtERERERMSPVLpERERERET86P8D8hUrnh5mz/4AAAAASUVORK5CYII=)"
      ]
    },
    {
      "cell_type": "markdown",
      "metadata": {
        "id": "Oue-5OVbsMOz"
      },
      "source": [
        "**Difference**"
      ]
    },
    {
      "cell_type": "code",
      "execution_count": null,
      "metadata": {
        "id": "l8lgQxhriZYj"
      },
      "outputs": [],
      "source": [
        "A = {1,2,3,4,5}\n",
        "B = {4,5,6,7,8}"
      ]
    },
    {
      "cell_type": "code",
      "execution_count": null,
      "metadata": {
        "colab": {
          "base_uri": "https://localhost:8080/"
        },
        "id": "nDFAbktbiZbC",
        "outputId": "344d62d1-efcd-4d8b-fcfd-13dd9984c7c8"
      },
      "outputs": [
        {
          "data": {
            "text/plain": [
              "{1, 2, 3}"
            ]
          },
          "execution_count": 2,
          "metadata": {},
          "output_type": "execute_result"
        }
      ],
      "source": [
        "A - B # set of elements that are only in A but not in B"
      ]
    },
    {
      "cell_type": "code",
      "execution_count": null,
      "metadata": {
        "colab": {
          "base_uri": "https://localhost:8080/"
        },
        "id": "9rUlgjL-iZdU",
        "outputId": "cfcb367a-819b-4bdb-80ed-3fe7bf7c9524"
      },
      "outputs": [
        {
          "data": {
            "text/plain": [
              "{1, 2, 3}"
            ]
          },
          "execution_count": 3,
          "metadata": {},
          "output_type": "execute_result"
        }
      ],
      "source": [
        "A.difference(B) # Difference of sets"
      ]
    },
    {
      "cell_type": "code",
      "execution_count": null,
      "metadata": {
        "colab": {
          "base_uri": "https://localhost:8080/"
        },
        "id": "O9DwtezeiZf1",
        "outputId": "9de3fe8f-2ba9-4a52-93ba-b4195610e6df"
      },
      "outputs": [
        {
          "data": {
            "text/plain": [
              "{6, 7, 8}"
            ]
          },
          "execution_count": 4,
          "metadata": {},
          "output_type": "execute_result"
        }
      ],
      "source": [
        "B- A # set of elements that are only in B but not in A"
      ]
    },
    {
      "cell_type": "code",
      "execution_count": null,
      "metadata": {
        "colab": {
          "base_uri": "https://localhost:8080/"
        },
        "id": "LedwjnMHiZiL",
        "outputId": "81edf846-b537-4ae6-d3e1-bdcd1534ffd7"
      },
      "outputs": [
        {
          "data": {
            "text/plain": [
              "{6, 7, 8}"
            ]
          },
          "execution_count": 5,
          "metadata": {},
          "output_type": "execute_result"
        }
      ],
      "source": [
        "B.difference(A)"
      ]
    },
    {
      "cell_type": "code",
      "execution_count": null,
      "metadata": {
        "colab": {
          "base_uri": "https://localhost:8080/"
        },
        "id": "kL36d8HniZlh",
        "outputId": "3a854b69-3d31-4a6e-d776-3d77014ac9aa"
      },
      "outputs": [
        {
          "data": {
            "text/plain": [
              "{6, 7, 8}"
            ]
          },
          "execution_count": 6,
          "metadata": {},
          "output_type": "execute_result"
        }
      ],
      "source": [
        "\"\"\"\n",
        "Updates the set calling the difference_update() method with the difference of se\n",
        "For below example Set B will be updated with the difference of B & A.\n",
        "\"\"\"\n",
        "B.difference_update(A)\n",
        "B"
      ]
    },
    {
      "cell_type": "markdown",
      "metadata": {
        "id": "-kuFLUpasj13"
      },
      "source": [
        "![Screenshot 2025-09-20 160616.png](data:image/png;base64,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)"
      ]
    },
    {
      "cell_type": "markdown",
      "metadata": {
        "id": "Ux3MtS9CsyDz"
      },
      "source": [
        "**Symmetric Difference**"
      ]
    },
    {
      "cell_type": "code",
      "execution_count": null,
      "metadata": {
        "id": "xeNg1jBFiZuA"
      },
      "outputs": [],
      "source": [
        "A = {1,2,3,4,5}\n",
        "B = {4,5,6,7,8}"
      ]
    },
    {
      "cell_type": "code",
      "execution_count": null,
      "metadata": {
        "colab": {
          "base_uri": "https://localhost:8080/"
        },
        "id": "JoiZBrlls3E1",
        "outputId": "74b7fefc-ccc0-4b1c-b2ee-f19d9793d0c0"
      },
      "outputs": [
        {
          "data": {
            "text/plain": [
              "{1, 2, 3, 6, 7, 8}"
            ]
          },
          "execution_count": 8,
          "metadata": {},
          "output_type": "execute_result"
        }
      ],
      "source": [
        "A ^ B # Symmetric difference (Set of elements in A and B but not in both.)"
      ]
    },
    {
      "cell_type": "code",
      "execution_count": null,
      "metadata": {
        "colab": {
          "base_uri": "https://localhost:8080/"
        },
        "id": "Wal4i8ars3HA",
        "outputId": "86f2ce3a-6703-45aa-b466-cd75cb643969"
      },
      "outputs": [
        {
          "data": {
            "text/plain": [
              "{1, 2, 3, 6, 7, 8}"
            ]
          },
          "execution_count": 9,
          "metadata": {},
          "output_type": "execute_result"
        }
      ],
      "source": [
        "A.symmetric_difference(B) # Symmetric difference of sets"
      ]
    },
    {
      "cell_type": "code",
      "execution_count": null,
      "metadata": {
        "colab": {
          "base_uri": "https://localhost:8080/"
        },
        "id": "uXKGYIGGs3JH",
        "outputId": "78d768c8-d25d-47cb-ca3f-41bd136affd5"
      },
      "outputs": [
        {
          "data": {
            "text/plain": [
              "{1, 2, 3, 6, 7, 8}"
            ]
          },
          "execution_count": 10,
          "metadata": {},
          "output_type": "execute_result"
        }
      ],
      "source": [
        "\"\"\"\n",
        "Updates the set calling the symmetric_difference_update() method with the symmet\n",
        "For below example Set A will be updated with the symmetric difference of A & B.\n",
        "\"\"\"\n",
        "A.symmetric_difference_update(B)\n",
        "A"
      ]
    },
    {
      "cell_type": "markdown",
      "metadata": {
        "id": "_XhJsZgQtO0T"
      },
      "source": [
        "![Screenshot 2025-09-20 160913.png](data:image/png;base64,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)"
      ]
    },
    {
      "cell_type": "markdown",
      "metadata": {
        "id": "NkpVzsgRtV9v"
      },
      "source": [
        "**Subset , Superset & Disjoint**"
      ]
    },
    {
      "cell_type": "code",
      "execution_count": 2,
      "metadata": {
        "id": "5tI27woZs3L3"
      },
      "outputs": [],
      "source": [
        "A = {1,2,3,4,5,6,7,8,9}\n",
        "B = {3,4,5,6,7,8}\n",
        "C = {10,20,30,40}"
      ]
    },
    {
      "cell_type": "code",
      "execution_count": 3,
      "metadata": {
        "colab": {
          "base_uri": "https://localhost:8080/"
        },
        "id": "zlKAnAojs3OV",
        "outputId": "03117b14-8bd3-48c3-ba0b-8fb40a6b73c6"
      },
      "outputs": [
        {
          "data": {
            "text/plain": [
              "True"
            ]
          },
          "execution_count": 3,
          "metadata": {},
          "output_type": "execute_result"
        }
      ],
      "source": [
        "B.issubset(A)"
      ]
    },
    {
      "cell_type": "code",
      "execution_count": 4,
      "metadata": {
        "colab": {
          "base_uri": "https://localhost:8080/"
        },
        "id": "GNdJFvMrs3Qu",
        "outputId": "1f33aee3-3874-4865-ea38-6291ab3f8e9b"
      },
      "outputs": [
        {
          "data": {
            "text/plain": [
              "True"
            ]
          },
          "execution_count": 4,
          "metadata": {},
          "output_type": "execute_result"
        }
      ],
      "source": [
        "A.issuperset(B)"
      ]
    },
    {
      "cell_type": "code",
      "execution_count": 5,
      "metadata": {
        "colab": {
          "base_uri": "https://localhost:8080/"
        },
        "id": "pf-5XddRs3TD",
        "outputId": "bb88806a-5c95-47fa-8d89-7bc8ac41013c"
      },
      "outputs": [
        {
          "data": {
            "text/plain": [
              "True"
            ]
          },
          "execution_count": 5,
          "metadata": {},
          "output_type": "execute_result"
        }
      ],
      "source": [
        "C.isdisjoint(A)"
      ]
    },
    {
      "cell_type": "code",
      "execution_count": 6,
      "metadata": {
        "colab": {
          "base_uri": "https://localhost:8080/"
        },
        "id": "uza2GKwrs3VG",
        "outputId": "38d5935d-18ce-478b-e908-af9e59380859"
      },
      "outputs": [
        {
          "data": {
            "text/plain": [
              "False"
            ]
          },
          "execution_count": 6,
          "metadata": {},
          "output_type": "execute_result"
        }
      ],
      "source": [
        "B.isdisjoint(A)"
      ]
    },
    {
      "cell_type": "markdown",
      "metadata": {
        "id": "FebC89H6twRy"
      },
      "source": [
        "**Other Builtin functions**"
      ]
    },
    {
      "cell_type": "code",
      "execution_count": 7,
      "metadata": {
        "colab": {
          "base_uri": "https://localhost:8080/"
        },
        "id": "j6qaqF-hufdB",
        "outputId": "1016bbef-ef90-455a-b1b0-0d09eb7e001e"
      },
      "outputs": [
        {
          "data": {
            "text/plain": [
              "{1, 2, 3, 4, 5, 6, 7, 8, 9}"
            ]
          },
          "execution_count": 7,
          "metadata": {},
          "output_type": "execute_result"
        }
      ],
      "source": [
        "A"
      ]
    },
    {
      "cell_type": "code",
      "execution_count": 8,
      "metadata": {
        "colab": {
          "base_uri": "https://localhost:8080/"
        },
        "id": "oWIFg5VQufQ5",
        "outputId": "ec579628-9547-4c45-cc97-5751d52ddf3b"
      },
      "outputs": [
        {
          "data": {
            "text/plain": [
              "45"
            ]
          },
          "execution_count": 8,
          "metadata": {},
          "output_type": "execute_result"
        }
      ],
      "source": [
        "sum(A)"
      ]
    },
    {
      "cell_type": "code",
      "execution_count": 10,
      "metadata": {
        "colab": {
          "base_uri": "https://localhost:8080/"
        },
        "id": "qAGJoWFws3Xb",
        "outputId": "b6f872b5-0171-4a64-c0be-5541c26a358a"
      },
      "outputs": [
        {
          "data": {
            "text/plain": [
              "9"
            ]
          },
          "execution_count": 10,
          "metadata": {},
          "output_type": "execute_result"
        }
      ],
      "source": [
        "max(A)"
      ]
    },
    {
      "cell_type": "code",
      "execution_count": 11,
      "metadata": {
        "colab": {
          "base_uri": "https://localhost:8080/"
        },
        "id": "uBN2fSmGs3Z1",
        "outputId": "5a1b0ffb-7dc8-4f4b-a307-6cfe68ef9606"
      },
      "outputs": [
        {
          "data": {
            "text/plain": [
              "1"
            ]
          },
          "execution_count": 11,
          "metadata": {},
          "output_type": "execute_result"
        }
      ],
      "source": [
        "min(A)"
      ]
    },
    {
      "cell_type": "code",
      "execution_count": 12,
      "metadata": {
        "colab": {
          "base_uri": "https://localhost:8080/"
        },
        "id": "vG8x9Cfks3b4",
        "outputId": "bc9b205d-af41-47b9-a175-8a2e9e212874"
      },
      "outputs": [
        {
          "data": {
            "text/plain": [
              "9"
            ]
          },
          "execution_count": 12,
          "metadata": {},
          "output_type": "execute_result"
        }
      ],
      "source": [
        "len(A)"
      ]
    },
    {
      "cell_type": "code",
      "execution_count": 13,
      "metadata": {
        "colab": {
          "base_uri": "https://localhost:8080/"
        },
        "id": "v9g1rt8os3eO",
        "outputId": "0fd84282-0a0f-4106-b7ae-64d327beff38"
      },
      "outputs": [
        {
          "data": {
            "text/plain": [
              "[(0, 1), (1, 2), (2, 3), (3, 4), (4, 5), (5, 6), (6, 7), (7, 8), (8, 9)]"
            ]
          },
          "execution_count": 13,
          "metadata": {},
          "output_type": "execute_result"
        }
      ],
      "source": [
        "list(enumerate(A))"
      ]
    },
    {
      "cell_type": "code",
      "execution_count": 14,
      "metadata": {
        "colab": {
          "base_uri": "https://localhost:8080/"
        },
        "id": "-XOUYsNts3hZ",
        "outputId": "e609b6e8-37c0-42d6-db55-16d39626bdc3"
      },
      "outputs": [
        {
          "data": {
            "text/plain": [
              "[9, 8, 7, 6, 5, 4, 3, 2, 1]"
            ]
          },
          "execution_count": 14,
          "metadata": {},
          "output_type": "execute_result"
        }
      ],
      "source": [
        "D= sorted(A,reverse=True)\n",
        "D"
      ]
    },
    {
      "cell_type": "code",
      "execution_count": 15,
      "metadata": {
        "colab": {
          "base_uri": "https://localhost:8080/"
        },
        "id": "Y63ZcFdK2-dl",
        "outputId": "648a89eb-b9ba-4a81-fdcd-31dd172eda63"
      },
      "outputs": [
        {
          "data": {
            "text/plain": [
              "[1, 2, 3, 4, 5, 6, 7, 8, 9]"
            ]
          },
          "execution_count": 15,
          "metadata": {},
          "output_type": "execute_result"
        }
      ],
      "source": [
        "sorted(D)"
      ]
    }
  ],
  "metadata": {
    "colab": {
      "provenance": []
    },
    "kernelspec": {
      "display_name": "Python 3",
      "name": "python3"
    },
    "language_info": {
      "name": "python"
    }
  },
  "nbformat": 4,
  "nbformat_minor": 0
}
