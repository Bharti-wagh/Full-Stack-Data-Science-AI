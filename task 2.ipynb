{
 "cells": [
  {
   "cell_type": "markdown",
   "id": "9e7807ce-ba37-4f05-bb60-e936c9e8f8f3",
   "metadata": {},
   "source": [
    "1.Google - type anaconda\n",
    "2. Give your email id\n",
    "3.automatic software is download\n",
    "4.installe software \n",
    "5.start - you can see anaconda folder is created\n",
    "6.once select anaconda folder\n",
    "   anaconda navigator\n",
    "   command prompt\n",
    "   jupytr notebook\n",
    "   spyder\n",
    "7.search -- cmd -- python -- test your code \n",
    "anaconda prompt -- test  the code"
   ]
  },
  {
   "cell_type": "code",
   "execution_count": 1,
   "id": "6970232d-7097-433f-b0df-085ece0a69eb",
   "metadata": {},
   "outputs": [
    {
     "data": {
      "text/plain": [
       "'3.12.7 | packaged by Anaconda, Inc. | (main, Oct  4 2024, 13:17:27) [MSC v.1929 64 bit (AMD64)]'"
      ]
     },
     "execution_count": 1,
     "metadata": {},
     "output_type": "execute_result"
    }
   ],
   "source": [
    "import sys\n",
    "sys.version"
   ]
  },
  {
   "cell_type": "code",
   "execution_count": 3,
   "id": "80647ca4-73ac-4e65-8184-127d18ce5ff0",
   "metadata": {},
   "outputs": [
    {
     "data": {
      "text/plain": [
       "5"
      ]
     },
     "execution_count": 3,
     "metadata": {},
     "output_type": "execute_result"
    }
   ],
   "source": [
    "2+3"
   ]
  },
  {
   "cell_type": "code",
   "execution_count": 5,
   "id": "ac31ce47-bea1-493d-a340-447569942866",
   "metadata": {},
   "outputs": [
    {
     "data": {
      "text/plain": [
       "5"
      ]
     },
     "execution_count": 5,
     "metadata": {},
     "output_type": "execute_result"
    }
   ],
   "source": [
    "10-5"
   ]
  },
  {
   "cell_type": "code",
   "execution_count": 7,
   "id": "a758904e-f801-48cc-9819-fa9e56123f77",
   "metadata": {},
   "outputs": [
    {
     "data": {
      "text/plain": [
       "50"
      ]
     },
     "execution_count": 7,
     "metadata": {},
     "output_type": "execute_result"
    }
   ],
   "source": [
    "10*5"
   ]
  },
  {
   "cell_type": "code",
   "execution_count": 9,
   "id": "1da9d16c-ec8d-48c4-aa36-80ca55463656",
   "metadata": {},
   "outputs": [
    {
     "data": {
      "text/plain": [
       "100000"
      ]
     },
     "execution_count": 9,
     "metadata": {},
     "output_type": "execute_result"
    }
   ],
   "source": [
    "10**5"
   ]
  },
  {
   "cell_type": "code",
   "execution_count": 13,
   "id": "3984a9e8-28fe-4a5b-a810-4a480e668314",
   "metadata": {},
   "outputs": [
    {
     "data": {
      "text/plain": [
       "2.0"
      ]
     },
     "execution_count": 13,
     "metadata": {},
     "output_type": "execute_result"
    }
   ],
   "source": [
    "10/5"
   ]
  },
  {
   "cell_type": "code",
   "execution_count": 11,
   "id": "cdffa3b8-a9c5-4e61-911d-f2163b65bab2",
   "metadata": {},
   "outputs": [
    {
     "data": {
      "text/plain": [
       "2"
      ]
     },
     "execution_count": 11,
     "metadata": {},
     "output_type": "execute_result"
    }
   ],
   "source": [
    "10//5"
   ]
  },
  {
   "cell_type": "markdown",
   "id": "2d833e69-4b9a-4018-b87d-9bb350b63fc7",
   "metadata": {},
   "source": [
    "work with strings."
   ]
  },
  {
   "cell_type": "code",
   "execution_count": 16,
   "id": "16775941-3160-4721-8d4d-62c03da89760",
   "metadata": {},
   "outputs": [
    {
     "data": {
      "text/plain": [
       "'text'"
      ]
     },
     "execution_count": 16,
     "metadata": {},
     "output_type": "execute_result"
    }
   ],
   "source": [
    "\"text\""
   ]
  },
  {
   "cell_type": "code",
   "execution_count": 18,
   "id": "0412ac81-c912-4397-9940-e34bff895d3e",
   "metadata": {},
   "outputs": [
    {
     "data": {
      "text/plain": [
       "'text'"
      ]
     },
     "execution_count": 18,
     "metadata": {},
     "output_type": "execute_result"
    }
   ],
   "source": [
    "'text'"
   ]
  },
  {
   "cell_type": "markdown",
   "id": "e92baae2-1ae6-49a0-a4d7-f153b6621e12",
   "metadata": {},
   "source": [
    "variable \n",
    "\n",
    "variable_name=value"
   ]
  },
  {
   "cell_type": "code",
   "execution_count": 23,
   "id": "9ea63de6-2074-4dde-a2dd-3df4546d2a87",
   "metadata": {},
   "outputs": [
    {
     "data": {
      "text/plain": [
       "5"
      ]
     },
     "execution_count": 23,
     "metadata": {},
     "output_type": "execute_result"
    }
   ],
   "source": [
    "v=5 #v is variable 5 is value \n",
    "v"
   ]
  },
  {
   "cell_type": "code",
   "execution_count": 25,
   "id": "802a6519-d25b-476e-829d-5dc0b73f38b9",
   "metadata": {},
   "outputs": [
    {
     "data": {
      "text/plain": [
       "int"
      ]
     },
     "execution_count": 25,
     "metadata": {},
     "output_type": "execute_result"
    }
   ],
   "source": [
    "type(v)"
   ]
  },
  {
   "cell_type": "code",
   "execution_count": 27,
   "id": "bdd9c54e-f2ac-4a4f-9264-f89e833f6458",
   "metadata": {},
   "outputs": [
    {
     "data": {
      "text/plain": [
       "'python'"
      ]
     },
     "execution_count": 27,
     "metadata": {},
     "output_type": "execute_result"
    }
   ],
   "source": [
    "vd=\"python\" #vd is variable and python is value\n",
    "vd"
   ]
  },
  {
   "cell_type": "code",
   "execution_count": 31,
   "id": "c6204633-ad47-49b3-9e54-e4f47cfc675c",
   "metadata": {},
   "outputs": [
    {
     "data": {
      "text/plain": [
       "str"
      ]
     },
     "execution_count": 31,
     "metadata": {},
     "output_type": "execute_result"
    }
   ],
   "source": [
    "type(vd)"
   ]
  }
 ],
 "metadata": {
  "kernelspec": {
   "display_name": "Python 3 (ipykernel)",
   "language": "python",
   "name": "python3"
  },
  "language_info": {
   "codemirror_mode": {
    "name": "ipython",
    "version": 3
   },
   "file_extension": ".py",
   "mimetype": "text/x-python",
   "name": "python",
   "nbconvert_exporter": "python",
   "pygments_lexer": "ipython3",
   "version": "3.12.7"
  }
 },
 "nbformat": 4,
 "nbformat_minor": 5
}
