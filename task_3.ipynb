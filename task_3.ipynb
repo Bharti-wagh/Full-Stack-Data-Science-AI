{
 "cells": [
  {
   "cell_type": "markdown",
   "id": "cb948198-f126-4f8f-bbc6-16767bbf4962",
   "metadata": {},
   "source": [
    "PYTHON PROGRAMMING LANGUAGE"
   ]
  },
  {
   "cell_type": "markdown",
   "id": "9b6017ce-15b6-4ec9-9537-50d36bd7e017",
   "metadata": {},
   "source": [
    "Python Became the Best Programming Language & fastest programming language. Python is used in Machine Learning, Data Science, Big Data, Web Development, Scripting, llm, generati ai everywhere we will learn pyton from start to end || basic to expert. if you are not done programm then that is totally fine. I will explain from starting from scratch. python software pycharm || vs code || jupyter || spyder"
   ]
  },
  {
   "cell_type": "markdown",
   "id": "f190fa1f-9154-47b6-982a-f5bfcaa3f744",
   "metadata": {},
   "source": [
    "python ide (integrated development enviromnt ) using ide one can write the code,fix the error ,execute the program .using IDE -one can write code ,run code ,debug the code. IDE --> jupyter,vscode,pycharm"
   ]
  },
  {
   "cell_type": "markdown",
   "id": "5e809c5e-d042-4de2-aebd-919e618553c3",
   "metadata": {},
   "source": [
    "python interpreter --> Executes th code line by line.\n",
    "python compiler --> Executes one time at all ."
   ]
  },
  {
   "cell_type": "markdown",
   "id": "4a805f25-5036-4263-97fd-b717d7d2f9fd",
   "metadata": {},
   "source": [
    "cpu vs gpu. \n",
    "\n",
    "local system -- peersonal system -- you install software -- jupyter notebook (cpu)\n",
    "\n",
    "Google --Google machine -- using jupyter notebook -- google (gpu) --cloud"
   ]
  },
  {
   "cell_type": "markdown",
   "id": "a0676eec-6b28-4670-ba39-3a5fc9c725e0",
   "metadata": {},
   "source": [
    "VARIABLE\n",
    "\n",
    "VARIABLE_NAME=VALUE"
   ]
  },
  {
   "cell_type": "code",
   "execution_count": 13,
   "id": "55f28bdc-4bc1-46b6-ae88-894530e55d2a",
   "metadata": {},
   "outputs": [],
   "source": [
    "A=5 #A IS VARIABLE 5 IS A VALUE"
   ]
  },
  {
   "cell_type": "markdown",
   "id": "c7752a25-fed4-4d4a-b868-0f0e0ebb09cb",
   "metadata": {},
   "source": [
    "RULES TO DEFINE VARIABL."
   ]
  },
  {
   "cell_type": "code",
   "execution_count": 22,
   "id": "004be1c7-c32a-49ec-81cd-336b4d9438d8",
   "metadata": {},
   "outputs": [
    {
     "data": {
      "text/plain": [
       "5"
      ]
     },
     "execution_count": 22,
     "metadata": {},
     "output_type": "execute_result"
    }
   ],
   "source": [
    "#VARIABLES ARE CASE SENSITIVE (A ,a both differ)\n",
    "a=5\n",
    "A=10\n",
    "a\n",
    "A"
   ]
  },
  {
   "cell_type": "code",
   "execution_count": 37,
   "id": "cdab5070-04db-45d9-8c33-1411b31616f9",
   "metadata": {},
   "outputs": [
    {
     "data": {
      "text/plain": [
       "250"
      ]
     },
     "execution_count": 37,
     "metadata": {},
     "output_type": "execute_result"
    }
   ],
   "source": [
    "#variable never start with digit but ends with digit.\n",
    "var2=250\n",
    "var2"
   ]
  },
  {
   "cell_type": "code",
   "execution_count": 43,
   "id": "2919c284-3290-47af-903e-5444a8228eef",
   "metadata": {},
   "outputs": [
    {
     "data": {
      "text/plain": [
       "555"
      ]
     },
     "execution_count": 43,
     "metadata": {},
     "output_type": "execute_result"
    }
   ],
   "source": [
    "#special symbol are not allowed to define variable except _ (underscore)\n",
    "__var=555\n",
    "__var"
   ]
  },
  {
   "cell_type": "code",
   "execution_count": 51,
   "id": "8b32653e-094c-455d-abf8-e15f425fdcc3",
   "metadata": {},
   "outputs": [],
   "source": [
    "#keywords are never a variable like\n",
    "# in =\"text\"\n",
    "# in"
   ]
  },
  {
   "cell_type": "code",
   "execution_count": 55,
   "id": "b018a714-dfff-4e2f-892f-b2915ceb24ad",
   "metadata": {},
   "outputs": [],
   "source": [
    "x_train,x_test , y_train ,y_test=190,48,79,89"
   ]
  },
  {
   "cell_type": "code",
   "execution_count": 57,
   "id": "1dc9d8cf-3214-4dc3-92e3-8f9e509261d5",
   "metadata": {},
   "outputs": [
    {
     "data": {
      "text/plain": [
       "89"
      ]
     },
     "execution_count": 57,
     "metadata": {},
     "output_type": "execute_result"
    }
   ],
   "source": [
    "x_train \n",
    "x_test\n",
    "y_train\n",
    "y_test #only last one execute this :"
   ]
  },
  {
   "cell_type": "code",
   "execution_count": 59,
   "id": "72839113-967f-42cf-884d-a9214dc26c1f",
   "metadata": {},
   "outputs": [
    {
     "name": "stdout",
     "output_type": "stream",
     "text": [
      "190\n",
      "48\n",
      "79\n",
      "89\n"
     ]
    }
   ],
   "source": [
    "print(x_train)\n",
    "print(x_test)\n",
    "print(y_train)\n",
    "print(y_test) #by using print function executes all variable "
   ]
  },
  {
   "cell_type": "code",
   "execution_count": null,
   "id": "24e4fc14-710d-4d7d-be77-ac4afff518db",
   "metadata": {},
   "outputs": [],
   "source": [
    "#python function always ends with ()"
   ]
  },
  {
   "cell_type": "markdown",
   "id": "71494b40-ff45-439f-ae11-644712f8ccd3",
   "metadata": {},
   "source": [
    "keywords are reserve words."
   ]
  },
  {
   "cell_type": "code",
   "execution_count": 62,
   "id": "7de7f6ec-1cc7-442c-9805-9366e9d6e801",
   "metadata": {},
   "outputs": [
    {
     "data": {
      "text/plain": [
       "['False',\n",
       " 'None',\n",
       " 'True',\n",
       " 'and',\n",
       " 'as',\n",
       " 'assert',\n",
       " 'async',\n",
       " 'await',\n",
       " 'break',\n",
       " 'class',\n",
       " 'continue',\n",
       " 'def',\n",
       " 'del',\n",
       " 'elif',\n",
       " 'else',\n",
       " 'except',\n",
       " 'finally',\n",
       " 'for',\n",
       " 'from',\n",
       " 'global',\n",
       " 'if',\n",
       " 'import',\n",
       " 'in',\n",
       " 'is',\n",
       " 'lambda',\n",
       " 'nonlocal',\n",
       " 'not',\n",
       " 'or',\n",
       " 'pass',\n",
       " 'raise',\n",
       " 'return',\n",
       " 'try',\n",
       " 'while',\n",
       " 'with',\n",
       " 'yield']"
      ]
     },
     "execution_count": 62,
     "metadata": {},
     "output_type": "execute_result"
    }
   ],
   "source": [
    "import keyword\n",
    "keyword.kwlist #all keyword"
   ]
  },
  {
   "cell_type": "code",
   "execution_count": 64,
   "id": "c79e52a0-ffc6-4dcd-b3b9-750bdd343402",
   "metadata": {},
   "outputs": [
    {
     "ename": "SyntaxError",
     "evalue": "invalid syntax (934407940.py, line 1)",
     "output_type": "error",
     "traceback": [
      "\u001b[1;36m  Cell \u001b[1;32mIn[64], line 1\u001b[1;36m\u001b[0m\n\u001b[1;33m    for =90\u001b[0m\n\u001b[1;37m        ^\u001b[0m\n\u001b[1;31mSyntaxError\u001b[0m\u001b[1;31m:\u001b[0m invalid syntax\n"
     ]
    }
   ],
   "source": [
    "for =90\n",
    "for #its gives error because its keyword"
   ]
  },
  {
   "cell_type": "code",
   "execution_count": 68,
   "id": "e88a2a58-91e8-42c0-ad87-3134d4174678",
   "metadata": {},
   "outputs": [
    {
     "data": {
      "text/plain": [
       "90"
      ]
     },
     "execution_count": 68,
     "metadata": {},
     "output_type": "execute_result"
    }
   ],
   "source": [
    "For =90\n",
    "For #it execute because its not keyword its just variable "
   ]
  },
  {
   "cell_type": "markdown",
   "id": "3d54520c-c16d-412e-bcaf-cf98130c06a5",
   "metadata": {},
   "source": [
    "variable are completed"
   ]
  }
 ],
 "metadata": {
  "kernelspec": {
   "display_name": "Python 3 (ipykernel)",
   "language": "python",
   "name": "python3"
  },
  "language_info": {
   "codemirror_mode": {
    "name": "ipython",
    "version": 3
   },
   "file_extension": ".py",
   "mimetype": "text/x-python",
   "name": "python",
   "nbconvert_exporter": "python",
   "pygments_lexer": "ipython3",
   "version": "3.12.7"
  }
 },
 "nbformat": 4,
 "nbformat_minor": 5
}
